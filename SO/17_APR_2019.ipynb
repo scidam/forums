{
 "cells": [
  {
   "cell_type": "markdown",
   "metadata": {},
   "source": [
    "# Content"
   ]
  },
  {
   "cell_type": "markdown",
   "metadata": {},
   "source": [
    "1. https://stackoverflow.com/questions/55719276/linear-regression-on-each-column-without-creating-for-loops-or-functions\n",
    "\n",
    "2. https://stackoverflow.com/questions/55718982/extract-xml-to-pandas-dataframe-with-unknown-number-of-nodes\n",
    "\n",
    "3. https://stackoverflow.com/questions/55718291/how-to-transform-a-fft-fast-fourier-transform-into-a-polar-transformation-with/55722602#55722602\n"
   ]
  },
  {
   "cell_type": "markdown",
   "metadata": {},
   "source": [
    "#1. https://stackoverflow.com/questions/55719276/linear-regression-on-each-column-without-creating-for-loops-or-functions"
   ]
  },
  {
   "cell_type": "code",
   "execution_count": 99,
   "metadata": {},
   "outputs": [
    {
     "data": {
      "text/html": [
       "<div>\n",
       "<style scoped>\n",
       "    .dataframe tbody tr th:only-of-type {\n",
       "        vertical-align: middle;\n",
       "    }\n",
       "\n",
       "    .dataframe tbody tr th {\n",
       "        vertical-align: top;\n",
       "    }\n",
       "\n",
       "    .dataframe thead th {\n",
       "        text-align: right;\n",
       "    }\n",
       "</style>\n",
       "<table border=\"1\" class=\"dataframe\">\n",
       "  <thead>\n",
       "    <tr style=\"text-align: right;\">\n",
       "      <th></th>\n",
       "      <th>0</th>\n",
       "      <th>1</th>\n",
       "      <th>2</th>\n",
       "      <th>3</th>\n",
       "      <th>4</th>\n",
       "      <th>5</th>\n",
       "      <th>6</th>\n",
       "      <th>7</th>\n",
       "      <th>8</th>\n",
       "      <th>9</th>\n",
       "    </tr>\n",
       "  </thead>\n",
       "  <tbody>\n",
       "    <tr>\n",
       "      <th>slope</th>\n",
       "      <td>-8.406563</td>\n",
       "      <td>2.985918</td>\n",
       "      <td>14.651689</td>\n",
       "      <td>-12.288305</td>\n",
       "      <td>0.548100</td>\n",
       "      <td>-4.993342</td>\n",
       "      <td>7.212112</td>\n",
       "      <td>-8.405509</td>\n",
       "      <td>11.239807</td>\n",
       "      <td>-3.423878</td>\n",
       "    </tr>\n",
       "    <tr>\n",
       "      <th>intercept</th>\n",
       "      <td>53.358677</td>\n",
       "      <td>48.062283</td>\n",
       "      <td>41.966651</td>\n",
       "      <td>55.653192</td>\n",
       "      <td>49.197692</td>\n",
       "      <td>51.874620</td>\n",
       "      <td>46.091797</td>\n",
       "      <td>53.852788</td>\n",
       "      <td>43.923020</td>\n",
       "      <td>51.187425</td>\n",
       "    </tr>\n",
       "    <tr>\n",
       "      <th>rvalue</th>\n",
       "      <td>-0.080954</td>\n",
       "      <td>0.028337</td>\n",
       "      <td>0.140719</td>\n",
       "      <td>-0.124478</td>\n",
       "      <td>0.004984</td>\n",
       "      <td>-0.048920</td>\n",
       "      <td>0.073542</td>\n",
       "      <td>-0.089994</td>\n",
       "      <td>0.114038</td>\n",
       "      <td>-0.032706</td>\n",
       "    </tr>\n",
       "    <tr>\n",
       "      <th>p-value</th>\n",
       "      <td>0.423318</td>\n",
       "      <td>0.779579</td>\n",
       "      <td>0.162578</td>\n",
       "      <td>0.217226</td>\n",
       "      <td>0.960747</td>\n",
       "      <td>0.628858</td>\n",
       "      <td>0.467128</td>\n",
       "      <td>0.373233</td>\n",
       "      <td>0.258591</td>\n",
       "      <td>0.746671</td>\n",
       "    </tr>\n",
       "    <tr>\n",
       "      <th>stderr</th>\n",
       "      <td>10.455359</td>\n",
       "      <td>10.639700</td>\n",
       "      <td>10.413089</td>\n",
       "      <td>9.894507</td>\n",
       "      <td>11.108115</td>\n",
       "      <td>10.298535</td>\n",
       "      <td>9.879534</td>\n",
       "      <td>9.396627</td>\n",
       "      <td>9.891350</td>\n",
       "      <td>10.569350</td>\n",
       "    </tr>\n",
       "  </tbody>\n",
       "</table>\n",
       "</div>"
      ],
      "text/plain": [
       "                   0          1          2          3          4          5  \\\n",
       "slope      -8.406563   2.985918  14.651689 -12.288305   0.548100  -4.993342   \n",
       "intercept  53.358677  48.062283  41.966651  55.653192  49.197692  51.874620   \n",
       "rvalue     -0.080954   0.028337   0.140719  -0.124478   0.004984  -0.048920   \n",
       "p-value     0.423318   0.779579   0.162578   0.217226   0.960747   0.628858   \n",
       "stderr     10.455359  10.639700  10.413089   9.894507  11.108115  10.298535   \n",
       "\n",
       "                   6          7          8          9  \n",
       "slope       7.212112  -8.405509  11.239807  -3.423878  \n",
       "intercept  46.091797  53.852788  43.923020  51.187425  \n",
       "rvalue      0.073542  -0.089994   0.114038  -0.032706  \n",
       "p-value     0.467128   0.373233   0.258591   0.746671  \n",
       "stderr      9.879534   9.396627   9.891350  10.569350  "
      ]
     },
     "execution_count": 99,
     "metadata": {},
     "output_type": "execute_result"
    }
   ],
   "source": [
    "import numpy as np\n",
    "import pandas as pd\n",
    "from functools import partial\n",
    "from scipy.stats import linregress\n",
    "\n",
    "np.random.seed(1997)\n",
    "df = pd.DataFrame(pd.np.random.rand(100, 10))\n",
    "\n",
    "df.apply(lambda x: linregress(x, y=df.index), result_type='expand').rename(index={0: 'slope', 1: 'intercept', 2: 'rvalue', 3:\n",
    "                                                                                  'p-value', 4:'stderr'})\n"
   ]
  },
  {
   "cell_type": "markdown",
   "metadata": {},
   "source": [
    "#2. https://stackoverflow.com/questions/55718982/extract-xml-to-pandas-dataframe-with-unknown-number-of-nodes"
   ]
  },
  {
   "cell_type": "code",
   "execution_count": 100,
   "metadata": {},
   "outputs": [],
   "source": [
    "data = \"\"\"<?xml version = '1.0' encoding = 'UTF-8'?>\n",
    "<EVENT spec=\"IDL:com/RfcCallEvents:1.0#Z_BAPI_UPDT_SERV_NOTIFICATION\">\n",
    "   <eventHeader>\n",
    "      <objectName/>\n",
    "      <objectKey/>\n",
    "      <eventName/>\n",
    "      <eventId/>\n",
    "   </eventHeader>\n",
    "   <TAB_DETAIL_DATA>\n",
    "      <ZNEWFLAG>X</ZNEWFLAG>\n",
    "      <FENUM>2</FENUM>\n",
    "      <BAUTL>661-01727</BAUTL>\n",
    "      <OTEIL/>\n",
    "      <FECOD>KBB</FECOD>\n",
    "      <URCOD>B08</URCOD>\n",
    "      <ZCOMPMDF>A</ZCOMPMDF>\n",
    "      <ZOPREPL/>\n",
    "      <ZWRNCOV>LP</ZWRNCOV>\n",
    "      <ZWRNREF/>\n",
    "      <ZNEWPS>C07XMAAEJCLD</ZNEWPS>\n",
    "      <ZOLDPN/>\n",
    "      <ZOLDPD/>\n",
    "      <ZOLDPS>C07XMAACJCLD</ZOLDPS>\n",
    "      <MAILINFECOD/>\n",
    "      <ZUNITPR/>\n",
    "      <ZNEWPD/>\n",
    "      <ZNEWPN/>\n",
    "      <ZABUSE/>\n",
    "      <ZRPS>S</ZRPS>\n",
    "      <ZEXKGB/>\n",
    "      <ZKGBMM/>\n",
    "      <ZINSTS>000</ZINSTS>\n",
    "      <ZACKBB/>\n",
    "      <ZCHKOVR/>\n",
    "      <ZSNDB/>\n",
    "      <ZNOTAFISCAL/>\n",
    "      <ZCONSGMT/>\n",
    "      <ZPRTCONS/>\n",
    "      <ZZRTNTRNO/>\n",
    "      <ZZRTNCAR/>\n",
    "      <ZZINSPECT/>\n",
    "      <ZZPR_OPT/>\n",
    "   </TAB_DETAIL_DATA>\n",
    "   <TAB_DETAIL_DATA>\n",
    "      <ZNEWFLAG>X</ZNEWFLAG>\n",
    "      <FENUM>1</FENUM>\n",
    "      <BAUTL>661-01727</BAUTL>\n",
    "      <OTEIL/>\n",
    "      <FECOD>KBB</FECOD>\n",
    "      <URCOD>B08</URCOD>\n",
    "      <ZCOMPMDF>A</ZCOMPMDF>\n",
    "      <ZOPREPL/>\n",
    "      <ZWRNCOV>LP</ZWRNCOV>\n",
    "      <ZWRNREF/>\n",
    "      <ZNEWPS>C07XMAAEJCLD</ZNEWPS>\n",
    "      <ZOLDPN/>\n",
    "      <ZOLDPD/>\n",
    "      <ZOLDPS>C07XMAACJCLD</ZOLDPS>\n",
    "      <MAILINFECOD/>\n",
    "      <ZUNITPR/>\n",
    "      <ZNEWPD/>\n",
    "      <ZNEWPN/>\n",
    "      <ZABUSE/>\n",
    "      <ZRPS>S</ZRPS>\n",
    "      <ZEXKGB/>\n",
    "      <ZKGBMM/>\n",
    "      <ZINSTS>000</ZINSTS>\n",
    "      <ZACKBB/>\n",
    "      <ZCHKOVR/>\n",
    "      <ZSNDB/>\n",
    "      <ZNOTAFISCAL/>\n",
    "      <ZCONSGMT/>\n",
    "      <ZPRTCONS/>\n",
    "      <ZZRTNTRNO/>\n",
    "      <ZZRTNCAR/>\n",
    "      <ZZINSPECT/>\n",
    "      <ZZPR_OPT/>\n",
    "   </TAB_DETAIL_DATA>\n",
    "   <TAB_HEADER_DATA>\n",
    "      <QMNUM>030334920069</QMNUM>\n",
    "      <ZGSXREF>CONSUMER</ZGSXREF>\n",
    "      <ZVANTREF>G338005317</ZVANTREF>\n",
    "      <ZSHIPER/>\n",
    "      <ZSHPRNO/>\n",
    "      <ZRVREF/>\n",
    "      <ZTECHID>4HQ2OD6C19</ZTECHID>\n",
    "      <ZADREPAIR/>\n",
    "      <ZZKATR7/>\n",
    "   </TAB_HEADER_DATA>\n",
    "</EVENT>\"\"\""
   ]
  },
  {
   "cell_type": "code",
   "execution_count": 101,
   "metadata": {},
   "outputs": [],
   "source": [
    "import xmltodict"
   ]
  },
  {
   "cell_type": "code",
   "execution_count": 102,
   "metadata": {},
   "outputs": [],
   "source": [
    "dct = xmltodict.parse(data)"
   ]
  },
  {
   "cell_type": "code",
   "execution_count": 103,
   "metadata": {},
   "outputs": [],
   "source": [
    "def make_df(name=\"TAB_DETAIL_DATA\", dct=dct):\n",
    "    df = pd.DataFrame()\n",
    "    if isinstance(dct['EVENT'][name], list):\n",
    "        for j in dct['EVENT'][name]:\n",
    "            _ = pd.DataFrame({'value': [y for x, y in j.items()]}, index=j.keys())\n",
    "            df = pd.concat([df, _])\n",
    "    else:\n",
    "        df = pd.DataFrame({'value': [y for x, y in dct['EVENT'][name].items()]}, index=dct['EVENT'][name].keys())\n",
    "    return df"
   ]
  },
  {
   "cell_type": "code",
   "execution_count": 104,
   "metadata": {
    "scrolled": true
   },
   "outputs": [
    {
     "data": {
      "text/html": [
       "<div>\n",
       "<style scoped>\n",
       "    .dataframe tbody tr th:only-of-type {\n",
       "        vertical-align: middle;\n",
       "    }\n",
       "\n",
       "    .dataframe tbody tr th {\n",
       "        vertical-align: top;\n",
       "    }\n",
       "\n",
       "    .dataframe thead th {\n",
       "        text-align: right;\n",
       "    }\n",
       "</style>\n",
       "<table border=\"1\" class=\"dataframe\">\n",
       "  <thead>\n",
       "    <tr style=\"text-align: right;\">\n",
       "      <th></th>\n",
       "      <th>value</th>\n",
       "    </tr>\n",
       "  </thead>\n",
       "  <tbody>\n",
       "    <tr>\n",
       "      <th>QMNUM</th>\n",
       "      <td>030334920069</td>\n",
       "    </tr>\n",
       "    <tr>\n",
       "      <th>ZGSXREF</th>\n",
       "      <td>CONSUMER</td>\n",
       "    </tr>\n",
       "    <tr>\n",
       "      <th>ZVANTREF</th>\n",
       "      <td>G338005317</td>\n",
       "    </tr>\n",
       "    <tr>\n",
       "      <th>ZSHIPER</th>\n",
       "      <td>None</td>\n",
       "    </tr>\n",
       "    <tr>\n",
       "      <th>ZSHPRNO</th>\n",
       "      <td>None</td>\n",
       "    </tr>\n",
       "    <tr>\n",
       "      <th>ZRVREF</th>\n",
       "      <td>None</td>\n",
       "    </tr>\n",
       "    <tr>\n",
       "      <th>ZTECHID</th>\n",
       "      <td>4HQ2OD6C19</td>\n",
       "    </tr>\n",
       "    <tr>\n",
       "      <th>ZADREPAIR</th>\n",
       "      <td>None</td>\n",
       "    </tr>\n",
       "    <tr>\n",
       "      <th>ZZKATR7</th>\n",
       "      <td>None</td>\n",
       "    </tr>\n",
       "  </tbody>\n",
       "</table>\n",
       "</div>"
      ],
      "text/plain": [
       "                  value\n",
       "QMNUM      030334920069\n",
       "ZGSXREF        CONSUMER\n",
       "ZVANTREF     G338005317\n",
       "ZSHIPER            None\n",
       "ZSHPRNO            None\n",
       "ZRVREF             None\n",
       "ZTECHID      4HQ2OD6C19\n",
       "ZADREPAIR          None\n",
       "ZZKATR7            None"
      ]
     },
     "execution_count": 104,
     "metadata": {},
     "output_type": "execute_result"
    }
   ],
   "source": [
    "make_df(name=\"TAB_HEADER_DATA\")"
   ]
  },
  {
   "cell_type": "markdown",
   "metadata": {},
   "source": [
    " #3. https://stackoverflow.com/questions/55718291/how-to-transform-a-fft-fast-fourier-transform-into-a-polar-transformation-with/55722602#55722602"
   ]
  },
  {
   "cell_type": "code",
   "execution_count": 241,
   "metadata": {},
   "outputs": [
    {
     "data": {
      "image/png": "[encoded data removed]",
      "text/plain": [
       "<Figure size 432x288 with 2 Axes>"
      ]
     },
     "metadata": {},
     "output_type": "display_data"
    }
   ],
   "source": [
    "import cv2\n",
    "import numpy as np\n",
    "from matplotlib import pyplot as plt\n",
    "\n",
    "%matplotlib inline\n",
    "\n",
    "img = cv2.imread(r'./images/1428327654249.png', cv2.IMREAD_GRAYSCALE)\n",
    "\n",
    "f = np.fft.fft2(img)\n",
    "fshift = np.fft.fftshift(f)\n",
    "magnitude_spectrum = np.abs(fshift)**2\n",
    "\n",
    "plt.subplot(121), plt.imshow(img, cmap='gray')\n",
    "plt.title('Input Image'), plt.xticks([]), plt.yticks([])\n",
    "\n",
    "plt.subplot(122), plt.imshow(magnitude_spectrum, cmap='gray')\n",
    "plt.title('Magnitude Spectrum'), plt.xticks([]), plt.yticks([])\n",
    "\n",
    "plt.show()"
   ]
  },
  {
   "cell_type": "code",
   "execution_count": 242,
   "metadata": {},
   "outputs": [
    {
     "data": {
      "text/plain": [
       "(254, 549)"
      ]
     },
     "execution_count": 242,
     "metadata": {},
     "output_type": "execute_result"
    }
   ],
   "source": [
    "magnitude_spectrum.shape"
   ]
  },
  {
   "cell_type": "code",
   "execution_count": 243,
   "metadata": {},
   "outputs": [],
   "source": [
    "def transform_data(m):\n",
    "    dpix, dpiy = m.shape\n",
    "    x_c, y_c = np.unravel_index(np.argmax(m), m.shape)\n",
    "    angles = np.linspace(0, np.pi*2, min(dpix, dpiy))\n",
    "    mrc = min(abs(x_c - dpix), abs(y_c - dpiy), x_c, y_c)\n",
    "    radiuses = np.linspace(0, mrc, max(dpix, dpiy))\n",
    "    A, R = np.meshgrid(angles, radiuses)\n",
    "    X = R * np.cos(A)\n",
    "    Y = R * np.sin(A)\n",
    "    return A, R, m[X.astype(int) + mrc - 1, Y.astype(int) + mrc - 1]\n"
   ]
  },
  {
   "cell_type": "code",
   "execution_count": 258,
   "metadata": {},
   "outputs": [],
   "source": [
    "angles, radiuses, m = transform_data(magnitude_spectrum)"
   ]
  },
  {
   "cell_type": "code",
   "execution_count": 259,
   "metadata": {},
   "outputs": [
    {
     "data": {
      "text/plain": [
       "<matplotlib.contour.QuadContourSet at 0x7ff4af0bbc50>"
      ]
     },
     "execution_count": 259,
     "metadata": {},
     "output_type": "execute_result"
    },
    {
     "data": {
      "image/png": "[encoded data removed]",
      "text/plain": [
       "<Figure size 432x288 with 1 Axes>"
      ]
     },
     "metadata": {},
     "output_type": "display_data"
    }
   ],
   "source": [
    "plt.contourf(angles, radiuses, m)"
   ]
  },
  {
   "cell_type": "code",
   "execution_count": 248,
   "metadata": {},
   "outputs": [
    {
     "data": {
      "text/plain": [
       "[<matplotlib.lines.Line2D at 0x7ff4af0ff438>]"
      ]
     },
     "execution_count": 248,
     "metadata": {},
     "output_type": "execute_result"
    },
    {
     "data": {
      "image/png": "[encoded data removed]",
      "text/plain": [
       "<Figure size 432x288 with 1 Axes>"
      ]
     },
     "metadata": {},
     "output_type": "display_data"
    }
   ],
   "source": [
    "sample_angles = np.linspace(0,  2 * np.pi, len(c.sum(axis=0))) / np.pi*180\n",
    "\n",
    "plt.plot(sample_angles, c.sum(axis=0))"
   ]
  },
  {
   "cell_type": "code",
   "execution_count": 251,
   "metadata": {},
   "outputs": [],
   "source": [
    "turn_angle_in_degrees = 90 - sample_angles[np.argmax(c.sum(axis=0))]"
   ]
  },
  {
   "cell_type": "code",
   "execution_count": 257,
   "metadata": {},
   "outputs": [
    {
     "name": "stdout",
     "output_type": "stream",
     "text": [
      "The source image should be turned on 3.2015810276679844 degrees.\n"
     ]
    }
   ],
   "source": [
    "print(\"The source image should be turned on {} degrees.\".format(turn_angle_in_degrees))"
   ]
  }
 ],
 "metadata": {
  "kernelspec": {
   "display_name": "Python 3",
   "language": "python",
   "name": "python3"
  },
  "language_info": {
   "codemirror_mode": {
    "name": "ipython",
    "version": 3
   },
   "file_extension": ".py",
   "mimetype": "text/x-python",
   "name": "python",
   "nbconvert_exporter": "python",
   "pygments_lexer": "ipython3",
   "version": "3.5.4"
  }
 },
 "nbformat": 4,
 "nbformat_minor": 2
}
