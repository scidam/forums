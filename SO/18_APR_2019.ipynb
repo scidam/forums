{
 "cells": [
  {
   "cell_type": "markdown",
   "metadata": {},
   "source": [
    "#1. https://stackoverflow.com/questions/55736800/smooth-plotting-all-columns-of-a-data-frame"
   ]
  },
  {
   "cell_type": "code",
   "execution_count": 267,
   "metadata": {},
   "outputs": [],
   "source": [
    "import pandas as pd\n",
    "import numpy as np"
   ]
  },
  {
   "cell_type": "code",
   "execution_count": 268,
   "metadata": {},
   "outputs": [],
   "source": [
    "data = pd.read_clipboard()"
   ]
  },
  {
   "cell_type": "code",
   "execution_count": 269,
   "metadata": {},
   "outputs": [
    {
     "data": {
      "text/html": [
       "<div>\n",
       "<style scoped>\n",
       "    .dataframe tbody tr th:only-of-type {\n",
       "        vertical-align: middle;\n",
       "    }\n",
       "\n",
       "    .dataframe tbody tr th {\n",
       "        vertical-align: top;\n",
       "    }\n",
       "\n",
       "    .dataframe thead th {\n",
       "        text-align: right;\n",
       "    }\n",
       "</style>\n",
       "<table border=\"1\" class=\"dataframe\">\n",
       "  <thead>\n",
       "    <tr style=\"text-align: right;\">\n",
       "      <th></th>\n",
       "      <th>Date</th>\n",
       "      <th>AA</th>\n",
       "      <th>BB</th>\n",
       "      <th>CC</th>\n",
       "      <th>DD</th>\n",
       "      <th>EE</th>\n",
       "      <th>FF</th>\n",
       "    </tr>\n",
       "  </thead>\n",
       "  <tbody>\n",
       "    <tr>\n",
       "      <th>0</th>\n",
       "      <td>2019-01-15</td>\n",
       "      <td>0.0</td>\n",
       "      <td>-1.0</td>\n",
       "      <td>0.0</td>\n",
       "      <td>0.0</td>\n",
       "      <td>0.0</td>\n",
       "      <td>2.0</td>\n",
       "    </tr>\n",
       "    <tr>\n",
       "      <th>1</th>\n",
       "      <td>2019-01-17</td>\n",
       "      <td>0.0</td>\n",
       "      <td>-1.0</td>\n",
       "      <td>-1.0</td>\n",
       "      <td>-1.0</td>\n",
       "      <td>0.0</td>\n",
       "      <td>2.0</td>\n",
       "    </tr>\n",
       "    <tr>\n",
       "      <th>2</th>\n",
       "      <td>2019-01-22</td>\n",
       "      <td>1.0</td>\n",
       "      <td>-1.0</td>\n",
       "      <td>1.0</td>\n",
       "      <td>-1.0</td>\n",
       "      <td>0.0</td>\n",
       "      <td>2.0</td>\n",
       "    </tr>\n",
       "    <tr>\n",
       "      <th>3</th>\n",
       "      <td>2019-01-24</td>\n",
       "      <td>0.0</td>\n",
       "      <td>0.0</td>\n",
       "      <td>0.0</td>\n",
       "      <td>0.0</td>\n",
       "      <td>0.0</td>\n",
       "      <td>2.0</td>\n",
       "    </tr>\n",
       "    <tr>\n",
       "      <th>4</th>\n",
       "      <td>2019-01-29</td>\n",
       "      <td>1.0</td>\n",
       "      <td>0.0</td>\n",
       "      <td>-1.0</td>\n",
       "      <td>0.0</td>\n",
       "      <td>-1.0</td>\n",
       "      <td>2.0</td>\n",
       "    </tr>\n",
       "    <tr>\n",
       "      <th>5</th>\n",
       "      <td>2019-01-31</td>\n",
       "      <td>0.0</td>\n",
       "      <td>-1.0</td>\n",
       "      <td>0.0</td>\n",
       "      <td>0.0</td>\n",
       "      <td>0.0</td>\n",
       "      <td>2.0</td>\n",
       "    </tr>\n",
       "    <tr>\n",
       "      <th>6</th>\n",
       "      <td>2019-02-05</td>\n",
       "      <td>1.0</td>\n",
       "      <td>1.0</td>\n",
       "      <td>1.0</td>\n",
       "      <td>0.0</td>\n",
       "      <td>1.0</td>\n",
       "      <td>2.0</td>\n",
       "    </tr>\n",
       "    <tr>\n",
       "      <th>7</th>\n",
       "      <td>2019-02-12</td>\n",
       "      <td>2.0</td>\n",
       "      <td>1.0</td>\n",
       "      <td>1.0</td>\n",
       "      <td>0.0</td>\n",
       "      <td>2.0</td>\n",
       "      <td>2.0</td>\n",
       "    </tr>\n",
       "  </tbody>\n",
       "</table>\n",
       "</div>"
      ],
      "text/plain": [
       "         Date   AA   BB   CC   DD   EE   FF\n",
       "0  2019-01-15  0.0 -1.0  0.0  0.0  0.0  2.0\n",
       "1  2019-01-17  0.0 -1.0 -1.0 -1.0  0.0  2.0\n",
       "2  2019-01-22  1.0 -1.0  1.0 -1.0  0.0  2.0\n",
       "3  2019-01-24  0.0  0.0  0.0  0.0  0.0  2.0\n",
       "4  2019-01-29  1.0  0.0 -1.0  0.0 -1.0  2.0\n",
       "5  2019-01-31  0.0 -1.0  0.0  0.0  0.0  2.0\n",
       "6  2019-02-05  1.0  1.0  1.0  0.0  1.0  2.0\n",
       "7  2019-02-12  2.0  1.0  1.0  0.0  2.0  2.0"
      ]
     },
     "execution_count": 269,
     "metadata": {},
     "output_type": "execute_result"
    }
   ],
   "source": [
    "data.drop(['Index'], axis=1, inplace=True)\n",
    "data"
   ]
  },
  {
   "cell_type": "code",
   "execution_count": 270,
   "metadata": {},
   "outputs": [],
   "source": [
    "def add_smooth_plots(df, ax,  timecolumn='Date', interpolation_method='cubic', colors='rgbky'):\n",
    "    from itertools import cycle\n",
    "    ind = pd.to_datetime(df.loc[:, timecolumn])\n",
    "    tick_labels =ind.dt.strftime(\"%Y-%m-%d\")\n",
    "    color = cycle(colors)\n",
    "    for i, col in enumerate(df.columns):\n",
    "        if col != timecolumn:\n",
    "            c = next(color)\n",
    "            s = pd.Series(df.loc[:, col].values, index=ind)\n",
    "            intp = s.resample('0.5D').interpolate(method=interpolation_method)\n",
    "            true_ticks = intp.index.isin(ind)\n",
    "            vals = intp.values\n",
    "            intp = intp.reset_index()\n",
    "            ticks = intp.index[true_ticks]\n",
    "            ax.plot(np.arange(len(vals)), vals, label=col, color=c)\n",
    "            ax.set_xticks(ticks)\n",
    "            ax.set_xticklabels(tick_labels.values, rotation=45)\n",
    "            ax.legend(title='Columns')\n",
    "    return ax\n",
    "\n"
   ]
  },
  {
   "cell_type": "code",
   "execution_count": 271,
   "metadata": {},
   "outputs": [],
   "source": [
    "from matplotlib import pyplot as plt\n",
    "fig = plt.figure()\n",
    "ax = fig.add_subplot(111)"
   ]
  },
  {
   "cell_type": "code",
   "execution_count": 272,
   "metadata": {},
   "outputs": [
    {
     "data": {
      "text/plain": [
       "<matplotlib.axes._subplots.AxesSubplot at 0x7f84c2f1d7f0>"
      ]
     },
     "execution_count": 272,
     "metadata": {},
     "output_type": "execute_result"
    }
   ],
   "source": [
    "add_smooth_plots(data, ax)\n"
   ]
  },
  {
   "cell_type": "code",
   "execution_count": 273,
   "metadata": {},
   "outputs": [
    {
     "data": {
      "image/png": "[encoded data removed]",
      "text/plain": [
       "<Figure size 432x288 with 1 Axes>"
      ]
     },
     "metadata": {},
     "output_type": "display_data"
    }
   ],
   "source": [
    "plt.show()\n"
   ]
  },
  {
   "cell_type": "markdown",
   "metadata": {},
   "source": [
    "#2. https://stackoverflow.com/questions/55739440/why-unboundlocalerror-occurs-when-inner-function-assign-value-to-local-variables/55739465?noredirect=1#comment98156261_55739465"
   ]
  },
  {
   "cell_type": "code",
   "execution_count": 1,
   "metadata": {},
   "outputs": [
    {
     "ename": "IndentationError",
     "evalue": "unindent does not match any outer indentation level (<tokenize>, line 37)",
     "output_type": "error",
     "traceback": [
      "\u001b[0;36m  File \u001b[0;32m\"<tokenize>\"\u001b[0;36m, line \u001b[0;32m37\u001b[0m\n\u001b[0;31m    12 LOAD_CONST               2 (<code object inner at 0x7ff003b56b70, file \"<stdin>\", line 3>)\u001b[0m\n\u001b[0m    ^\u001b[0m\n\u001b[0;31mIndentationError\u001b[0m\u001b[0;31m:\u001b[0m unindent does not match any outer indentation level\n"
     ]
    }
   ],
   "source": [
    "Lets look at bytecode: \n",
    "\n",
    "import dis\n",
    "\n",
    "\n",
    "def outer2():\n",
    "    number = 20\n",
    "    def inner():\n",
    "        if number >= 20:\n",
    "            number\n",
    "    inner()\n",
    "\n",
    "\n",
    "\n",
    "def outer3():\n",
    "    number = 20\n",
    "    def inner():\n",
    "        if number >= 20:\n",
    "            number = number + 1\n",
    "    inner()\n",
    "\n",
    "\n",
    "def outer4():\n",
    "    number = 20\n",
    "    def inner():\n",
    "        nonlocal number\n",
    "        if number >= 20:\n",
    "            number = number + 1\n",
    "    inner()\n",
    "\n",
    ">>> dis.dis(outer2)\n",
    "  2           0 LOAD_CONST               1 (20)\n",
    "              3 STORE_DEREF              0 (number)\n",
    "\n",
    "  3           6 LOAD_CLOSURE             0 (number)\n",
    "              9 BUILD_TUPLE              1\n",
    "             12 LOAD_CONST               2 (<code object inner at 0x7ff003b56b70, file \"<stdin>\", line 3>)\n",
    "             15 LOAD_CONST               3 ('outer2.<locals>.inner')\n",
    "             18 MAKE_CLOSURE             0\n",
    "             21 STORE_FAST               0 (inner)\n",
    "\n",
    "  6          24 LOAD_FAST                0 (inner)\n",
    "             27 CALL_FUNCTION            0 (0 positional, 0 keyword pair)\n",
    "             30 POP_TOP\n",
    "             31 LOAD_CONST               0 (None)\n",
    "             34 RETURN_VALUE\n",
    "\n",
    "\n",
    ">>> dis.dis(outer3)\n",
    "  2           0 LOAD_CONST               1 (20)\n",
    "              3 STORE_FAST               0 (number)\n",
    "\n",
    "  3           6 LOAD_CONST               2 (<code object inner at 0x7ff003b56ae0, file \"<stdin>\", line 3>)\n",
    "              9 LOAD_CONST               3 ('outer3.<locals>.inner')\n",
    "             12 MAKE_FUNCTION            0\n",
    "             15 STORE_FAST               1 (inner)\n",
    "\n",
    "  6          18 LOAD_FAST                1 (inner)\n",
    "             21 CALL_FUNCTION            0 (0 positional, 0 keyword pair)\n",
    "             24 POP_TOP\n",
    "             25 LOAD_CONST               0 (None)\n",
    "             28 RETURN_VALUE\n",
    "\n",
    "\n",
    ">>> dis.dis(outer4)\n",
    "  2           0 LOAD_CONST               1 (20)\n",
    "              3 STORE_DEREF              0 (number)\n",
    "\n",
    "  3           6 LOAD_CLOSURE             0 (number)\n",
    "              9 BUILD_TUPLE              1\n",
    "             12 LOAD_CONST               2 (<code object inner at 0x7ff003af7e40, file \"<stdin>\", line 3>)\n",
    "             15 LOAD_CONST               3 ('outer4.<locals>.inner')\n",
    "             18 MAKE_CLOSURE             0\n",
    "             21 STORE_FAST               0 (inner)\n",
    "\n",
    "  7          24 LOAD_FAST                0 (inner)\n",
    "             27 CALL_FUNCTION            0 (0 positional, 0 keyword pair)\n",
    "             30 POP_TOP\n",
    "             31 LOAD_CONST               0 (None)\n",
    "             34 RETURN_VALUE\n",
    "\n",
    "From these examples one can see, that trying to assign to a variable (that wasn't declared as nonlocal) \n",
    "yields in `MAKE_FUNCTION` opcode. But only closures allow to get access variables out of the current scope. \n",
    "You can also read more about closures [here](https://www.geeksforgeeks.org/python-closures/)."
   ]
  },
  {
   "cell_type": "code",
   "execution_count": null,
   "metadata": {},
   "outputs": [],
   "source": []
  }
 ],
 "metadata": {
  "kernelspec": {
   "display_name": "Python 3",
   "language": "python",
   "name": "python3"
  },
  "language_info": {
   "codemirror_mode": {
    "name": "ipython",
    "version": 3
   },
   "file_extension": ".py",
   "mimetype": "text/x-python",
   "name": "python",
   "nbconvert_exporter": "python",
   "pygments_lexer": "ipython3",
   "version": "3.5.4"
  }
 },
 "nbformat": 4,
 "nbformat_minor": 2
}
