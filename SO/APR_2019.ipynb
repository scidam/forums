{
 "cells": [
  {
   "cell_type": "markdown",
   "metadata": {},
   "source": [
    "#1. https://stackoverflow.com/questions/55736800/smooth-plotting-all-columns-of-a-data-frame"
   ]
  },
  {
   "cell_type": "code",
   "execution_count": 1,
   "metadata": {},
   "outputs": [],
   "source": [
    "import pandas as pd\n",
    "import numpy as np"
   ]
  },
  {
   "cell_type": "code",
   "execution_count": 2,
   "metadata": {},
   "outputs": [],
   "source": [
    "data = pd.read_clipboard()\n",
    "data.drop(['Index'], axis=1, inplace=True)"
   ]
  },
  {
   "cell_type": "code",
   "execution_count": null,
   "metadata": {},
   "outputs": [],
   "source": [
    "def add_smooth_plots(df, ax,  timecolumn='Date', interpolation_method='cubic', colors='rgbky'):\n",
    "    from itertools import cycle\n",
    "    ind = pd.to_datetime(df.loc[:, timecolumn])\n",
    "    tick_labels =ind.dt.strftime(\"%Y-%m-%d\")\n",
    "    color = cycle(colors)\n",
    "    for i, col in enumerate(df.columns):\n",
    "        if col != timecolumn:\n",
    "            c = next(color)\n",
    "            s = pd.Series(df.loc[:, col].values, index=ind)\n",
    "            intp = s.resample('0.5D').interpolate(method=interpolation_method)\n",
    "            true_ticks = intp.index.isin(ind)\n",
    "            vals = intp.values\n",
    "            intp = intp.reset_index()\n",
    "            ticks = intp.index[true_ticks]\n",
    "            ax.plot(np.arange(len(vals)), vals, label=col, color=c)\n",
    "            ax.set_xticks(ticks)\n",
    "            ax.set_xticklabels(tick_labels.values, rotation=45)\n",
    "            ax.legend(title='Columns')\n",
    "    return ax\n",
    "\n"
   ]
  },
  {
   "cell_type": "code",
   "execution_count": null,
   "metadata": {},
   "outputs": [],
   "source": [
    "from matplotlib import pyplot as plt\n",
    "fig = plt.figure()\n",
    "ax = fig.add_subplot(111)"
   ]
  },
  {
   "cell_type": "code",
   "execution_count": null,
   "metadata": {},
   "outputs": [],
   "source": [
    "add_smooth_plots(data, ax)\n"
   ]
  },
  {
   "cell_type": "code",
   "execution_count": null,
   "metadata": {},
   "outputs": [],
   "source": [
    "plt.show()\n"
   ]
  },
  {
   "cell_type": "markdown",
   "metadata": {},
   "source": [
    "#2. https://stackoverflow.com/questions/55739440/why-unboundlocalerror-occurs-when-inner-function-assign-value-to-local-variables/55739465?noredirect=1#comment98156261_55739465"
   ]
  },
  {
   "cell_type": "code",
   "execution_count": null,
   "metadata": {},
   "outputs": [],
   "source": [
    "Lets look at bytecode: \n",
    "\n",
    "import dis\n",
    "\n",
    "\n",
    "def outer2():\n",
    "    number = 20\n",
    "    def inner():\n",
    "        if number >= 20:\n",
    "            number\n",
    "    inner()\n",
    "\n",
    "\n",
    "\n",
    "def outer3():\n",
    "    number = 20\n",
    "    def inner():\n",
    "        if number >= 20:\n",
    "            number = number + 1\n",
    "    inner()\n",
    "\n",
    "\n",
    "def outer4():\n",
    "    number = 20\n",
    "    def inner():\n",
    "        nonlocal number\n",
    "        if number >= 20:\n",
    "            number = number + 1\n",
    "    inner()\n",
    "\n",
    ">>> dis.dis(outer2)\n",
    "  2           0 LOAD_CONST               1 (20)\n",
    "              3 STORE_DEREF              0 (number)\n",
    "\n",
    "  3           6 LOAD_CLOSURE             0 (number)\n",
    "              9 BUILD_TUPLE              1\n",
    "             12 LOAD_CONST               2 (<code object inner at 0x7ff003b56b70, file \"<stdin>\", line 3>)\n",
    "             15 LOAD_CONST               3 ('outer2.<locals>.inner')\n",
    "             18 MAKE_CLOSURE             0\n",
    "             21 STORE_FAST               0 (inner)\n",
    "\n",
    "  6          24 LOAD_FAST                0 (inner)\n",
    "             27 CALL_FUNCTION            0 (0 positional, 0 keyword pair)\n",
    "             30 POP_TOP\n",
    "             31 LOAD_CONST               0 (None)\n",
    "             34 RETURN_VALUE\n",
    "\n",
    "\n",
    ">>> dis.dis(outer3)\n",
    "  2           0 LOAD_CONST               1 (20)\n",
    "              3 STORE_FAST               0 (number)\n",
    "\n",
    "  3           6 LOAD_CONST               2 (<code object inner at 0x7ff003b56ae0, file \"<stdin>\", line 3>)\n",
    "              9 LOAD_CONST               3 ('outer3.<locals>.inner')\n",
    "             12 MAKE_FUNCTION            0\n",
    "             15 STORE_FAST               1 (inner)\n",
    "\n",
    "  6          18 LOAD_FAST                1 (inner)\n",
    "             21 CALL_FUNCTION            0 (0 positional, 0 keyword pair)\n",
    "             24 POP_TOP\n",
    "             25 LOAD_CONST               0 (None)\n",
    "             28 RETURN_VALUE\n",
    "\n",
    "\n",
    ">>> dis.dis(outer4)\n",
    "  2           0 LOAD_CONST               1 (20)\n",
    "              3 STORE_DEREF              0 (number)\n",
    "\n",
    "  3           6 LOAD_CLOSURE             0 (number)\n",
    "              9 BUILD_TUPLE              1\n",
    "             12 LOAD_CONST               2 (<code object inner at 0x7ff003af7e40, file \"<stdin>\", line 3>)\n",
    "             15 LOAD_CONST               3 ('outer4.<locals>.inner')\n",
    "             18 MAKE_CLOSURE             0\n",
    "             21 STORE_FAST               0 (inner)\n",
    "\n",
    "  7          24 LOAD_FAST                0 (inner)\n",
    "             27 CALL_FUNCTION            0 (0 positional, 0 keyword pair)\n",
    "             30 POP_TOP\n",
    "             31 LOAD_CONST               0 (None)\n",
    "             34 RETURN_VALUE\n",
    "\n",
    "From these examples one can see, that trying to assign to a variable (that wasn't declared as nonlocal) \n",
    "yields in `MAKE_FUNCTION` opcode. But only closures allow to get access variables out of the current scope. \n",
    "You can also read more about closures [here](https://www.geeksforgeeks.org/python-closures/)."
   ]
  },
  {
   "cell_type": "markdown",
   "metadata": {},
   "source": [
    "#3. https://stackoverflow.com/questions/55739779/century-handling-in-pandas/55739904#55739904"
   ]
  },
  {
   "cell_type": "code",
   "execution_count": 6,
   "metadata": {},
   "outputs": [],
   "source": [
    "data = pd.read_clipboard(header=None)"
   ]
  },
  {
   "cell_type": "code",
   "execution_count": 14,
   "metadata": {},
   "outputs": [
    {
     "data": {
      "text/plain": [
       "0   1984-01-01\n",
       "1   1985-07-31\n",
       "2   1985-08-24\n",
       "3   1993-12-30\n",
       "4   1977-09-12\n",
       "5   1990-08-09\n",
       "6   1988-01-06\n",
       "7   1989-04-10\n",
       "8   1991-11-15\n",
       "9   1968-01-06\n",
       "Name: 1, dtype: datetime64[ns]"
      ]
     },
     "execution_count": 14,
     "metadata": {},
     "output_type": "execute_result"
    }
   ],
   "source": [
    "pd.to_datetime(data[1].apply(lambda x: '-'.join(x.split('-')[:-1] + ['19' + x.split('-')[2]])))"
   ]
  },
  {
   "cell_type": "code",
   "execution_count": 12,
   "metadata": {},
   "outputs": [
    {
     "data": {
      "text/html": [
       "<div>\n",
       "<style scoped>\n",
       "    .dataframe tbody tr th:only-of-type {\n",
       "        vertical-align: middle;\n",
       "    }\n",
       "\n",
       "    .dataframe tbody tr th {\n",
       "        vertical-align: top;\n",
       "    }\n",
       "\n",
       "    .dataframe thead th {\n",
       "        text-align: right;\n",
       "    }\n",
       "</style>\n",
       "<table border=\"1\" class=\"dataframe\">\n",
       "  <thead>\n",
       "    <tr style=\"text-align: right;\">\n",
       "      <th></th>\n",
       "      <th>0</th>\n",
       "      <th>1</th>\n",
       "    </tr>\n",
       "  </thead>\n",
       "  <tbody>\n",
       "    <tr>\n",
       "      <th>0</th>\n",
       "      <td>0</td>\n",
       "      <td>01-01-84</td>\n",
       "    </tr>\n",
       "    <tr>\n",
       "      <th>1</th>\n",
       "      <td>1</td>\n",
       "      <td>31-07-85</td>\n",
       "    </tr>\n",
       "    <tr>\n",
       "      <th>2</th>\n",
       "      <td>2</td>\n",
       "      <td>24-08-85</td>\n",
       "    </tr>\n",
       "    <tr>\n",
       "      <th>3</th>\n",
       "      <td>3</td>\n",
       "      <td>30-12-93</td>\n",
       "    </tr>\n",
       "    <tr>\n",
       "      <th>4</th>\n",
       "      <td>4</td>\n",
       "      <td>09-12-77</td>\n",
       "    </tr>\n",
       "    <tr>\n",
       "      <th>5</th>\n",
       "      <td>5</td>\n",
       "      <td>08-09-90</td>\n",
       "    </tr>\n",
       "    <tr>\n",
       "      <th>6</th>\n",
       "      <td>6</td>\n",
       "      <td>01-06-88</td>\n",
       "    </tr>\n",
       "    <tr>\n",
       "      <th>7</th>\n",
       "      <td>7</td>\n",
       "      <td>04-10-89</td>\n",
       "    </tr>\n",
       "    <tr>\n",
       "      <th>8</th>\n",
       "      <td>8</td>\n",
       "      <td>15-11-91</td>\n",
       "    </tr>\n",
       "    <tr>\n",
       "      <th>9</th>\n",
       "      <td>9</td>\n",
       "      <td>01-06-68</td>\n",
       "    </tr>\n",
       "  </tbody>\n",
       "</table>\n",
       "</div>"
      ],
      "text/plain": [
       "   0         1\n",
       "0  0  01-01-84\n",
       "1  1  31-07-85\n",
       "2  2  24-08-85\n",
       "3  3  30-12-93\n",
       "4  4  09-12-77\n",
       "5  5  08-09-90\n",
       "6  6  01-06-88\n",
       "7  7  04-10-89\n",
       "8  8  15-11-91\n",
       "9  9  01-06-68"
      ]
     },
     "execution_count": 12,
     "metadata": {},
     "output_type": "execute_result"
    }
   ],
   "source": [
    "data"
   ]
  },
  {
   "cell_type": "markdown",
   "metadata": {},
   "source": [
    "#4. https://stackoverflow.com/questions/55743251/how-to-identify-outliers-with-density-plot"
   ]
  },
  {
   "cell_type": "code",
   "execution_count": 57,
   "metadata": {},
   "outputs": [],
   "source": [
    "import numpy as np\n",
    "import seaborn as sns\n",
    "from matplotlib import pyplot as plt\n",
    "from sklearn.neighbors import KernelDensity\n",
    "\n",
    "data = np.r_[np.random.randn(100), np.random.rand(10)*100][:, np.newaxis]"
   ]
  },
  {
   "cell_type": "code",
   "execution_count": null,
   "metadata": {},
   "outputs": [],
   "source": []
  },
  {
   "cell_type": "code",
   "execution_count": 58,
   "metadata": {},
   "outputs": [],
   "source": [
    "kde = KernelDensity(kernel='tophat', bandwidth=0.75).fit(data)\n"
   ]
  },
  {
   "cell_type": "code",
   "execution_count": 59,
   "metadata": {},
   "outputs": [
    {
     "data": {
      "text/plain": [
       "[<matplotlib.lines.Line2D at 0x7f584747e898>]"
      ]
     },
     "execution_count": 59,
     "metadata": {},
     "output_type": "execute_result"
    }
   ],
   "source": [
    "yvals = kde.score_samples(data)\n",
    "yvals[np.isinf(yvals)]=np.nan\n",
    "\n",
    "plt.plot(yvals)"
   ]
  },
  {
   "cell_type": "code",
   "execution_count": 60,
   "metadata": {},
   "outputs": [
    {
     "data": {
      "image/png": "[encoded data removed]",
      "text/plain": [
       "<Figure size 432x288 with 1 Axes>"
      ]
     },
     "metadata": {},
     "output_type": "display_data"
    }
   ],
   "source": [
    "plt.show()"
   ]
  },
  {
   "cell_type": "code",
   "execution_count": 82,
   "metadata": {},
   "outputs": [
    {
     "name": "stdout",
     "output_type": "stream",
     "text": [
      "[ 33  49 100 101 102 103 105 106 107 108 109]\n",
      "[  0   1   2   3   4   5   6   7   8   9  10  11  12  13  14  15  16  17\n",
      "  18  19  20  21  22  23  24  25  26  27  28  29  30  31  32  34  35  36\n",
      "  37  38  39  40  41  42  43  44  45  46  47  48  50  51  52  53  54  55\n",
      "  56  57  58  59  60  61  62  63  64  65  66  67  68  69  70  71  72  73\n",
      "  74  75  76  77  78  79  80  81  82  83  84  85  86  87  88  89  90  91\n",
      "  92  93  94  95  96  97  98  99 104]\n"
     ]
    }
   ],
   "source": [
    "outlier_inds = np.where(yvals< np.percentile(yvals, 10))[0]\n",
    "print(outlier_inds)\n",
    "non_outlier_inds = np.where(yvals >= np.percentile(yvals, 10))[0]\n",
    "print(non_outlier_inds)"
   ]
  },
  {
   "cell_type": "code",
   "execution_count": 91,
   "metadata": {},
   "outputs": [
    {
     "name": "stderr",
     "output_type": "stream",
     "text": [
      "/home/dmitry/.pyenv/versions/3.5.4/envs/sci/lib/python3.5/site-packages/ipykernel_launcher.py:1: RuntimeWarning: invalid value encountered in log\n",
      "  \"\"\"Entry point for launching an IPython kernel.\n"
     ]
    },
    {
     "data": {
      "text/plain": [
       "<matplotlib.legend.Legend at 0x7f58475b6198>"
      ]
     },
     "execution_count": 91,
     "metadata": {},
     "output_type": "execute_result"
    }
   ],
   "source": [
    "plt.plot(non_outlier_inds, np.log(data[non_outlier_inds]), 'ro',\n",
    "         outlier_inds, np.log(data[outlier_inds]), 'bo')\n",
    "plt.gca().set_xlabel('Index')\n",
    "plt.gca().set_ylabel('log(data)')\n",
    "plt.legend()"
   ]
  },
  {
   "cell_type": "code",
   "execution_count": 92,
   "metadata": {},
   "outputs": [
    {
     "data": {
      "image/png": "[encoded data removed]",
      "text/plain": [
       "<Figure size 432x288 with 1 Axes>"
      ]
     },
     "metadata": {},
     "output_type": "display_data"
    }
   ],
   "source": [
    "plt.show()\n"
   ]
  },
  {
   "cell_type": "markdown",
   "metadata": {},
   "source": [
    "#5. https://stackoverflow.com/questions/55757907/delete-specific-rows-in-a-pandas-df/55757945#55757945"
   ]
  },
  {
   "cell_type": "code",
   "execution_count": 106,
   "metadata": {},
   "outputs": [],
   "source": [
    "import pandas as pd\n",
    "\n",
    "d = ({\n",
    "    'Code' : ['Foo','Bar','Cat','Foo','Foo'],\n",
    "    'Val' : ['x','y','a','a','x'],\n",
    "    })\n",
    "\n",
    "df = pd.DataFrame(d)"
   ]
  },
  {
   "cell_type": "code",
   "execution_count": 107,
   "metadata": {},
   "outputs": [
    {
     "data": {
      "text/html": [
       "<div>\n",
       "<style scoped>\n",
       "    .dataframe tbody tr th:only-of-type {\n",
       "        vertical-align: middle;\n",
       "    }\n",
       "\n",
       "    .dataframe tbody tr th {\n",
       "        vertical-align: top;\n",
       "    }\n",
       "\n",
       "    .dataframe thead th {\n",
       "        text-align: right;\n",
       "    }\n",
       "</style>\n",
       "<table border=\"1\" class=\"dataframe\">\n",
       "  <thead>\n",
       "    <tr style=\"text-align: right;\">\n",
       "      <th></th>\n",
       "      <th>Code</th>\n",
       "      <th>Val</th>\n",
       "    </tr>\n",
       "  </thead>\n",
       "  <tbody>\n",
       "    <tr>\n",
       "      <th>0</th>\n",
       "      <td>Foo</td>\n",
       "      <td>x</td>\n",
       "    </tr>\n",
       "    <tr>\n",
       "      <th>1</th>\n",
       "      <td>Bar</td>\n",
       "      <td>y</td>\n",
       "    </tr>\n",
       "    <tr>\n",
       "      <th>4</th>\n",
       "      <td>Foo</td>\n",
       "      <td>x</td>\n",
       "    </tr>\n",
       "  </tbody>\n",
       "</table>\n",
       "</div>"
      ],
      "text/plain": [
       "  Code Val\n",
       "0  Foo   x\n",
       "1  Bar   y\n",
       "4  Foo   x"
      ]
     },
     "execution_count": 107,
     "metadata": {},
     "output_type": "execute_result"
    }
   ],
   "source": [
    "df[df.index.isin(df.index[df.Val=='x'].tolist()+(df.index[df.Val=='x'].values+1).tolist())]"
   ]
  },
  {
   "cell_type": "markdown",
   "metadata": {},
   "source": [
    "#5. https://stackoverflow.com/questions/55758599/how-to-add-prediction-to-polynomial-regression"
   ]
  },
  {
   "cell_type": "markdown",
   "metadata": {},
   "source": [
    "It would be better if you define a class that would handle all logic you want. Nevertheless, If you want \n",
    "to write code that is fully compliant with fit-transform-predict protocol, that is used in scikit-learn, you need\n",
    "to subclass from some base\n",
    "classes of scikit-learn, e.g.  BaseEstimator, TransformerMixin, BaseRegressor.\n",
    "\n",
    "Numpy supplied with very convenient function [vander](https://het.as.utexas.edu/HET/Software/Numpy/reference/generated/numpy.vander.html) that could significantly help you\n",
    "when you are working with polynomials.\n",
    "\n",
    "Lets define a class. "
   ]
  },
  {
   "cell_type": "code",
   "execution_count": 132,
   "metadata": {},
   "outputs": [],
   "source": [
    "class PolyRegressor:  # I omit subclassing for now. \n",
    "    \n",
    "    def __init__(self, weights=None):\n",
    "        self.weights = np.array(weights) if weights is not None else None\n",
    "\n",
    "    @property\n",
    "    def order(self):\n",
    "        return len(self.weights) if self.weights is not None else 0\n",
    "    \n",
    "    def evaluate(self, x):\n",
    "        return np.dot(np.vander(x, self.order), self.weights[:, np.newaxis]).ravel()\n",
    "    \n",
    "    def fit(self, X, y=None):\n",
    "        self.weights = (np.linalg.pinv(np.vander(X, self.order)) @ y[:, np.newaxis]).ravel()\n",
    "    \n",
    "    def predict(self, X):\n",
    "        if self.weights is not None: \n",
    "            return self.evaluate(X)\n",
    "        else:\n",
    "            raise Exception(\"Model wasn't fitted. Fit model first. \")\n",
    "    \n",
    "    def fit_predict(self, X, y=None):\n",
    "        self.fit(X, y)\n",
    "        return self.predict(X)"
   ]
  },
  {
   "cell_type": "code",
   "execution_count": 133,
   "metadata": {},
   "outputs": [],
   "source": [
    "reg = PolyRegressor()"
   ]
  },
  {
   "cell_type": "code",
   "execution_count": 137,
   "metadata": {},
   "outputs": [],
   "source": [
    "reg.weights = np.array([1,2,3])  # we implicitly define order = 2 here, e.g. 3 + 2x + 1x^2"
   ]
  },
  {
   "cell_type": "code",
   "execution_count": 139,
   "metadata": {},
   "outputs": [
    {
     "data": {
      "text/plain": [
       "array([38])"
      ]
     },
     "execution_count": 139,
     "metadata": {},
     "output_type": "execute_result"
    }
   ],
   "source": [
    "reg.evaluate(np.array([5]))"
   ]
  },
  {
   "cell_type": "code",
   "execution_count": 135,
   "metadata": {},
   "outputs": [
    {
     "data": {
      "text/plain": [
       "array([2.55922997, 1.81433623, 2.29153779, 1.78458414, 1.75961514,\n",
       "       2.59770317, 2.65122647, 1.81313616, 2.61993941, 2.63325695])"
      ]
     },
     "execution_count": 135,
     "metadata": {},
     "output_type": "execute_result"
    }
   ],
   "source": [
    "reg.fit_predict(np.random.rand(10), np.random.rand(10) * 5)"
   ]
  },
  {
   "cell_type": "markdown",
   "metadata": {},
   "source": [
    "#6. https://stackoverflow.com/questions/55779483/how-to-create-a-loop-to-replace-nan-value"
   ]
  },
  {
   "cell_type": "code",
   "execution_count": 13,
   "metadata": {},
   "outputs": [],
   "source": [
    "import pandas as pd\n",
    "df = pd.DataFrame({'ST' : ['A']*4 + ['B']*3 + ['C']*4, 'val': [1, 2, None, None, 4, None, 3, None, 1, None, 2]})"
   ]
  },
  {
   "cell_type": "code",
   "execution_count": 14,
   "metadata": {},
   "outputs": [
    {
     "data": {
      "text/html": [
       "<div>\n",
       "<style scoped>\n",
       "    .dataframe tbody tr th:only-of-type {\n",
       "        vertical-align: middle;\n",
       "    }\n",
       "\n",
       "    .dataframe tbody tr th {\n",
       "        vertical-align: top;\n",
       "    }\n",
       "\n",
       "    .dataframe thead th {\n",
       "        text-align: right;\n",
       "    }\n",
       "</style>\n",
       "<table border=\"1\" class=\"dataframe\">\n",
       "  <thead>\n",
       "    <tr style=\"text-align: right;\">\n",
       "      <th></th>\n",
       "      <th>ST</th>\n",
       "      <th>val</th>\n",
       "    </tr>\n",
       "  </thead>\n",
       "  <tbody>\n",
       "    <tr>\n",
       "      <th>0</th>\n",
       "      <td>A</td>\n",
       "      <td>1.0</td>\n",
       "    </tr>\n",
       "    <tr>\n",
       "      <th>1</th>\n",
       "      <td>A</td>\n",
       "      <td>2.0</td>\n",
       "    </tr>\n",
       "    <tr>\n",
       "      <th>2</th>\n",
       "      <td>A</td>\n",
       "      <td>2.0</td>\n",
       "    </tr>\n",
       "    <tr>\n",
       "      <th>3</th>\n",
       "      <td>A</td>\n",
       "      <td>2.0</td>\n",
       "    </tr>\n",
       "    <tr>\n",
       "      <th>4</th>\n",
       "      <td>B</td>\n",
       "      <td>4.0</td>\n",
       "    </tr>\n",
       "    <tr>\n",
       "      <th>5</th>\n",
       "      <td>B</td>\n",
       "      <td>4.0</td>\n",
       "    </tr>\n",
       "    <tr>\n",
       "      <th>6</th>\n",
       "      <td>B</td>\n",
       "      <td>3.0</td>\n",
       "    </tr>\n",
       "    <tr>\n",
       "      <th>7</th>\n",
       "      <td>C</td>\n",
       "      <td>NaN</td>\n",
       "    </tr>\n",
       "    <tr>\n",
       "      <th>8</th>\n",
       "      <td>C</td>\n",
       "      <td>1.0</td>\n",
       "    </tr>\n",
       "    <tr>\n",
       "      <th>9</th>\n",
       "      <td>C</td>\n",
       "      <td>1.0</td>\n",
       "    </tr>\n",
       "    <tr>\n",
       "      <th>10</th>\n",
       "      <td>C</td>\n",
       "      <td>2.0</td>\n",
       "    </tr>\n",
       "  </tbody>\n",
       "</table>\n",
       "</div>"
      ],
      "text/plain": [
       "   ST  val\n",
       "0   A  1.0\n",
       "1   A  2.0\n",
       "2   A  2.0\n",
       "3   A  2.0\n",
       "4   B  4.0\n",
       "5   B  4.0\n",
       "6   B  3.0\n",
       "7   C  NaN\n",
       "8   C  1.0\n",
       "9   C  1.0\n",
       "10  C  2.0"
      ]
     },
     "execution_count": 14,
     "metadata": {},
     "output_type": "execute_result"
    }
   ],
   "source": [
    "df.groupby('ST').ffill()"
   ]
  },
  {
   "cell_type": "code",
   "execution_count": 6,
   "metadata": {},
   "outputs": [],
   "source": [
    "import numpy as np\n",
    "N = 10\n",
    "gamma_solution = np.zeros((3, N))\n",
    "gamma = np.arange(3)[:, np.newaxis]\n",
    "for j in range(N):  # main loop where gamma values are computed\n",
    "    gamma_solution[:, j] = gamma.T\n",
    "    "
   ]
  },
  {
   "cell_type": "code",
   "execution_count": 8,
   "metadata": {},
   "outputs": [
    {
     "data": {
      "text/plain": [
       "array([[0., 0., 0., 0., 0., 0., 0., 0., 0., 0.],\n",
       "       [1., 1., 1., 1., 1., 1., 1., 1., 1., 1.],\n",
       "       [2., 2., 2., 2., 2., 2., 2., 2., 2., 2.]])"
      ]
     },
     "execution_count": 8,
     "metadata": {},
     "output_type": "execute_result"
    }
   ],
   "source": [
    "gamma_solution"
   ]
  },
  {
   "cell_type": "code",
   "execution_count": 14,
   "metadata": {},
   "outputs": [],
   "source": [
    "import numpy as np\n",
    "C = np.random.random((10, 10000, 100))\n",
    "B = np.random.random((10, 10000, 100))\n",
    "D1 = np.einsum(\"ikj,ijt->ikt\", C.transpose(0, 2, 1), B)\n",
    "D2 = np.array([np.dot(C[k].T, B[k]) for k in range(10)])"
   ]
  },
  {
   "cell_type": "code",
   "execution_count": 17,
   "metadata": {},
   "outputs": [
    {
     "data": {
      "text/plain": [
       "True"
      ]
     },
     "execution_count": 17,
     "metadata": {},
     "output_type": "execute_result"
    }
   ],
   "source": [
    "np.allclose(D1, D2)"
   ]
  },
  {
   "cell_type": "code",
   "execution_count": 18,
   "metadata": {},
   "outputs": [],
   "source": [
    "C = np.random.random((10, 10000, 100))\n",
    "B = np.random.random((10, 10000, 100))\n",
    "D1 = np.einsum(\"ikj,ijt->ikt\", C.transpose(0, 2, 1), B)\n",
    "D2 = np.array([np.dot(C[k].T, B[k]) for k in range(10)])"
   ]
  },
  {
   "cell_type": "code",
   "execution_count": 19,
   "metadata": {},
   "outputs": [
    {
     "data": {
      "text/plain": [
       "True"
      ]
     },
     "execution_count": 19,
     "metadata": {},
     "output_type": "execute_result"
    }
   ],
   "source": [
    "np.allclose(D1, D2)"
   ]
  },
  {
   "cell_type": "code",
   "execution_count": 25,
   "metadata": {},
   "outputs": [
    {
     "data": {
      "text/plain": [
       "array([ 5,  9,  2,  2,  2,  5,  1,  4,  7,  8,  4,  9,  3,  3,  4,  8,  9,\n",
       "        8,  5, 10,  8,  9,  4,  1,  8,  7,  4, 10,  2,  2,  7,  3, 10,  6,\n",
       "        5,  8,  2,  6,  7,  9,  9,  1,  5,  5,  7,  6,  3,  6,  6,  8,  8,\n",
       "        8,  7,  4,  3,  7, 10,  3,  4,  5,  2,  2, 10, 10,  9,  3,  7,  4,\n",
       "        8,  9,  8,  9,  3,  5, 10,  4,  3, 10,  3, 10,  8,  6,  1,  8,  4,\n",
       "        5,  6,  1,  6,  2,  5,  2,  8,  7,  4,  3, 10,  6, 10,  1])"
      ]
     },
     "execution_count": 25,
     "metadata": {},
     "output_type": "execute_result"
    }
   ],
   "source": [
    "from scipy.stats import randint \n",
    "\n",
    "randint.rvs(1, 11, size=100, loc=0)"
   ]
  },
  {
   "cell_type": "markdown",
   "metadata": {},
   "source": [
    "#7. https://stackoverflow.com/questions/55801210/plot-of-x-y-coordinates-with-their-respective-u-v-directions"
   ]
  },
  {
   "cell_type": "markdown",
   "metadata": {},
   "source": [
    "It seems that you are looking for [quiver plot](https://matplotlib.org/api/_as_gen/matplotlib.pyplot.quiver.html). "
   ]
  },
  {
   "cell_type": "markdown",
   "metadata": {},
   "source": [
    "#8. https://stackoverflow.com/questions/55802523/how-to-prevent-seaborn-from-smoothing-the-histogram-when-plotting-a-density-plot/55803539#55803539"
   ]
  },
  {
   "cell_type": "markdown",
   "metadata": {},
   "source": [
    "Probability density estimation on a given interval (strict estimation).\n",
    "\n",
    "One of the ways to get desired result is to use custom window and kernel. Both kernel and\n",
    "window should depends  on the position of the window's center relative to interval's edge points  `a` and `b`.\n",
    "\n",
    "Searborn uses `stats.gaussian_kde` or kde estimatior from statsmodels,  if the latter is installed.\n",
    "As far as I know about `gaussian_kde`, it doesn't allow such tweaking. So, we need to implement \n",
    "custom kde estimator.\n",
    "\n",
    "Look at the following code snippet, it works and can be considered as a starting point\n",
    "for further improvement.\n"
   ]
  },
  {
   "cell_type": "code",
   "execution_count": 4,
   "metadata": {},
   "outputs": [],
   "source": [
    "arr = np.array([-0.35416853, -0.28675528, -0.54088942,  0.18797232,  0.01707244,\n",
    "       -0.48090636, -0.44454523, -0.03228283, -0.70861904,  0.02323842,\n",
    "       -0.54905541, -0.5421915 ,  0.27547336, -0.92913273, -0.55379011,\n",
    "       -0.23521681, -0.1079175 , -0.24065031, -0.33773661, -0.06147251,\n",
    "       -0.74171701, -0.74315048,  0.06634989, -0.49222919,  0.48899574,\n",
    "        0.13499221,  0.53120786, -0.1688146 ,  0.47125832,  0.36517109,\n",
    "        0.33110315,  0.34495851,  0.18393   ,  0.67211736,  0.11608325,\n",
    "       -0.92913273, -0.71209124,  0.01828323,  0.30894561, -0.06463642,\n",
    "        0.45423401, -0.7993457 ,  0.50007295,  0.17983021, -0.66105515,\n",
    "       -0.92783269, -0.49277017, -0.19487059,  0.07502782,  0.00700057,\n",
    "        0.29958942, -0.04223299,  0.04105657, -0.12604522,  0.30506049,\n",
    "       -0.15600141, -0.17434894,  0.01152945, -0.11583157,  0.07010729,\n",
    "       -0.92913273, -0.02566766,  0.48114331, -0.13252103, -0.42600686,\n",
    "        0.54836633,  0.37945642, -0.34006735, -0.29560479,  0.4930249 ,\n",
    "        0.02693856,  0.57255816,  0.31185216,  0.19780182,  0.11909931,\n",
    "       -0.02853919, -0.25082142, -0.08635957, -0.28266912, -0.80937364,\n",
    "       -0.92913273, -0.0172393 , -0.18993503, -0.69080226, -0.66901143,\n",
    "        0.0470842 , -0.45307088,  0.05043218, -0.20894534, -0.22218531,\n",
    "        0.5189177 , -0.92913273,  0.31509469, -0.15935917, -0.92913273,\n",
    "       -0.41652189,  0.20265061,  0.016976  ,  0.0680205 ,  0.33159134,\n",
    "       -0.3138477 ,  0.10086817,  0.37074665, -0.06916329, -0.19177307,\n",
    "        0.22842641, -0.15087903,  0.34376167,  0.24173604, -0.38040409,\n",
    "       -0.20031291,  0.17990511,  0.40231535, -0.27195479, -0.15867829,\n",
    "        0.2389052 ,  0.08337308, -0.07327617, -0.77566734, -0.12074809,\n",
    "        0.19539527,  0.03727124, -0.13330546,  0.13602168,  0.36673224,\n",
    "       -0.3434154 ,  0.19251896,  0.27692974,  0.4757158 ,  0.24333386,\n",
    "        0.29905657,  0.57319178,  0.46753947, -0.04079389,  0.5571865 ,\n",
    "        0.3453707 ,  0.55110949,  0.19614831,  0.61707333,  0.3680048 ,\n",
    "        0.48193126,  0.67330892,  0.53603774,  0.54464057,  0.35016492,\n",
    "        0.36970268,  0.150395  ,  0.4697073 ,  0.3383952 ,  0.4037419 ,\n",
    "       -0.01055328,  0.26734498,  0.2647191 ,  0.30056532,  0.46706568,\n",
    "        0.41460328,  0.42295413,  0.44188908,  0.29304088, -0.18437651,\n",
    "       -0.33404869,  0.31744862,  0.16578238, -0.2903621 , -0.36128032,\n",
    "       -0.65571561,  0.39868119, -0.31359498,  0.45377302,  0.23929229,\n",
    "        0.19958669,  0.51978988, -0.01249307, -0.16404641,  0.27193916,\n",
    "       -0.11159726, -0.10719093,  0.05472177, -0.64784851,  0.25594644,\n",
    "       -0.26109644, -0.28908332,  0.06264426,  0.05689891,  0.26437733,\n",
    "       -0.29424862,  0.26441642,  0.34868516,  0.00497344, -0.46811445,\n",
    "       -0.35795662, -0.04599685,  0.08701907, -0.32572399,  0.17639076,\n",
    "        0.35640737, -0.08174591, -0.13910904,  0.35387245,  0.00857055,\n",
    "       -0.24789401,  0.24033791, -0.08525459,  0.19189512,  0.27148848,\n",
    "       -0.38631975, -0.08820518,  0.12658585,  0.23404602,  0.06062359,\n",
    "        0.13340842, -0.11942433, -0.15974527, -0.0236961 ,  0.01533685,\n",
    "       -0.92641117,  0.01533685, -0.00582898,  0.08251113, -0.18537655,\n",
    "       -0.92641117, -0.63036561, -0.02408175, -0.10033362, -0.08820518,\n",
    "        0.01533685, -0.1475904 , -0.06573955, -0.10033362, -0.08820518,\n",
    "       -0.08820518,  0.04798457,  0.29057868,  0.08310757,  0.25168328,\n",
    "        0.03989156,  0.1895359 , -0.44324531, -0.16724842,  0.06172038,\n",
    "        0.05685105,  0.3381661 , -0.46472578, -0.13137012,  0.10249921,\n",
    "        0.26703853,  0.14798872,  0.09729466, -0.09559039,  0.38893042,\n",
    "        0.6081168 , -0.32574556, -0.11493626,  0.30370567, -0.13203101,\n",
    "        0.12251789,  0.29993512, -0.80796771, -0.14717629,  0.37894796,\n",
    "        0.30086822,  0.26228619, -0.01403568, -0.46596314, -0.11860131,\n",
    "       -0.52649509,  0.41834337,  0.25892792,  0.40497516, -0.0287142 ,\n",
    "       -0.14994142,  0.41714702,  0.40928704,  0.0595943 ,  0.5190621 ,\n",
    "        0.53760238,  0.25452441, -0.08397463,  0.22131469, -0.46173602,\n",
    "        0.48456617,  0.44220971,  0.16059022,  0.43723123,  0.04680989,\n",
    "       -0.00131657, -0.09681387, -0.48600167, -0.44205123,  0.13787778,\n",
    "       -0.02900436,  0.07049823,  0.02565475, -0.20544388,  0.0297263 ,\n",
    "        0.09162641, -0.17354248, -0.41518963,  0.12393266, -0.41754063,\n",
    "       -0.19018751,  0.02251257, -0.27799953,  0.21135703,  0.09597453,\n",
    "        0.56175636,  0.34126265,  0.17056669,  0.13149045, -0.30472518,\n",
    "       -0.07366951,  0.42843431, -0.22890901,  0.05518269, -0.01007775,\n",
    "       -0.48123104, -0.44906545,  0.09229373, -0.85684002,  0.23411821,\n",
    "        0.02637603,  0.02477345,  0.21678001, -0.14454807,  0.32430986,\n",
    "       -0.12988135,  0.07014938,  0.17991853, -0.02405694, -0.83110188,\n",
    "       -0.11192697,  0.02312546, -0.10770876,  0.13470276,  0.10568144,\n",
    "       -0.20336714, -0.15739212,  0.21271663,  0.05357167,  0.3281988 ,\n",
    "        0.17442453,  0.11561338, -0.68398479, -0.03704769,  0.28698584,\n",
    "        0.17608064,  0.30424182,  0.51034264, -0.09452418,  0.38242868,\n",
    "       -0.60014916,  0.21856565, -0.04819684,  0.2653766 ,  0.02992649,\n",
    "        0.18941891, -0.04752845,  0.02295903, -0.29201727,  0.07913569,\n",
    "       -0.12563984,  0.21124929, -0.18801383, -0.24118712, -0.29686842,\n",
    "        0.27609838, -0.23855832,  0.31970457,  0.41328374,  0.19630546,\n",
    "        0.34077982, -0.3704136 ,  0.17032295,  0.20643397,  0.34154881,\n",
    "        0.1504677 ,  0.37392242,  0.25842101, -0.50553798,  0.35387764,\n",
    "        0.41873554,  0.27067669,  0.31011181, -0.51092977, -0.10282291,\n",
    "       -0.4126883 , -0.52383119, -0.82821877, -0.4585979 ,  0.2531493 ,\n",
    "        0.34361492,  0.38418371, -0.22988404,  0.285816  , -0.40203361,\n",
    "        0.38114577,  0.15781548,  0.27335741,  0.36371593,  0.36515941])\n"
   ]
  },
  {
   "cell_type": "code",
   "execution_count": 31,
   "metadata": {},
   "outputs": [],
   "source": [
    "import numpy as np\n",
    "from scipy.integrate import quad\n",
    "\n",
    "class kde:\n",
    "    \n",
    "    def __init__(self, a, b, kernel=None):\n",
    "        self.a = a\n",
    "        self.b = b\n",
    "    \n",
    "    def h(self, x):\n",
    "        \"\"\" h(x) window size depends on position of the center of the window relative to (a, b).\n",
    "         \n",
    "        _ r    ___________   <-- rthumb = r = height of the graph\n",
    "        |     /           \\ \n",
    "        |    /             \\\n",
    "        |---|--|----------|-|----- \n",
    "            a  a+r      b-r b\n",
    "       \n",
    "        \"\"\"\n",
    "        \n",
    "        if x > (self.a + self.rthumb) and x < (self.b - self.rthumb):\n",
    "            return self.rthumb\n",
    "        elif x >= self.a and (x < self.a + self.rthumb):\n",
    "            return x - self.a + np.finfo(float).eps\n",
    "        elif (x <= self.b) and (x > self.b - self.rthumb):\n",
    "            return self.b - x + np.finfo(float).eps\n",
    "        else:\n",
    "            return np.finfo(float).eps\n",
    "    \n",
    "    def kernel(self, x):\n",
    "        return np.exp(-0.5 * x ** 2) / np.sqrt(2 * np.pi);\n",
    "    \n",
    "    def window(self, x):\n",
    "        \"\"\" x - scalar value \"\"\"\n",
    "        def w(y):\n",
    "            res = self.kernel((x - y) / self.h(x))  # gaussian kernel\n",
    "            res[(y > self.b) | (y < self.a)] = 0.0  # window is zero outside [a, b]~\n",
    "            return res\n",
    "        return w\n",
    "    \n",
    "    def fit(self, data):\n",
    "        # Rule of thumb\n",
    "        self.rthumb = 1.06 * np.std(data) * np.power(len(data), -1/5) \n",
    "        def _pdf(x):\n",
    "            ww = self.window(x)\n",
    "            return ww(data).sum() / len(data)\n",
    "        val = quad(_pdf, self.a, self.b)[0]\n",
    "        def pdf_norm(f):\n",
    "            def pn(x):\n",
    "                return f(x) / val\n",
    "            return pn\n",
    "        self.pdf = np.vectorize(pdf_norm(_pdf))\n",
    "        return self"
   ]
  },
  {
   "cell_type": "code",
   "execution_count": 32,
   "metadata": {},
   "outputs": [],
   "source": [
    "k = kde(-1, 1)"
   ]
  },
  {
   "cell_type": "code",
   "execution_count": 33,
   "metadata": {},
   "outputs": [
    {
     "data": {
      "text/plain": [
       "[<matplotlib.lines.Line2D at 0x7fd97afaf240>]"
      ]
     },
     "execution_count": 33,
     "metadata": {},
     "output_type": "execute_result"
    }
   ],
   "source": [
    "from pylab import plt\n",
    "x = np.linspace(-2,  2, 100)\n",
    "plt.plot(x, k.fit(arr).pdf(x))"
   ]
  },
  {
   "cell_type": "code",
   "execution_count": 34,
   "metadata": {},
   "outputs": [
    {
     "data": {
      "image/png": "[encoded data removed]",
      "text/plain": [
       "<Figure size 432x288 with 1 Axes>"
      ]
     },
     "metadata": {},
     "output_type": "display_data"
    }
   ],
   "source": [
    "plt.show()"
   ]
  },
  {
   "cell_type": "code",
   "execution_count": 35,
   "metadata": {},
   "outputs": [],
   "source": [
    "r = k.window(0.9)"
   ]
  },
  {
   "cell_type": "code",
   "execution_count": 28,
   "metadata": {},
   "outputs": [
    {
     "data": {
      "text/plain": [
       "[<matplotlib.lines.Line2D at 0x7fd97afe6240>,\n",
       " <matplotlib.lines.Line2D at 0x7fd97afe63c8>,\n",
       " <matplotlib.lines.Line2D at 0x7fd97afe6710>]"
      ]
     },
     "execution_count": 28,
     "metadata": {},
     "output_type": "execute_result"
    }
   ],
   "source": [
    "plt.plot(x, k.window(0.9)(x), 'r.', x, k.window(0)(x), x, k.window(-.9)(x),'r.')"
   ]
  },
  {
   "cell_type": "code",
   "execution_count": 29,
   "metadata": {},
   "outputs": [
    {
     "data": {
      "image/png": "[encoded data removed]",
      "text/plain": [
       "<Figure size 432x288 with 1 Axes>"
      ]
     },
     "metadata": {},
     "output_type": "display_data"
    }
   ],
   "source": [
    "plt.show()"
   ]
  },
  {
   "cell_type": "markdown",
   "metadata": {},
   "source": [
    "EDITED:\n",
    "\n",
    "I added small value (float's epsilon 1) to h(x) value, and now everything works without warnings.\n",
    "\n",
    "In general, trying to obtain kernel density estimation is made under assumption that the theoretical pdf is a smooth function. In your case, you can truncate the pdf obtained using gaussian_kde from scipy, and finally add some constant to truncated estimation to meet AUC = 1. Some distributions have discontinuities of the first kind, e.g. pdf of the uniform distribution."
   ]
  },
  {
   "cell_type": "markdown",
   "metadata": {},
   "source": [
    "#9. https://stackoverflow.com/questions/55825624/remove-rows-from-2-dataframes-containing-1/55825806#55825806"
   ]
  },
  {
   "cell_type": "code",
   "execution_count": 50,
   "metadata": {},
   "outputs": [
    {
     "ename": "NameError",
     "evalue": "name 'submission' is not defined",
     "output_type": "error",
     "traceback": [
      "\u001b[0;31m---------------------------------------------------------------------------\u001b[0m",
      "\u001b[0;31mNameError\u001b[0m                                 Traceback (most recent call last)",
      "\u001b[0;32m<ipython-input-50-3a2c98ff3274>\u001b[0m in \u001b[0;36m<module>\u001b[0;34m()\u001b[0m\n\u001b[0;32m----> 1\u001b[0;31m \u001b[0msubmission\u001b[0m \u001b[0;34m=\u001b[0m \u001b[0msubmission\u001b[0m\u001b[0;34m[\u001b[0m\u001b[0;34m~\u001b[0m\u001b[0;34m(\u001b[0m\u001b[0mtest_label_df\u001b[0m \u001b[0;34m==\u001b[0m \u001b[0;34m-\u001b[0m\u001b[0;36m1\u001b[0m\u001b[0;34m)\u001b[0m\u001b[0;34m.\u001b[0m\u001b[0many\u001b[0m\u001b[0;34m(\u001b[0m\u001b[0maxis\u001b[0m\u001b[0;34m=\u001b[0m\u001b[0;36m1\u001b[0m\u001b[0;34m)\u001b[0m\u001b[0;34m]\u001b[0m\u001b[0;34m\u001b[0m\u001b[0m\n\u001b[0m\u001b[1;32m      2\u001b[0m \u001b[0mtest_label_df\u001b[0m \u001b[0;34m=\u001b[0m \u001b[0mtest_label_df\u001b[0m\u001b[0;34m[\u001b[0m\u001b[0;34m~\u001b[0m\u001b[0;34m(\u001b[0m\u001b[0mtest_label_df\u001b[0m \u001b[0;34m==\u001b[0m \u001b[0;34m-\u001b[0m\u001b[0;36m1\u001b[0m\u001b[0;34m)\u001b[0m\u001b[0;34m.\u001b[0m\u001b[0many\u001b[0m\u001b[0;34m(\u001b[0m\u001b[0maxis\u001b[0m\u001b[0;34m=\u001b[0m\u001b[0;36m1\u001b[0m\u001b[0;34m)\u001b[0m\u001b[0;34m]\u001b[0m\u001b[0;34m\u001b[0m\u001b[0m\n",
      "\u001b[0;31mNameError\u001b[0m: name 'submission' is not defined"
     ]
    }
   ],
   "source": [
    "submission = submission[~(test_label_df == -1).any(axis=1)]\n",
    "test_label_df = test_label_df[~(test_label_df == -1).any(axis=1)]"
   ]
  },
  {
   "cell_type": "code",
   "execution_count": null,
   "metadata": {},
   "outputs": [],
   "source": []
  },
  {
   "cell_type": "code",
   "execution_count": 51,
   "metadata": {},
   "outputs": [],
   "source": [
    "data = np.mgrid[0:6, 0:2].reshape(3,-1).T\n",
    "window_length=3\n",
    "value = np.zeros(len(data) - window_length + 1)\n",
    "\n",
    "\n",
    "for j in range(0,len(data)-window_length):\n",
    "    window_mean = np.mean(data[j:j + window_length,:], axis=1)\n",
    "    for k in range(j, j + window_length):\n",
    "        #just some operation  \n",
    "        value[j] = np.matmul(np.transpose(data[k,:]), data[k, :] + window_mean)"
   ]
  },
  {
   "cell_type": "code",
   "execution_count": null,
   "metadata": {},
   "outputs": [],
   "source": []
  },
  {
   "cell_type": "code",
   "execution_count": 98,
   "metadata": {},
   "outputs": [
    {
     "data": {
      "image/png": "[encoded data removed]",
      "text/plain": [
       "<Figure size 432x288 with 1 Axes>"
      ]
     },
     "metadata": {},
     "output_type": "display_data"
    }
   ],
   "source": [
    "import numpy as np\n",
    "from scipy.stats import gaussian_kde\n",
    "from pylab import plt\n",
    "\n",
    "np.random.seed(10)\n",
    "\n",
    "x = np.random.rand(100)\n",
    "y = np.random.rand(100)\n",
    "kde = gaussian_kde(np.vstack([x, y]))\n",
    "X, Y = np.meshgrid(np.linspace(0, 1, 100), np.linspace(0, 1, 100))\n",
    "Z = kde(np.vstack([X.ravel(), Y.ravel()])).reshape(X.shape)\n",
    "\n",
    "plt.contourf(X, Y, Z)\n",
    "plt.show()"
   ]
  },
  {
   "cell_type": "code",
   "execution_count": 101,
   "metadata": {},
   "outputs": [
    {
     "data": {
      "text/plain": [
       "0.3535353535353536"
      ]
     },
     "execution_count": 101,
     "metadata": {},
     "output_type": "execute_result"
    }
   ],
   "source": [
    "X.ravel()[np.argmax(Z.ravel())]"
   ]
  },
  {
   "cell_type": "code",
   "execution_count": 100,
   "metadata": {},
   "outputs": [
    {
     "data": {
      "text/plain": [
       "0.5555555555555556"
      ]
     },
     "execution_count": 100,
     "metadata": {},
     "output_type": "execute_result"
    }
   ],
   "source": [
    "Y.ravel()[np.argmax(Z.ravel())]"
   ]
  },
  {
   "cell_type": "code",
   "execution_count": 102,
   "metadata": {},
   "outputs": [
    {
     "data": {
      "text/plain": [
       "1.231809221230128"
      ]
     },
     "execution_count": 102,
     "metadata": {},
     "output_type": "execute_result"
    }
   ],
   "source": []
  },
  {
   "cell_type": "code",
   "execution_count": null,
   "metadata": {},
   "outputs": [],
   "source": [
    "X.ravel()[Z.ravel()>np.percentile(Z, 90)]\n",
    "Y.ravel()[Z.ravel()>np.percentile(Z, 90)]"
   ]
  },
  {
   "cell_type": "code",
   "execution_count": null,
   "metadata": {},
   "outputs": [],
   "source": []
  }
 ],
 "metadata": {
  "kernelspec": {
   "display_name": "Python 3",
   "language": "python",
   "name": "python3"
  },
  "language_info": {
   "codemirror_mode": {
    "name": "ipython",
    "version": 3
   },
   "file_extension": ".py",
   "mimetype": "text/x-python",
   "name": "python",
   "nbconvert_exporter": "python",
   "pygments_lexer": "ipython3",
   "version": "3.5.4"
  }
 },
 "nbformat": 4,
 "nbformat_minor": 2
}
