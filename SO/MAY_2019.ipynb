{
 "cells": [
  {
   "cell_type": "markdown",
   "metadata": {},
   "source": [
    "### Content\n",
    "\n",
    "SO answers, May, 2019 "
   ]
  },
  {
   "cell_type": "markdown",
   "metadata": {},
   "source": [
    "#1. https://stackoverflow.com/questions/55929257/electric-potential-of-points-using-scipy-and-distance"
   ]
  },
  {
   "cell_type": "code",
   "execution_count": 1,
   "metadata": {},
   "outputs": [],
   "source": [
    "import numpy as np"
   ]
  },
  {
   "cell_type": "code",
   "execution_count": 36,
   "metadata": {},
   "outputs": [],
   "source": [
    "def get_electric_potential(x, qi, ri):\n",
    "    \"\"\"\n",
    "    x = (x1, x2, x3)\n",
    "    \n",
    "    qi = (q1, ..., qN)\n",
    "    \n",
    "    ri = (...).shape = 3 x N\n",
    "    \"\"\"\n",
    "    eps0 = 0.00001 # Put your value here!!!\n",
    "    C = 1 / 4 / np.pi / eps0\n",
    "    C = 1  # comment this line\n",
    "    return C * ((qi / np.diag((x - ri).T @ (x - ri))) * (x - ri)).sum(axis=1)   "
   ]
  },
  {
   "cell_type": "code",
   "execution_count": 39,
   "metadata": {},
   "outputs": [
    {
     "data": {
      "text/plain": [
       "array([-0.28622007, -0.83010791, -1.37399575])"
      ]
     },
     "execution_count": 39,
     "metadata": {},
     "output_type": "execute_result"
    }
   ],
   "source": [
    "x = np.array([1,2,3])[:, np.newaxis]\n",
    "ri = np.arange(30).reshape(3, 10)\n",
    "qi = np.arange(10)\n",
    "get_electric_potential(x, qi, ri)"
   ]
  },
  {
   "cell_type": "markdown",
   "metadata": {},
   "source": [
    "#2 "
   ]
  },
  {
   "cell_type": "code",
   "execution_count": 2,
   "metadata": {},
   "outputs": [],
   "source": [
    "%matplotlib qt"
   ]
  },
  {
   "cell_type": "code",
   "execution_count": 17,
   "metadata": {},
   "outputs": [],
   "source": [
    "import numpy as np\n",
    "from matplotlib import pyplot as plt\n",
    "from scipy.interpolate import griddata\n",
    "\n",
    "ax = plt.subplot()\n",
    "ax.set_aspect(1)\n",
    "\n",
    "# Simulate some given data.\n",
    "x, y = np.meshgrid(np.linspace(-10, 10, 20), np.linspace(-10, 10, 20))\n",
    "phi = np.arctan2(y, x) % (2 * np.pi)\n",
    "data = np.arctan2(np.cos(phi), np.sin(phi)) % np.pi\n",
    "\n",
    "# Plot data.\n",
    "u = np.cos(data)\n",
    "v = np.sin(data)\n",
    "ax.quiver(x, y, u, v, headlength=0.01, headaxislength=0, pivot='middle', units='xy')\n",
    "\n",
    "# Create a smaller grid within.\n",
    "x1, y1 = np.meshgrid(np.linspace(-6, 5, 20), np.linspace(-4, 8, 25))\n",
    "# ax.plot(x1, y1, '.', color='red', markersize=2)\n",
    "\n",
    "# Prepare data.\n",
    "\n",
    "\n",
    "# Interpolate data on grid.\n",
    "interpolation = griddata((x.flatten(), y.flatten()), data.flatten(), (x1.flatten(), y1.flatten()), method='nearest')\n",
    "#u1 = griddata((x.flatten(), y.flatten()), (u.flatten()), (x1.flatten(), y1.flatten()), method='nearest')\n",
    "#v1 = griddata((x.flatten(), y.flatten()), (v.flatten()), (x1.flatten(), y1.flatten()), method='nearest')\n",
    "# Plot interpolated data.\n",
    "u1 = np.cos(interpolation)\n",
    "v1 = np.sin(interpolation)\n",
    "ax.quiver(x1, y1, u1, v1, headlength=0.01, headaxislength=0, pivot='middle', units='xy',\n",
    "          scale=3, width=0.03, color='red')\n",
    "\n",
    "plt.show()"
   ]
  },
  {
   "cell_type": "code",
   "execution_count": null,
   "metadata": {},
   "outputs": [],
   "source": []
  }
 ],
 "metadata": {
  "kernelspec": {
   "display_name": "Python 3",
   "language": "python",
   "name": "python3"
  },
  "language_info": {
   "codemirror_mode": {
    "name": "ipython",
    "version": 3
   },
   "file_extension": ".py",
   "mimetype": "text/x-python",
   "name": "python",
   "nbconvert_exporter": "python",
   "pygments_lexer": "ipython3",
   "version": "3.7.1"
  }
 },
 "nbformat": 4,
 "nbformat_minor": 2
}
