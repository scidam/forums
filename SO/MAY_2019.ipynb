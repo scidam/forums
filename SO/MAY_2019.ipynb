{
 "cells": [
  {
   "cell_type": "markdown",
   "metadata": {},
   "source": [
    "### Content\n",
    "\n",
    "SO answers, May, 2019 "
   ]
  },
  {
   "cell_type": "markdown",
   "metadata": {},
   "source": [
    "#1. https://stackoverflow.com/questions/55929257/electric-potential-of-points-using-scipy-and-distance"
   ]
  },
  {
   "cell_type": "code",
   "execution_count": 1,
   "metadata": {},
   "outputs": [],
   "source": [
    "import numpy as np"
   ]
  },
  {
   "cell_type": "code",
   "execution_count": 36,
   "metadata": {},
   "outputs": [],
   "source": [
    "def get_electric_potential(x, qi, ri):\n",
    "    \"\"\"\n",
    "    x = (x1, x2, x3)\n",
    "    \n",
    "    qi = (q1, ..., qN)\n",
    "    \n",
    "    ri = (...).shape = 3 x N\n",
    "    \"\"\"\n",
    "    eps0 = 0.00001 # Put your value here!!!\n",
    "    C = 1 / 4 / np.pi / eps0\n",
    "    C = 1  # comment this line\n",
    "    return C * ((qi / np.diag((x - ri).T @ (x - ri))) * (x - ri)).sum(axis=1)   "
   ]
  },
  {
   "cell_type": "code",
   "execution_count": 39,
   "metadata": {},
   "outputs": [
    {
     "data": {
      "text/plain": [
       "array([-0.28622007, -0.83010791, -1.37399575])"
      ]
     },
     "execution_count": 39,
     "metadata": {},
     "output_type": "execute_result"
    }
   ],
   "source": [
    "x = np.array([1,2,3])[:, np.newaxis]\n",
    "ri = np.arange(30).reshape(3, 10)\n",
    "qi = np.arange(10)\n",
    "get_electric_potential(x, qi, ri)"
   ]
  },
  {
   "cell_type": "markdown",
   "metadata": {},
   "source": [
    "#2 "
   ]
  },
  {
   "cell_type": "code",
   "execution_count": 2,
   "metadata": {},
   "outputs": [],
   "source": [
    "%matplotlib qt"
   ]
  },
  {
   "cell_type": "code",
   "execution_count": 17,
   "metadata": {},
   "outputs": [],
   "source": [
    "import numpy as np\n",
    "from matplotlib import pyplot as plt\n",
    "from scipy.interpolate import griddata\n",
    "\n",
    "ax = plt.subplot()\n",
    "ax.set_aspect(1)\n",
    "\n",
    "# Simulate some given data.\n",
    "x, y = np.meshgrid(np.linspace(-10, 10, 20), np.linspace(-10, 10, 20))\n",
    "phi = np.arctan2(y, x) % (2 * np.pi)\n",
    "data = np.arctan2(np.cos(phi), np.sin(phi)) % np.pi\n",
    "\n",
    "# Plot data.\n",
    "u = np.cos(data)\n",
    "v = np.sin(data)\n",
    "ax.quiver(x, y, u, v, headlength=0.01, headaxislength=0, pivot='middle', units='xy')\n",
    "\n",
    "# Create a smaller grid within.\n",
    "x1, y1 = np.meshgrid(np.linspace(-6, 5, 20), np.linspace(-4, 8, 25))\n",
    "# ax.plot(x1, y1, '.', color='red', markersize=2)\n",
    "\n",
    "# Prepare data.\n",
    "\n",
    "\n",
    "# Interpolate data on grid.\n",
    "interpolation = griddata((x.flatten(), y.flatten()), data.flatten(), (x1.flatten(), y1.flatten()), method='nearest')\n",
    "#u1 = griddata((x.flatten(), y.flatten()), (u.flatten()), (x1.flatten(), y1.flatten()), method='nearest')\n",
    "#v1 = griddata((x.flatten(), y.flatten()), (v.flatten()), (x1.flatten(), y1.flatten()), method='nearest')\n",
    "# Plot interpolated data.\n",
    "u1 = np.cos(interpolation)\n",
    "v1 = np.sin(interpolation)\n",
    "ax.quiver(x1, y1, u1, v1, headlength=0.01, headaxislength=0, pivot='middle', units='xy',\n",
    "          scale=3, width=0.03, color='red')\n",
    "\n",
    "plt.show()"
   ]
  },
  {
   "cell_type": "markdown",
   "metadata": {},
   "source": [
    "#3. https://stackoverflow.com/questions/55998113/how-to-find-combined-standard-deviation-of-two-columns-in-python-from-data-frame"
   ]
  },
  {
   "cell_type": "code",
   "execution_count": 37,
   "metadata": {},
   "outputs": [
    {
     "data": {
      "text/plain": [
       "2.8722813232690143"
      ]
     },
     "execution_count": 37,
     "metadata": {},
     "output_type": "execute_result"
    }
   ],
   "source": [
    "import pandas as pd\n",
    "df = pd.DataFrame({'a' :  pd.np.arange(10), 'b': pd.np.arange(10)})\n",
    "pd.np.r_[df.loc[:,'a'].values, df.loc[:,'b'].values].std()"
   ]
  },
  {
   "cell_type": "code",
   "execution_count": null,
   "metadata": {},
   "outputs": [],
   "source": []
  },
  {
   "cell_type": "code",
   "execution_count": 71,
   "metadata": {},
   "outputs": [],
   "source": [
    "from sklearn import svm\n",
    "import numpy as np\n",
    "import matplotlib.pyplot as plt\n",
    "\n",
    "group1 = np.array([[0.067, 0.21], [0.092, 0.21], \n",
    "  [0.294, 0.445], [0.227, 0.521], [0.185, 0.597], \n",
    "  [0.185, 0.689], [0.235, 0.748], [0.319, 0.773], \n",
    "  [0.387, 0.739], [0.437, 0.672], [0.496, 0.739],\n",
    "  [0.571, 0.773], [0.639, 0.765], [0.765, 0.924],\n",
    "  [0.807, 0.933], [0.849, 0.941]])\n",
    "\n",
    "group2 = np.array([[0.118, 0.143], [0.118, 0.176], \n",
    "  [0.345, 0.378], [0.395, 0.319], [0.437, 0.261],\n",
    "  [0.496, 0.328], [0.546, 0.395], [0.605, 0.462],\n",
    "  [0.655, 0.529], [0.697, 0.597], [0.706, 0.664],\n",
    "  [0.681, 0.723], [0.849, 0.798], [0.857, 0.849],\n",
    "  [0.866, 0.899]])\n"
   ]
  },
  {
   "cell_type": "code",
   "execution_count": 81,
   "metadata": {},
   "outputs": [],
   "source": [
    "clf = svm.SVC(kernel='linear', C=100)"
   ]
  },
  {
   "cell_type": "code",
   "execution_count": 82,
   "metadata": {},
   "outputs": [
    {
     "data": {
      "text/plain": [
       "SVC(C=100, cache_size=200, class_weight=None, coef0=0.0,\n",
       "  decision_function_shape='ovr', degree=3, gamma='auto_deprecated',\n",
       "  kernel='linear', max_iter=-1, probability=False, random_state=None,\n",
       "  shrinking=True, tol=0.001, verbose=False)"
      ]
     },
     "execution_count": 82,
     "metadata": {},
     "output_type": "execute_result"
    }
   ],
   "source": [
    "clf.fit(X, y)"
   ]
  },
  {
   "cell_type": "code",
   "execution_count": 83,
   "metadata": {},
   "outputs": [
    {
     "data": {
      "image/png": "[encoded data removed]",
      "text/plain": [
       "<Figure size 432x288 with 1 Axes>"
      ]
     },
     "metadata": {},
     "output_type": "display_data"
    }
   ],
   "source": [
    "plt.plot(group1[:,0], group1[:,1], 'ro', group2[:,0], group2[:,1], 'bx')\n",
    "ax = plt.gca()\n",
    "xlim = ax.get_xlim()\n",
    "ylim = ax.get_ylim()\n",
    "xx = np.linspace(xlim[0], xlim[1], 20)\n",
    "yy = np.linspace(ylim[0], ylim[1], 20)\n",
    "YY, XX = np.meshgrid(yy, xx)\n",
    "xy = np.vstack([XX.ravel(), YY.ravel()]).T\n",
    "Z = clf.decision_function(xy).reshape(XX.shape)\n",
    "ax.contour(XX, YY, Z, colors='k', levels=[-1, 0, 1], alpha=0.5,\n",
    "           linestyles=['--', '-', '--'])\n",
    "ax.scatter(clf.support_vectors_[:, 0], clf.support_vectors_[:, 1], s=100,\n",
    "           linewidth=1, facecolors='none', edgecolors='k')\n",
    "plt.show()"
   ]
  },
  {
   "cell_type": "code",
   "execution_count": null,
   "metadata": {},
   "outputs": [],
   "source": []
  }
 ],
 "metadata": {
  "kernelspec": {
   "display_name": "Python 3",
   "language": "python",
   "name": "python3"
  },
  "language_info": {
   "codemirror_mode": {
    "name": "ipython",
    "version": 3
   },
   "file_extension": ".py",
   "mimetype": "text/x-python",
   "name": "python",
   "nbconvert_exporter": "python",
   "pygments_lexer": "ipython3",
   "version": "3.5.4"
  }
 },
 "nbformat": 4,
 "nbformat_minor": 2
}
