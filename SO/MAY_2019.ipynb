{
 "cells": [
  {
   "cell_type": "markdown",
   "metadata": {},
   "source": [
    "### Content\n",
    "\n",
    "SO answers, May, 2019 "
   ]
  },
  {
   "cell_type": "markdown",
   "metadata": {},
   "source": [
    "#1. https://stackoverflow.com/questions/55929257/electric-potential-of-points-using-scipy-and-distance"
   ]
  },
  {
   "cell_type": "code",
   "execution_count": 1,
   "metadata": {},
   "outputs": [],
   "source": [
    "import numpy as np"
   ]
  },
  {
   "cell_type": "code",
   "execution_count": 36,
   "metadata": {},
   "outputs": [],
   "source": [
    "def get_electric_potential(x, qi, ri):\n",
    "    \"\"\"\n",
    "    x = (x1, x2, x3)\n",
    "    \n",
    "    qi = (q1, ..., qN)\n",
    "    \n",
    "    ri = (...).shape = 3 x N\n",
    "    \"\"\"\n",
    "    eps0 = 0.00001 # Put your value here!!!\n",
    "    C = 1 / 4 / np.pi / eps0\n",
    "    C = 1  # comment this line\n",
    "    return C * ((qi / np.diag((x - ri).T @ (x - ri))) * (x - ri)).sum(axis=1)   "
   ]
  },
  {
   "cell_type": "code",
   "execution_count": 39,
   "metadata": {},
   "outputs": [
    {
     "data": {
      "text/plain": [
       "array([-0.28622007, -0.83010791, -1.37399575])"
      ]
     },
     "execution_count": 39,
     "metadata": {},
     "output_type": "execute_result"
    }
   ],
   "source": [
    "x = np.array([1,2,3])[:, np.newaxis]\n",
    "ri = np.arange(30).reshape(3, 10)\n",
    "qi = np.arange(10)\n",
    "get_electric_potential(x, qi, ri)"
   ]
  }
 ],
 "metadata": {
  "kernelspec": {
   "display_name": "Python 3",
   "language": "python",
   "name": "python3"
  },
  "language_info": {
   "codemirror_mode": {
    "name": "ipython",
    "version": 3
   },
   "file_extension": ".py",
   "mimetype": "text/x-python",
   "name": "python",
   "nbconvert_exporter": "python",
   "pygments_lexer": "ipython3",
   "version": "3.7.1"
  }
 },
 "nbformat": 4,
 "nbformat_minor": 2
}
