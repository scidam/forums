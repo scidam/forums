{
 "cells": [
  {
   "cell_type": "markdown",
   "metadata": {},
   "source": [
    "# Content"
   ]
  },
  {
   "cell_type": "markdown",
   "metadata": {},
   "source": [
    " 1. https://python-forum.io/Thread-iterator-from-an-iterator\n",
    " "
   ]
  },
  {
   "cell_type": "markdown",
   "metadata": {},
   "source": [
    "1. Decoration of iterables"
   ]
  },
  {
   "cell_type": "code",
   "execution_count": 100,
   "metadata": {},
   "outputs": [
    {
     "name": "stdout",
     "output_type": "stream",
     "text": [
      "1 <class 'str'>\n",
      "4 <class 'str'>\n",
      "9 <class 'str'>\n"
     ]
    }
   ],
   "source": [
    "x = [1,2,3]\n",
    "class IterDecor:\n",
    "    def __iter__(self):\n",
    "        return self\n",
    "\n",
    "    def __next__(self):\n",
    "        value = next(self._iterator)\n",
    "        return str(value * value)\n",
    "    \n",
    "    def __call__(self, iterator):\n",
    "        self._iterator = iterator\n",
    "        return self\n",
    "\n",
    "c = IterDecor()\n",
    "\n",
    "x = c(iter(x))\n",
    "\n",
    "for z in x:\n",
    "    print(z, type(z))\n",
    "    "
   ]
  }
 ],
 "metadata": {
  "kernelspec": {
   "display_name": "Python 3",
   "language": "python",
   "name": "python3"
  },
  "language_info": {
   "codemirror_mode": {
    "name": "ipython",
    "version": 3
   },
   "file_extension": ".py",
   "mimetype": "text/x-python",
   "name": "python",
   "nbconvert_exporter": "python",
   "pygments_lexer": "ipython3",
   "version": "3.5.4"
  }
 },
 "nbformat": 4,
 "nbformat_minor": 2
}
