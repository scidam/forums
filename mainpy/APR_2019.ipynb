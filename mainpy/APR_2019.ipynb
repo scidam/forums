{
 "cells": [
  {
   "cell_type": "markdown",
   "metadata": {},
   "source": [
    "# Content\n",
    "\n",
    "April, 2019"
   ]
  },
  {
   "cell_type": "markdown",
   "metadata": {},
   "source": [
    " 1. https://python-forum.io/Thread-iterator-from-an-iterator\n",
    " "
   ]
  },
  {
   "cell_type": "markdown",
   "metadata": {},
   "source": [
    "1. Decoration of iterables"
   ]
  },
  {
   "cell_type": "code",
   "execution_count": 6,
   "metadata": {},
   "outputs": [
    {
     "name": "stdout",
     "output_type": "stream",
     "text": [
      "1 <class 'str'>\n",
      "4 <class 'str'>\n",
      "9 <class 'str'>\n"
     ]
    }
   ],
   "source": [
    "x = [1,2,3]\n",
    "class IterDecor:\n",
    "    def __iter__(self):\n",
    "        return self\n",
    "\n",
    "    def __next__(self):\n",
    "        value = next(self._iterator)\n",
    "        return str(value * value)\n",
    "    \n",
    "    def __call__(self, iterator):\n",
    "        self._iterator = iterator\n",
    "        return self\n",
    "\n",
    "c = IterDecor()\n",
    "\n",
    "x = c(iter(x))\n",
    "\n",
    "for z in x:\n",
    "    print(z, type(z))\n",
    "    "
   ]
  },
  {
   "cell_type": "markdown",
   "metadata": {},
   "source": [
    "#2. https://python-forum.io/Thread-Issues-with-matplotlib-pyplot"
   ]
  },
  {
   "cell_type": "code",
   "execution_count": 7,
   "metadata": {},
   "outputs": [
    {
     "data": {
      "image/png": "[encoded data removed]",
      "text/plain": [
       "<Figure size 432x288 with 1 Axes>"
      ]
     },
     "metadata": {},
     "output_type": "display_data"
    }
   ],
   "source": [
    "import numpy as np\n",
    "from matplotlib import pyplot as plt\n",
    "xvalues = np.linspace(6, 21, 16) \n",
    "\n",
    "@np.vectorize\n",
    "def ln(x, y):\n",
    "    return x + y\n",
    "\n",
    "\n",
    "def error(j, xvalues):\n",
    "    return  abs(ln(xvalues, j) - np.log(xvalues))\n",
    "\n",
    "for j, c in zip(range(2, 6), 'bgry'):\n",
    "    plt.semilogy(xvalues, error(j, xvalues), color=c)\n",
    "plt.show()"
   ]
  },
  {
   "cell_type": "markdown",
   "metadata": {},
   "source": [
    "#2. https://python-forum.io/Thread-this-weekend-s-python-class-assignment"
   ]
  },
  {
   "cell_type": "code",
   "execution_count": 102,
   "metadata": {},
   "outputs": [],
   "source": [
    "from itertools import accumulate\n",
    "def decompose(a, base=2):\n",
    "    \"\"\"Decompose the number by powers of specified base. \n",
    "    \n",
    "    4672 = 2**12 + 2**9 + 2**6 (base = 2)\n",
    "    \"\"\"\n",
    "    res = list()\n",
    "    def _recursion(a, res=res):\n",
    "        if a % base != 0:\n",
    "            raise Exception(\"Couldn't decompose the number.\")\n",
    "        ind = 0\n",
    "        while a % base == 0:\n",
    "            a = a / base \n",
    "            ind += 1\n",
    "        if ind:\n",
    "            res.append(ind)\n",
    "        if a == 1:\n",
    "            return list(accumulate(res))\n",
    "        if a > 1:\n",
    "            a -= 1\n",
    "            _recursion(a, res=res)\n",
    "    _recursion(a)\n",
    "    return list(accumulate(res))"
   ]
  },
  {
   "cell_type": "code",
   "execution_count": 103,
   "metadata": {},
   "outputs": [
    {
     "data": {
      "text/plain": [
       "[2, 3, 4, 5, 6]"
      ]
     },
     "execution_count": 103,
     "metadata": {},
     "output_type": "execute_result"
    }
   ],
   "source": [
    "decompose(1089,3)"
   ]
  }
 ],
 "metadata": {
  "kernelspec": {
   "display_name": "Python 3",
   "language": "python",
   "name": "python3"
  },
  "language_info": {
   "codemirror_mode": {
    "name": "ipython",
    "version": 3
   },
   "file_extension": ".py",
   "mimetype": "text/x-python",
   "name": "python",
   "nbconvert_exporter": "python",
   "pygments_lexer": "ipython3",
   "version": "3.5.4"
  }
 },
 "nbformat": 4,
 "nbformat_minor": 2
}
