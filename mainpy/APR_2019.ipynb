{
 "cells": [
  {
   "cell_type": "markdown",
   "metadata": {},
   "source": [
    "# Content\n",
    "\n",
    "April, 2019"
   ]
  },
  {
   "cell_type": "markdown",
   "metadata": {},
   "source": [
    " 1. https://python-forum.io/Thread-iterator-from-an-iterator\n",
    " "
   ]
  },
  {
   "cell_type": "markdown",
   "metadata": {},
   "source": [
    "1. Decoration of iterables"
   ]
  },
  {
   "cell_type": "code",
   "execution_count": 6,
   "metadata": {},
   "outputs": [
    {
     "name": "stdout",
     "output_type": "stream",
     "text": [
      "1 <class 'str'>\n",
      "4 <class 'str'>\n",
      "9 <class 'str'>\n"
     ]
    }
   ],
   "source": [
    "x = [1,2,3]\n",
    "class IterDecor:\n",
    "    def __iter__(self):\n",
    "        return self\n",
    "\n",
    "    def __next__(self):\n",
    "        value = next(self._iterator)\n",
    "        return str(value * value)\n",
    "    \n",
    "    def __call__(self, iterator):\n",
    "        self._iterator = iterator\n",
    "        return self\n",
    "\n",
    "c = IterDecor()\n",
    "\n",
    "x = c(iter(x))\n",
    "\n",
    "for z in x:\n",
    "    print(z, type(z))\n",
    "    "
   ]
  },
  {
   "cell_type": "markdown",
   "metadata": {},
   "source": [
    "#2. https://python-forum.io/Thread-Issues-with-matplotlib-pyplot"
   ]
  },
  {
   "cell_type": "code",
   "execution_count": 7,
   "metadata": {},
   "outputs": [
    {
     "data": {
      "image/png": "[encoded data removed]",
      "text/plain": [
       "<Figure size 432x288 with 1 Axes>"
      ]
     },
     "metadata": {},
     "output_type": "display_data"
    }
   ],
   "source": [
    "import numpy as np\n",
    "from matplotlib import pyplot as plt\n",
    "xvalues = np.linspace(6, 21, 16) \n",
    "\n",
    "@np.vectorize\n",
    "def ln(x, y):\n",
    "    return x + y\n",
    "\n",
    "\n",
    "def error(j, xvalues):\n",
    "    return  abs(ln(xvalues, j) - np.log(xvalues))\n",
    "\n",
    "for j, c in zip(range(2, 6), 'bgry'):\n",
    "    plt.semilogy(xvalues, error(j, xvalues), color=c)\n",
    "plt.show()"
   ]
  },
  {
   "cell_type": "markdown",
   "metadata": {},
   "source": [
    "#2. https://python-forum.io/Thread-this-weekend-s-python-class-assignment"
   ]
  },
  {
   "cell_type": "code",
   "execution_count": 102,
   "metadata": {},
   "outputs": [],
   "source": [
    "from itertools import accumulate\n",
    "def decompose(a, base=2):\n",
    "    \"\"\"Decompose the number by powers of specified base. \n",
    "    \n",
    "    4672 = 2**12 + 2**9 + 2**6 (base = 2)\n",
    "    \"\"\"\n",
    "    res = list()\n",
    "    def _recursion(a, res=res):\n",
    "        if a % base != 0:\n",
    "            raise Exception(\"Couldn't decompose the number.\")\n",
    "        ind = 0\n",
    "        while a % base == 0:\n",
    "            a = a / base \n",
    "            ind += 1\n",
    "        if ind:\n",
    "            res.append(ind)\n",
    "        if a == 1:\n",
    "            return list(accumulate(res))\n",
    "        if a > 1:\n",
    "            a -= 1\n",
    "            _recursion(a, res=res)\n",
    "    _recursion(a)\n",
    "    return list(accumulate(res))"
   ]
  },
  {
   "cell_type": "code",
   "execution_count": 103,
   "metadata": {},
   "outputs": [
    {
     "data": {
      "text/plain": [
       "[2, 3, 4, 5, 6]"
      ]
     },
     "execution_count": 103,
     "metadata": {},
     "output_type": "execute_result"
    }
   ],
   "source": [
    "decompose(1089,3)"
   ]
  },
  {
   "cell_type": "markdown",
   "metadata": {},
   "source": [
    "#3. https://python-forum.io/Thread-Determining-Beta-distribution-parameters-alpha-beta-using-CDF\n",
    "Fitting Beta(a, b) distribution"
   ]
  },
  {
   "cell_type": "code",
   "execution_count": 31,
   "metadata": {},
   "outputs": [],
   "source": [
    "from scipy.stats import beta\n",
    "import numpy as np\n"
   ]
  },
  {
   "cell_type": "code",
   "execution_count": 35,
   "metadata": {},
   "outputs": [
    {
     "data": {
      "text/plain": [
       "      fun: 2.470038645013013e-12\n",
       " hess_inv: array([[30.76256164, 35.8030502 ],\n",
       "       [35.8030502 , 44.63868523]])\n",
       "      jac: array([-1.37334002e-06,  1.21964805e-06])\n",
       "  message: 'Optimization terminated successfully.'\n",
       "     nfev: 56\n",
       "      nit: 11\n",
       "     njev: 14\n",
       "   status: 0\n",
       "  success: True\n",
       "        x: array([1.00000141, 1.00000565])"
      ]
     },
     "execution_count": 35,
     "metadata": {},
     "output_type": "execute_result"
    }
   ],
   "source": [
    "from scipy.optimize import minimize\n",
    "\n",
    "def loss_func(x, point1=(20, 0.2), point2=(50, 0.5)):\n",
    "    a, b = x[0], x[1]\n",
    "    return (beta.cdf(point1[0], a, b, scale=100) - point1[-1])**2 +(beta.cdf(point2[0], a, b, scale=100) - point2[-1])**2 \n",
    "    \n",
    "\n",
    "minimize(loss_func, x0=np.array([0.5, 0.5]))\n",
    "    "
   ]
  },
  {
   "cell_type": "code",
   "execution_count": 41,
   "metadata": {},
   "outputs": [
    {
     "data": {
      "text/plain": [
       "[<matplotlib.lines.Line2D at 0x7fa65febbb70>]"
      ]
     },
     "execution_count": 41,
     "metadata": {},
     "output_type": "execute_result"
    }
   ],
   "source": [
    "\n",
    "x = np.linspace(0, 1000, 100)\n",
    "a, b  = 1.00000141, 1.00000565\n",
    "plt.plot(x, beta.cdf(x, a, b, scale=100), 'r-', lw=5, alpha=0.6, label='beta pdf')\n"
   ]
  },
  {
   "cell_type": "code",
   "execution_count": 45,
   "metadata": {},
   "outputs": [
    {
     "data": {
      "text/plain": [
       "0.20000055474589082"
      ]
     },
     "execution_count": 45,
     "metadata": {},
     "output_type": "execute_result"
    }
   ],
   "source": [
    "beta.cdf(20, a, b, scale=100)"
   ]
  },
  {
   "cell_type": "markdown",
   "metadata": {},
   "source": [
    "#4. https://python-forum.io/Thread-3D-Plotting-in-Matplotlib-for-Python"
   ]
  },
  {
   "cell_type": "code",
   "execution_count": 48,
   "metadata": {},
   "outputs": [
    {
     "data": {
      "image/png": "[encoded data removed]",
      "text/plain": [
       "<Figure size 432x288 with 1 Axes>"
      ]
     },
     "metadata": {},
     "output_type": "display_data"
    }
   ],
   "source": [
    "from mpl_toolkits.mplot3d import Axes3D\n",
    "import matplotlib.pyplot as plt\n",
    " \n",
    " \n",
    " \n",
    "fig = plt.figure()\n",
    "ax = fig.add_subplot(111, projection='3d')\n",
    " \n",
    "z = [8,7,6,7,9,10,9,8,10,8,9,10,9,8,10,8,9,10,9,8,10,8,9,10]\n",
    "x = [1,1,1,1,1,1,2,2,2,2,2,2,3,3,3,3,3,3,4,4,4,4,4,4]\n",
    "y = [1,2,3,4,5,6,1,2,3,4,5,6,1,2,3,4,5,6,1,2,3,4,5,6]\n",
    " \n",
    "    \n",
    "colored_inds = [10, 12, 15]  # points #10, 12 and 15 will be blue.\n",
    "colors = ['r' if j not in colored_inds else 'b' for j in range(len(x))]\n",
    "ax.scatter(x, y, z, c=colors, marker='o')\n",
    "     \n",
    "ax.set_xlabel('X Label')\n",
    "ax.set_ylabel('Y Label')\n",
    "ax.set_zlabel('Z Label')\n",
    " \n",
    "plt.show()"
   ]
  },
  {
   "cell_type": "markdown",
   "metadata": {},
   "source": [
    "#5. https://python-forum.io/Thread-Automate-the-boring-stuff-regex-not-matching"
   ]
  },
  {
   "cell_type": "code",
   "execution_count": 14,
   "metadata": {},
   "outputs": [],
   "source": [
    "import re\n",
    "x = 'my numbers are 415-555-1234, 555-4242, 212-555-0000'\n",
    "phoneRegex = re.compile(r'((?:\\d\\d\\d-)?\\d\\d\\d-\\d\\d\\d\\d)')"
   ]
  },
  {
   "cell_type": "code",
   "execution_count": 15,
   "metadata": {},
   "outputs": [
    {
     "data": {
      "text/plain": [
       "['415-555-1234', '555-4242', '212-555-0000']"
      ]
     },
     "execution_count": 15,
     "metadata": {},
     "output_type": "execute_result"
    }
   ],
   "source": [
    "phoneRegex.findall(x)"
   ]
  },
  {
   "cell_type": "markdown",
   "metadata": {},
   "source": [
    "#6. https://python-forum.io/Thread-Python-to-iterate-a-number-of-possible-combinations"
   ]
  },
  {
   "cell_type": "code",
   "execution_count": 75,
   "metadata": {},
   "outputs": [],
   "source": [
    "data = [(x, 'message #{}'.format(x)) for x in range(2 ** 10)] #  [(key, value), ...] #kv-store, simple model "
   ]
  },
  {
   "cell_type": "code",
   "execution_count": null,
   "metadata": {},
   "outputs": [],
   "source": [
    "Ok, we have a database presented by a list of tuples (key, value); That database could include multiple keys, \n",
    "e.g. data = [(key1, val1), (key1, val2), (key1, val3), (key2, val7)....]\n",
    "\n",
    "You can choose another model of the db, or use external db solution. This is a simple model of a database.\n",
    "\n",
    "Lets a user have selected some checkboxes, e.g. `(0,0,0,0,0,0,1,0,1,0)`, this could be converted to some\n",
    "binary value `0b0000001010` that coincedes to 10 (in decimal number system). So, we could treat that \n",
    "any particular checkbox selection is already presented in binary form.\n",
    "\n",
    "Now we need to make a query to our database. There are two general form of queries could be done here: \n",
    "    1) find records, where at least one checkbox is the same, as in the database; \n",
    "    2) find records, where all selected (unselected) checkboxes are the that, as in the database;"
   ]
  },
  {
   "cell_type": "code",
   "execution_count": 87,
   "metadata": {},
   "outputs": [
    {
     "data": {
      "text/plain": [
       "0"
      ]
     },
     "execution_count": 87,
     "metadata": {},
     "output_type": "execute_result"
    }
   ],
   "source": [
    "How to compare two keys (checkbox selection and record key)?\n",
    "\n",
    "To check full equality, it is sufficient to use comparison operator `==`.\n",
    "0b0000001010 == 0b0000000101 => False\n",
    "0b0000001010 == 0b0000001010 => True  # all checkboxes should be the same, as in the db\n",
    "\n",
    "If we need to perform comparison by \"at least one checkbox equal\" scheme, we can\n",
    "use bitwise `and` operator. \n",
    "\n"
   ]
  },
  {
   "cell_type": "code",
   "execution_count": 89,
   "metadata": {},
   "outputs": [
    {
     "data": {
      "text/plain": [
       "True"
      ]
     },
     "execution_count": 89,
     "metadata": {},
     "output_type": "execute_result"
    }
   ],
   "source": [
    "bool(0b0000001010 & 0b0000000010)"
   ]
  },
  {
   "cell_type": "code",
   "execution_count": 90,
   "metadata": {},
   "outputs": [
    {
     "data": {
      "text/plain": [
       "False"
      ]
     },
     "execution_count": 90,
     "metadata": {},
     "output_type": "execute_result"
    }
   ],
   "source": [
    "bool(0b0000001010 & 0b1100000000)"
   ]
  },
  {
   "cell_type": "code",
   "execution_count": 83,
   "metadata": {},
   "outputs": [
    {
     "name": "stdout",
     "output_type": "stream",
     "text": [
      "4\n"
     ]
    }
   ],
   "source": [
    "user_selected_checkboxes = 0b0000000100  # selection mask = (0,0,0,0,0,0,1,0,1,0); 1 - checkbox is selected\n",
    "print(user_selected_checkboxes) # get decimal reperesentation of selection mask"
   ]
  },
  {
   "cell_type": "code",
   "execution_count": 84,
   "metadata": {},
   "outputs": [],
   "source": [
    "at_least_one_criteria_met = [v for k, v in data if k & user_selected_checkboxes]"
   ]
  },
  {
   "cell_type": "code",
   "execution_count": 78,
   "metadata": {},
   "outputs": [
    {
     "data": {
      "text/plain": [
       "512"
      ]
     },
     "execution_count": 78,
     "metadata": {},
     "output_type": "execute_result"
    }
   ],
   "source": [
    "len(at_least_one_criteria_met)"
   ]
  },
  {
   "cell_type": "code",
   "execution_count": 80,
   "metadata": {},
   "outputs": [],
   "source": [
    "all_criteria_met = [v for k, v in data if k == user_selected_checkboxes]"
   ]
  },
  {
   "cell_type": "code",
   "execution_count": 81,
   "metadata": {},
   "outputs": [
    {
     "data": {
      "text/plain": [
       "['message #1']"
      ]
     },
     "execution_count": 81,
     "metadata": {},
     "output_type": "execute_result"
    }
   ],
   "source": [
    "all_criteria_met"
   ]
  },
  {
   "cell_type": "code",
   "execution_count": null,
   "metadata": {},
   "outputs": [],
   "source": [
    "You still need to adopt this for your needs. Note: searching in this cases has O(N) as\n",
    "complexity estimation (you need to check all elements in the db). This might be inappropriate in case of millions \n",
    "records or more. "
   ]
  },
  {
   "cell_type": "markdown",
   "metadata": {},
   "source": [
    "#7. https://python-forum.io/Thread-Same-line-length-in-slope-fields"
   ]
  },
  {
   "cell_type": "code",
   "execution_count": 33,
   "metadata": {},
   "outputs": [],
   "source": [
    "from pylab import plt, np\n",
    "def f(x,y):\n",
    "    return -y/x\n",
    "\n",
    "line_len = 0.2\n",
    "\n",
    "for m in [i for i in range(-4,5) if i!=0]:\n",
    "    for n in [i for i in range(-4,5) if i!=0]:\n",
    "        slope=f(m/2,n/2)\n",
    "        slope = np.arctan(slope)\n",
    "        plt.plot([m/2,m/2+line_len*np.cos(slope)],[n/2,line_len*np.sin(slope)+n/2],color='k')\n",
    "        plt.ylim(-2,2,1/2)\n",
    "        plt.xlim(-2,2,1/2)\n",
    "        plt.grid(True)"
   ]
  },
  {
   "cell_type": "code",
   "execution_count": 34,
   "metadata": {},
   "outputs": [
    {
     "data": {
      "image/png": "[encoded data removed]",
      "text/plain": [
       "<Figure size 432x288 with 1 Axes>"
      ]
     },
     "metadata": {},
     "output_type": "display_data"
    }
   ],
   "source": [
    "plt.show()"
   ]
  },
  {
   "cell_type": "code",
   "execution_count": 35,
   "metadata": {},
   "outputs": [
    {
     "ename": "AttributeError",
     "evalue": "module 'numpy' has no attribute 'arc'",
     "output_type": "error",
     "traceback": [
      "\u001b[0;31m---------------------------------------------------------------------------\u001b[0m",
      "\u001b[0;31mAttributeError\u001b[0m                            Traceback (most recent call last)",
      "\u001b[0;32m<ipython-input-35-f3afabdacc7a>\u001b[0m in \u001b[0;36m<module>\u001b[0;34m()\u001b[0m\n\u001b[0;32m----> 1\u001b[0;31m \u001b[0mnp\u001b[0m\u001b[0;34m.\u001b[0m\u001b[0marc\u001b[0m\u001b[0;34m\u001b[0m\u001b[0m\n\u001b[0m",
      "\u001b[0;31mAttributeError\u001b[0m: module 'numpy' has no attribute 'arc'"
     ]
    }
   ],
   "source": [
    "np.arc"
   ]
  },
  {
   "cell_type": "code",
   "execution_count": null,
   "metadata": {},
   "outputs": [],
   "source": []
  }
 ],
 "metadata": {
  "kernelspec": {
   "display_name": "Python 3",
   "language": "python",
   "name": "python3"
  },
  "language_info": {
   "codemirror_mode": {
    "name": "ipython",
    "version": 3
   },
   "file_extension": ".py",
   "mimetype": "text/x-python",
   "name": "python",
   "nbconvert_exporter": "python",
   "pygments_lexer": "ipython3",
   "version": "3.5.4"
  }
 },
 "nbformat": 4,
 "nbformat_minor": 2
}
