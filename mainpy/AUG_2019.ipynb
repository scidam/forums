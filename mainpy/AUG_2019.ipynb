{
 "cells": [
  {
   "cell_type": "markdown",
   "metadata": {},
   "source": [
    "1. https://python-forum.io/Thread-ValueError-The-truth-value-of-a-Series-is-ambiguous?pid=87704#pid87704"
   ]
  },
  {
   "cell_type": "markdown",
   "metadata": {},
   "source": [
    "Not sure, you got desired result executing `maxVal = max(data.values())#maximum value`"
   ]
  },
  {
   "cell_type": "code",
   "execution_count": 7,
   "metadata": {},
   "outputs": [],
   "source": [
    "import pandas as pd\n",
    "df = pd.DataFrame(pd.np.random.rand(10,10))"
   ]
  },
  {
   "cell_type": "code",
   "execution_count": 8,
   "metadata": {},
   "outputs": [],
   "source": [
    "x = {'a' : df}"
   ]
  },
  {
   "cell_type": "code",
   "execution_count": 15,
   "metadata": {},
   "outputs": [],
   "source": [
    "s=x.values()"
   ]
  },
  {
   "cell_type": "markdown",
   "metadata": {},
   "source": [
    "2. https://python-forum.io/Thread-Need-Help-With-Filtering-Data-For-Excel-Files-Using-Pandas"
   ]
  },
  {
   "cell_type": "code",
   "execution_count": 1,
   "metadata": {},
   "outputs": [
    {
     "data": {
      "text/html": [
       "<div>\n",
       "<style scoped>\n",
       "    .dataframe tbody tr th:only-of-type {\n",
       "        vertical-align: middle;\n",
       "    }\n",
       "\n",
       "    .dataframe tbody tr th {\n",
       "        vertical-align: top;\n",
       "    }\n",
       "\n",
       "    .dataframe thead th {\n",
       "        text-align: right;\n",
       "    }\n",
       "</style>\n",
       "<table border=\"1\" class=\"dataframe\">\n",
       "  <thead>\n",
       "    <tr style=\"text-align: right;\">\n",
       "      <th></th>\n",
       "      <th>Venue</th>\n",
       "      <th>A/C</th>\n",
       "      <th>DISPLAY/</th>\n",
       "      <th>Date</th>\n",
       "    </tr>\n",
       "  </thead>\n",
       "  <tbody>\n",
       "  </tbody>\n",
       "</table>\n",
       "</div>"
      ],
      "text/plain": [
       "Empty DataFrame\n",
       "Columns: [Venue, A/C, DISPLAY/, Date]\n",
       "Index: []"
      ]
     },
     "execution_count": 1,
     "metadata": {},
     "output_type": "execute_result"
    }
   ],
   "source": [
    "import pandas as pd\n",
    "data = pd.read_excel ('F0ED6EA8_1143_EC82_2E4534A1036AA506.xls')\n",
    "df = pd.DataFrame(data, columns= ['Venue','A/C','DISPLAY/','Date'])\n",
    "df[(df['Venue'].str.contains('[a-zA-Z]') & df['A/C'].str.contains('DHS')) & (df['A/C'].str.contains('DSS')) & (df['A/C'].str.contains('DAK')) & (df['A/C'].str.contains('HS')) & (df['A/C'] != 'L') & (df['DISPLAY/'].str.contains('DISPLAY'))]"
   ]
  },
  {
   "cell_type": "markdown",
   "metadata": {},
   "source": [
    "3. https://python-forum.io/Thread-Add-column-to-numpy-matrix"
   ]
  },
  {
   "cell_type": "code",
   "execution_count": 8,
   "metadata": {},
   "outputs": [],
   "source": [
    "import numpy as np\n",
    "x=np.random.rand(10,3)\n",
    "y = np.random.rand(10)"
   ]
  },
  {
   "cell_type": "code",
   "execution_count": 10,
   "metadata": {},
   "outputs": [
    {
     "data": {
      "text/plain": [
       "array([[0.85363641, 0.15179802, 0.96028808, 0.24162788],\n",
       "       [0.73790212, 0.55760863, 0.44549096, 0.92695806],\n",
       "       [0.13255399, 0.26116456, 0.10734681, 0.89770881],\n",
       "       [0.48501304, 0.89709344, 0.58113526, 0.88718529],\n",
       "       [0.34975298, 0.87297033, 0.97782379, 0.03328267],\n",
       "       [0.79542894, 0.58040069, 0.83146845, 0.571193  ],\n",
       "       [0.06649268, 0.26471133, 0.94565975, 0.06344072],\n",
       "       [0.67246755, 0.92347104, 0.77200768, 0.11663357],\n",
       "       [0.05213652, 0.73954902, 0.50891316, 0.06154656],\n",
       "       [0.72463539, 0.81692445, 0.82675881, 0.0854766 ]])"
      ]
     },
     "execution_count": 10,
     "metadata": {},
     "output_type": "execute_result"
    }
   ],
   "source": [
    "np.hstack([x, y[:, np.newaxis]])"
   ]
  },
  {
   "cell_type": "markdown",
   "metadata": {},
   "source": [
    "4.https://python-forum.io/Thread-How-publish-CSV-to-HTML"
   ]
  },
  {
   "cell_type": "code",
   "execution_count": 3,
   "metadata": {},
   "outputs": [],
   "source": [
    "import pandas as pd"
   ]
  },
  {
   "cell_type": "code",
   "execution_count": 4,
   "metadata": {},
   "outputs": [],
   "source": [
    "df = pd.DataFrame({'x': ['<a href=\"http://google.com\"></a>']})"
   ]
  },
  {
   "cell_type": "code",
   "execution_count": 7,
   "metadata": {},
   "outputs": [],
   "source": [
    "with open('output.html', 'wt') as f:\n",
    "    df.to_html(f, escape=False)"
   ]
  },
  {
   "cell_type": "markdown",
   "metadata": {},
   "source": [
    "5. https://python-forum.io/Thread-array-issue"
   ]
  },
  {
   "cell_type": "code",
   "execution_count": 5,
   "metadata": {},
   "outputs": [],
   "source": [
    "import matplotlib.tri as tri\n",
    "import numpy as np\n",
    " \n",
    "n_angles = 36\n",
    "n_radii = 8\n",
    "min_radius = 0.25\n",
    "radii = np.linspace(min_radius, 0.95, n_radii)\n",
    " \n",
    "angles = np.linspace(0, 2 * np.pi, n_angles, endpoint=False)\n",
    "angles = np.repeat(angles[..., np.newaxis], n_radii, axis=1)\n",
    "angles[:, 1::2] += np.pi / n_angles\n",
    " \n",
    "x = (radii * np.cos(angles)).flatten()\n",
    "y = (radii * np.sin(angles)).flatten()\n",
    " \n",
    " \n",
    "triang = tri.Triangulation(x, y)\n",
    "vertex = triang.triangles;\n",
    "temp1 = np.copy(vertex);\n",
    "temp2 = np.copy(vertex[:,0]);\n",
    "temp3 = np.hstack( (temp1, temp2[:, None]) );"
   ]
  },
  {
   "cell_type": "markdown",
   "metadata": {},
   "source": [
    "6. https://python-forum.io/Thread-How-to-get-count-of-each-unique-item-in-dataframe"
   ]
  },
  {
   "cell_type": "code",
   "execution_count": 2,
   "metadata": {},
   "outputs": [],
   "source": [
    "import pandas as pd\n",
    "  \n",
    "# intialise data of lists.\n",
    "data = {'Name':['Tom', 'nick', 'krish', 'jack'],\n",
    "        'Age':['Fail', 'Pass', 'Pass', 'Fail']}\n",
    " # Create DataFrame\n",
    "df = pd.DataFrame(data)\n",
    "data_cnt=df.groupby('Age').count()"
   ]
  },
  {
   "cell_type": "code",
   "execution_count": 4,
   "metadata": {},
   "outputs": [
    {
     "data": {
      "text/html": [
       "<div>\n",
       "<style scoped>\n",
       "    .dataframe tbody tr th:only-of-type {\n",
       "        vertical-align: middle;\n",
       "    }\n",
       "\n",
       "    .dataframe tbody tr th {\n",
       "        vertical-align: top;\n",
       "    }\n",
       "\n",
       "    .dataframe thead th {\n",
       "        text-align: right;\n",
       "    }\n",
       "</style>\n",
       "<table border=\"1\" class=\"dataframe\">\n",
       "  <thead>\n",
       "    <tr style=\"text-align: right;\">\n",
       "      <th></th>\n",
       "      <th>index</th>\n",
       "      <th>Age</th>\n",
       "    </tr>\n",
       "  </thead>\n",
       "  <tbody>\n",
       "    <tr>\n",
       "      <th>0</th>\n",
       "      <td>Pass</td>\n",
       "      <td>2</td>\n",
       "    </tr>\n",
       "    <tr>\n",
       "      <th>1</th>\n",
       "      <td>Fail</td>\n",
       "      <td>2</td>\n",
       "    </tr>\n",
       "  </tbody>\n",
       "</table>\n",
       "</div>"
      ],
      "text/plain": [
       "  index  Age\n",
       "0  Pass    2\n",
       "1  Fail    2"
      ]
     },
     "execution_count": 4,
     "metadata": {},
     "output_type": "execute_result"
    }
   ],
   "source": [
    "df.Age.value_counts()"
   ]
  },
  {
   "cell_type": "markdown",
   "metadata": {},
   "source": [
    "7. https://python-forum.io/Thread-Create-dataframe-through-Dictionary-in-pandas"
   ]
  },
  {
   "cell_type": "code",
   "execution_count": 33,
   "metadata": {},
   "outputs": [],
   "source": [
    "df2 = { 2019 :{ 'qtr1':44900} ,\n",
    "        2017 :{ 'qtr1':44900,'qtr3':57000,'qtr4':59000},\n",
    "        2015 :{ 'qtr1':5000,'qtr3':5000,'qtr4':5000},\n",
    "        2013 :{ 'qtr1':5000,'qtr3':5000,'qtr4':5000},\n",
    "        2011 :{'qtr1':5000,'qtr3':5000,'qtr4':5000}\n",
    "        }"
   ]
  },
  {
   "cell_type": "markdown",
   "metadata": {},
   "source": [
    "8. https://python-forum.io/Thread-is-try-except-safe-inside-of-another-except"
   ]
  },
  {
   "cell_type": "code",
   "execution_count": null,
   "metadata": {},
   "outputs": [],
   "source": [
    "def func():\n",
    "    data = None\n",
    "    for place in places:\n",
    "        try:\n",
    "            data = get_data_from_place(place)\n",
    "        except CustomException: # or exceptions\n",
    "            pass\n",
    "\n",
    "    return data    "
   ]
  },
  {
   "cell_type": "markdown",
   "metadata": {},
   "source": [
    "9. https://python-forum.io/Thread-how-read-and-write-merged-cells-in-excel"
   ]
  },
  {
   "cell_type": "code",
   "execution_count": null,
   "metadata": {},
   "outputs": [],
   "source": [
    "df.pivot(index='foo', columns='bar', values='baz')"
   ]
  },
  {
   "cell_type": "code",
   "execution_count": 44,
   "metadata": {},
   "outputs": [],
   "source": [
    "arrays = [['bar', 'bar', 'baz', 'baz', 'foo', 'foo', 'qux', 'qux'],\n",
    "          ['one', 'two', 'one', 'two', 'one', 'two', 'one', 'two']]\n",
    "index = pd.MultiIndex.from_tuples(tuples, names=['first', 'second'])\n",
    "tuples = list(zip(*arrays))\n",
    "df = pd.DataFrame(pd.np.random.randn(8), index=index)"
   ]
  },
  {
   "cell_type": "markdown",
   "metadata": {},
   "source": [
    "10. https://python-forum.io/Thread-Underline-title"
   ]
  },
  {
   "cell_type": "code",
   "execution_count": null,
   "metadata": {},
   "outputs": [],
   "source": [
    "import matplotlib.pyplot as plt\n",
    "\n",
    "import numpy as np\n",
    "import os\n",
    " \n",
    "PATH = str(os.getcwd());\n",
    " \n",
    "n = 20;\n",
    "A = np.random.random((n,2));\n",
    "A = A[A[:,0].argsort()];\n",
    " \n",
    " \n",
    "fig, ax = plt.subplots(figsize=(16, 9));\n",
    "ax.plot(A[:,0], A[:,1], marker='o', color = 'green', linewidth=1.5, markersize=8., linestyle ='-');\n",
    "ax.set_title(r\"My title\" + \"\\n\",fontsize=26, fontweight='bold'); # les r sont obligatoires pour passer sur Latex\n",
    "ax.minorticks_on();\n",
    "ax.grid(which='major', linestyle='-', linewidth='1.', color='black');\n",
    "ax.grid(which='minor', linestyle=':', linewidth='0.5', color='blue')\n",
    "ax.set_xlabel(r\"$X$ [-] - $\\sin(\\sigma / \\theta)$\", fontsize=20); \n",
    "ax.set_ylabel(r\"$Y$ [-] - $\\frac{\\delta * \\sigma}{\\sqrt[3]{x^2}}$\",  fontsize=20);\n",
    "# --- Insertion\n",
    "from matplotlib import lines  #  put this line to header\n",
    "rr = max(ax.get_ylim())\n",
    "mm = np.mean(ax.get_xlim())\n",
    "line = lines.Line2D([mm - 0.1, mm + 0.1],[1.05 * rr, 1.05 * rr], color='black')\n",
    "line.set_clip_on(False)\n",
    "ax.add_line(line)\n",
    "# -------------\n",
    "plt.savefig(PATH + '/test_plot.png',dpi=100); "
   ]
  }
 ],
 "metadata": {
  "kernelspec": {
   "display_name": "Python 3",
   "language": "python",
   "name": "python3"
  },
  "language_info": {
   "codemirror_mode": {
    "name": "ipython",
    "version": 3
   },
   "file_extension": ".py",
   "mimetype": "text/x-python",
   "name": "python",
   "nbconvert_exporter": "python",
   "pygments_lexer": "ipython3",
   "version": "3.7.3"
  }
 },
 "nbformat": 4,
 "nbformat_minor": 2
}
