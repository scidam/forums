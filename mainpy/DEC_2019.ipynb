{
 "cells": [
  {
   "cell_type": "markdown",
   "metadata": {},
   "source": [
    "https://python-forum.io/Thread-Data-Cleanup-Help-Needed"
   ]
  },
  {
   "cell_type": "code",
   "execution_count": 60,
   "metadata": {},
   "outputs": [],
   "source": [
    "import bs4"
   ]
  },
  {
   "cell_type": "code",
   "execution_count": 61,
   "metadata": {},
   "outputs": [],
   "source": [
    "data = \"\"\"\n",
    "<html xmlns:v=\"urn:schemas-microsoft-com:vml\" xmlns:o=\"urn:schemas-microsoft-com:office:office\" xmlns:w=\"urn:schemas-microsoft-com:office:word\" xmlns:m=\"http://schemas.microsoft.com/office/2004/12/omml\" xmlns=\"http://www.w3.org/TR/REC-html40\">\\r\\n<head>\\r\\n<meta http-equiv=\"Content-Type\" content=\"text/html; charset=utf-8\">\\r\\n<meta name=\"Generator\" content=\"Microsoft Word 15 (filtered medium)\">\\r\\n<!--[if !mso]><style>v\\\\:* {behavior:url(#default#VML);}\\r\\no\\\\:* {behavior:url(#default#VML);}\\r\\nw\\\\:* {behavior:url(#default#VML);}\\r\\n.shape {behavior:url(#default#VML);}\\r\\n</style><![endif]--><style><!--\\r\\n/* Font Definitions */\\r\\n@font-face\\r\\n\\t{font-family:\"Cambria Math\";\\r\\n\\tpanose-1:2 4 5 3 5 4 6 3 2 4;}\\r\\n@font-face\\r\\n\\t{font-family:Calibri;\\r\\n\\tpanose-1:2 15 5 2 2 2 4 3 2 4;}\\r\\n/* Style Definitions */\\r\\np.MsoNormal, li.MsoNormal, div.MsoNormal\\r\\n\\t{margin:0in;\\r\\n\\tmargin-bottom:.0001pt;\\r\\n\\tfont-size:11.0pt;\\r\\n\\tfont-family:\"Calibri\",sans-serif;}\\r\\na:link, span.MsoHyperlink\\r\\n\\t{mso-style-priority:99;\\r\\n\\tcolor:#0563C1;\\r\\n\\ttext-decoration:underline;}\\r\\na:visited, span.MsoHyperlinkFollowed\\r\\n\\t{mso-style-priority:99;\\r\\n\\tcolor:#954F72;\\r\\n\\ttext-decoration:underline;}\\r\\nspan.EmailStyle17\\r\\n\\t{mso-style-type:personal-compose;\\r\\n\\tfont-family:\"Calibri\",sans-serif;\\r\\n\\tcolor:windowtext;}\\r\\n.MsoChpDefault\\r\\n\\t{mso-style-type:export-only;\\r\\n\\tfont-family:\"Calibri\",sans-serif;}\\r\\n@page WordSection1\\r\\n\\t{size:8.5in 11.0in;\\r\\n\\tmargin:1.0in 1.0in 1.0in 1.0in;}\\r\\ndiv.WordSection1\\r\\n\\t{page:WordSection1;}\\r\\n--></style><!--[if gte mso 9]><xml>\\r\\n<o:shapedefaults v:ext=\"edit\" spidmax=\"1026\" />\\r\\n</xml><![endif]--><!--[if gte mso 9]><xml>\\r\\n<o:shapelayout v:ext=\"edit\">\\r\\n<o:idmap v:ext=\"edit\" data=\"1\" />\\r\\n</o:shapelayout></xml><![endif]-->\\r\\n</head>\\r\\n<body lang=\"EN-US\" link=\"#0563C1\" vlink=\"#954F72\">\\r\\n<div class=\"WordSection1\">\\r\\n<p class=\"MsoNormal\">Garreth,<o:p></o:p></p>\\r\\n<p class=\"MsoNormal\"><o:p>&nbsp;</o:p></p>\\r\\n<p class=\"MsoNormal\">Attached are the W9 and COI for MedEd. Looking forward to our call this afternoon. Let me know if you need any additional documents from MedEd.<o:p></o:p></p>\\r\\n<p class=\"MsoNormal\"><o:p>&nbsp;</o:p></p>\\r\\n<p class=\"MsoNormal\">Thanks,<o:p></o:p></p>\\r\\n<p class=\"MsoNormal\"><o:p>&nbsp;</o:p></p>\\r\\n<p class=\"MsoNormal\"><o:p>&nbsp;</o:p></p>\\r\\n<p class=\"MsoNormal\"><b><span style=\"font-family:&quot;Arial&quot;,sans-serif;color:black\">Jason Smith</span></b><span style=\"font-family:&quot;Arial&quot;,sans-serif;color:black\"><br>\\r\\nDirector, Marketing<o:p></o:p></span></p>\\r\\n<p class=\"MsoNormal\"><span style=\"font-size:10.0pt;font-family:&quot;Arial&quot;,sans-serif;color:black\"><br>\\r\\n<b><img width=\"256\" height=\"57\" style=\"width:2.6666in;height:.5937in\" id=\"Picture_x0020_1\" src=\"imagepath?AttachmentType=1001&AttachmentId=8da1f035-eb7e-e811-8146-e0071b6a7141\" alt=\"MedEd\"></b><br>\\r\\n<br>\\r\\n2827 test address<br>\\r\\ncity, state, zip<br>\\r\\nOffice: 317-975-7394<br>\\r\\n<a href=\"https://www.medxcelfm.com/\"><span style=\"color:#5877A4\">www.medxcelfm.com</span></a><o:p></o:p></span></p>\\r\\n<p class=\"MsoNormal\"><o:p>&nbsp;</o:p></p>\\r\\n<p class=\"MsoNormal\"><o:p>&nbsp;</o:p></p>\\r\\n<p class=\"MsoNormal\"><o:p>&nbsp;</o:p></p>\\r\\n</div>\\r\\n</body>\\r\\n</html>\n",
    "\"\"\""
   ]
  },
  {
   "cell_type": "code",
   "execution_count": 74,
   "metadata": {},
   "outputs": [
    {
     "data": {
      "text/plain": [
       "'\\n\\nGarreth,\\n\\xa0\\nAttached are the W9 and COI for MedEd. Looking forward to our call this afternoon. Let me know if you need any additional documents from MedEd.\\n\\xa0\\nThanks,\\n\\xa0\\n\\xa0\\nJason Smith\\r\\nDirector, Marketing\\n\\n\\n\\r\\n2827 test address\\r\\ncity, state, zip\\r\\nOffice: 317-975-7394\\nwww.medxcelfm.com\\n\\xa0\\n\\xa0\\n\\xa0\\n\\n'"
      ]
     },
     "execution_count": 74,
     "metadata": {},
     "output_type": "execute_result"
    }
   ],
   "source": [
    "bs4.BeautifulSoup(data).find('body').text"
   ]
  },
  {
   "cell_type": "markdown",
   "metadata": {},
   "source": [
    "2. https://python-forum.io/Thread-While-loop-series-expansion"
   ]
  },
  {
   "cell_type": "code",
   "execution_count": 4,
   "metadata": {},
   "outputs": [
    {
     "name": "stdout",
     "output_type": "stream",
     "text": [
      "Please input a number x between 0 and 1 0.5\n",
      "The sum of the Taylor expansion for ln(1+x) upto x^12 is:  0.40545869196992246\n"
     ]
    }
   ],
   "source": [
    "import numpy as np\n",
    "x = float(input('Please input a number x between 0 and 1 '))\n",
    "logx = np.log(x+1)\n",
    "while x<=0 or x>=1:\n",
    "    x = float(input('Please input a number between 0 and 1 '))\n",
    "term1 =0     \n",
    "for n in range(1, 13):\n",
    "    term = ((-1)**(n+1))*(x**n)/n\n",
    "    term1 += term\n",
    "print('The sum of the Taylor expansion for ln(1+x) upto x^12 is: ', term1)"
   ]
  },
  {
   "cell_type": "code",
   "execution_count": 5,
   "metadata": {},
   "outputs": [
    {
     "data": {
      "text/plain": [
       "0.4054651081081644"
      ]
     },
     "execution_count": 5,
     "metadata": {},
     "output_type": "execute_result"
    }
   ],
   "source": [
    "np.log(1.5)"
   ]
  }
 ],
 "metadata": {
  "kernelspec": {
   "display_name": "Python 3",
   "language": "python",
   "name": "python3"
  },
  "language_info": {
   "codemirror_mode": {
    "name": "ipython",
    "version": 3
   },
   "file_extension": ".py",
   "mimetype": "text/x-python",
   "name": "python",
   "nbconvert_exporter": "python",
   "pygments_lexer": "ipython3",
   "version": "3.7.4"
  }
 },
 "nbformat": 4,
 "nbformat_minor": 2
}
