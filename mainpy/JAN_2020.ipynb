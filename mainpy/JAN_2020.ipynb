{
 "cells": [
  {
   "cell_type": "markdown",
   "metadata": {},
   "source": [
    "1. https://python-forum.io/Thread-Type-hinting-return-type-based-on-parameter"
   ]
  },
  {
   "cell_type": "code",
   "execution_count": 65,
   "metadata": {},
   "outputs": [],
   "source": [
    "import inspect\n",
    "from functools import wraps\n",
    "from typing import Any\n",
    "\n",
    "def set_type_as_var(variable_name):\n",
    "    def decorator(f):\n",
    "        @wraps(f)\n",
    "        def wrapper(*args, **kwargs_inner):\n",
    "            return f(*args, **kwargs_inner)\n",
    "        \n",
    "        desired_type = Any\n",
    "\n",
    "        signature = inspect.getfullargspec(f)\n",
    "        if signature.kwonlydefaults and variable_name in signature.kwonlydefaults:\n",
    "            desired_type = type(signature.kwonlydefaults.get(variable_name))\n",
    "            # probably, you can take into account signature.annotations ... \n",
    "            \n",
    "        if signature.args and variable_name in signature.args:\n",
    "            if signature.defaults is not None:\n",
    "                desired_type = type(signature.defaults[signature.args.index(variable_name)])\n",
    "            else:\n",
    "                desired_type = signature.annotations.get(variable_name, Any)\n",
    "            \n",
    "        # maybe you will need other conditions .... \n",
    "        \n",
    "        wrapper.__annotations__['return'] = desired_type\n",
    "        return wrapper\n",
    "    return decorator"
   ]
  },
  {
   "cell_type": "code",
   "execution_count": 66,
   "metadata": {},
   "outputs": [],
   "source": [
    "@set_type_as_var('x')\n",
    "def a(x:float):\n",
    "    pass\n",
    "\n"
   ]
  }
 ],
 "metadata": {
  "kernelspec": {
   "display_name": "Python 3",
   "language": "python",
   "name": "python3"
  },
  "language_info": {
   "codemirror_mode": {
    "name": "ipython",
    "version": 3
   },
   "file_extension": ".py",
   "mimetype": "text/x-python",
   "name": "python",
   "nbconvert_exporter": "python",
   "pygments_lexer": "ipython3",
   "version": "3.7.4"
  }
 },
 "nbformat": 4,
 "nbformat_minor": 2
}
