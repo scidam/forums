{
 "cells": [
  {
   "cell_type": "markdown",
   "metadata": {},
   "source": [
    "1. https://python-forum.io/Thread-Type-hinting-return-type-based-on-parameter"
   ]
  },
  {
   "cell_type": "code",
   "execution_count": 65,
   "metadata": {},
   "outputs": [],
   "source": [
    "import inspect\n",
    "from functools import wraps\n",
    "from typing import Any\n",
    "\n",
    "def set_type_as_var(variable_name):\n",
    "    def decorator(f):\n",
    "        @wraps(f)\n",
    "        def wrapper(*args, **kwargs_inner):\n",
    "            return f(*args, **kwargs_inner)\n",
    "        \n",
    "        desired_type = Any\n",
    "\n",
    "        signature = inspect.getfullargspec(f)\n",
    "        if signature.kwonlydefaults and variable_name in signature.kwonlydefaults:\n",
    "            desired_type = type(signature.kwonlydefaults.get(variable_name))\n",
    "            # probably, you can take into account signature.annotations ... \n",
    "            \n",
    "        if signature.args and variable_name in signature.args:\n",
    "            if signature.defaults is not None:\n",
    "                desired_type = type(signature.defaults[signature.args.index(variable_name)])\n",
    "            else:\n",
    "                desired_type = signature.annotations.get(variable_name, Any)\n",
    "            \n",
    "        # maybe you will need other conditions .... \n",
    "        \n",
    "        wrapper.__annotations__['return'] = desired_type\n",
    "        return wrapper\n",
    "    return decorator"
   ]
  },
  {
   "cell_type": "code",
   "execution_count": 66,
   "metadata": {},
   "outputs": [],
   "source": [
    "@set_type_as_var('x')\n",
    "def a(x:float):\n",
    "    pass\n",
    "\n"
   ]
  },
  {
   "cell_type": "markdown",
   "metadata": {},
   "source": []
  },
  {
   "cell_type": "code",
   "execution_count": 2,
   "metadata": {},
   "outputs": [
    {
     "name": "stderr",
     "output_type": "stream",
     "text": [
      "/home/dmitry/.pyenv/versions/3.7.4/envs/scipy/lib/python3.7/site-packages/ipykernel_launcher.py:27: RuntimeWarning: overflow encountered in cosh\n",
      "/home/dmitry/.pyenv/versions/3.7.4/envs/scipy/lib/python3.7/site-packages/ipykernel_launcher.py:18: RuntimeWarning: overflow encountered in cosh\n",
      "/home/dmitry/.pyenv/versions/3.7.4/envs/scipy/lib/python3.7/site-packages/ipykernel_launcher.py:18: RuntimeWarning: invalid value encountered in double_scalars\n",
      "/home/dmitry/.pyenv/versions/3.7.4/envs/scipy/lib/python3.7/site-packages/ipykernel_launcher.py:27: RuntimeWarning: invalid value encountered in sqrt\n",
      "/home/dmitry/.pyenv/versions/3.7.4/envs/scipy/lib/python3.7/site-packages/ipykernel_launcher.py:30: IntegrationWarning: The occurrence of roundoff error is detected, which prevents \n",
      "  the requested tolerance from being achieved.  The error may be \n",
      "  underestimated.\n",
      "/home/dmitry/.pyenv/versions/3.7.4/envs/scipy/lib/python3.7/site-packages/ipykernel_launcher.py:35: RuntimeWarning: invalid value encountered in double_scalars\n",
      "/home/dmitry/.pyenv/versions/3.7.4/envs/scipy/lib/python3.7/site-packages/ipykernel_launcher.py:30: IntegrationWarning: The integral is probably divergent, or slowly convergent.\n"
     ]
    },
    {
     "ename": "TypeError",
     "evalue": "'numpy.float64' object is not callable",
     "output_type": "error",
     "traceback": [
      "\u001b[0;31m---------------------------------------------------------------------------\u001b[0m",
      "\u001b[0;31mTypeError\u001b[0m                                 Traceback (most recent call last)",
      "\u001b[0;32m<ipython-input-2-808dca2f2e6d>\u001b[0m in \u001b[0;36m<module>\u001b[0;34m\u001b[0m\n\u001b[1;32m     68\u001b[0m \u001b[0;34m\u001b[0m\u001b[0m\n\u001b[1;32m     69\u001b[0m \u001b[0;32mif\u001b[0m \u001b[0;34m(\u001b[0m\u001b[0mlen\u001b[0m\u001b[0;34m(\u001b[0m \u001b[0mabs_exp_fit\u001b[0m \u001b[0;34m)\u001b[0m \u001b[0;34m>\u001b[0m \u001b[0mlen\u001b[0m\u001b[0;34m(\u001b[0m\u001b[0mp0\u001b[0m\u001b[0;34m)\u001b[0m\u001b[0;34m)\u001b[0m \u001b[0;32mand\u001b[0m \u001b[0mopt_out\u001b[0m \u001b[0;34m[\u001b[0m\u001b[0;36m1\u001b[0m\u001b[0;34m]\u001b[0m \u001b[0;32mis\u001b[0m \u001b[0;32mnot\u001b[0m \u001b[0;32mNone\u001b[0m\u001b[0;34m:\u001b[0m\u001b[0;34m\u001b[0m\u001b[0;34m\u001b[0m\u001b[0m\n\u001b[0;32m---> 70\u001b[0;31m     \u001b[0ms_sq\u001b[0m \u001b[0;34m=\u001b[0m \u001b[0;34m(\u001b[0m\u001b[0;34m(\u001b[0m \u001b[0mfitting\u001b[0m\u001b[0;34m-\u001b[0m\u001b[0mabs_exp_fit\u001b[0m \u001b[0;34m)\u001b[0m\u001b[0;34m**\u001b[0m\u001b[0;36m2\u001b[0m\u001b[0;34m)\u001b[0m\u001b[0;34m.\u001b[0m\u001b[0msum\u001b[0m\u001b[0;34m(\u001b[0m\u001b[0;34m)\u001b[0m\u001b[0;34m(\u001b[0m\u001b[0;34m(\u001b[0m\u001b[0mlen\u001b[0m\u001b[0;34m(\u001b[0m \u001b[0mabs_exp_fit\u001b[0m \u001b[0;34m)\u001b[0m\u001b[0;34m-\u001b[0m\u001b[0mlen\u001b[0m\u001b[0;34m(\u001b[0m\u001b[0mp0\u001b[0m\u001b[0;34m)\u001b[0m\u001b[0;34m)\u001b[0m\u001b[0;34m)\u001b[0m\u001b[0;34m\u001b[0m\u001b[0;34m\u001b[0m\u001b[0m\n\u001b[0m\u001b[1;32m     71\u001b[0m     \u001b[0mpcov\u001b[0m \u001b[0;34m=\u001b[0m \u001b[0mopt_out\u001b[0m\u001b[0;34m[\u001b[0m\u001b[0;36m1\u001b[0m\u001b[0;34m]\u001b[0m \u001b[0;34m*\u001b[0m \u001b[0ms_sq\u001b[0m\u001b[0;34m\u001b[0m\u001b[0;34m\u001b[0m\u001b[0m\n\u001b[1;32m     72\u001b[0m \u001b[0;32melse\u001b[0m\u001b[0;34m:\u001b[0m\u001b[0;34m\u001b[0m\u001b[0;34m\u001b[0m\u001b[0m\n",
      "\u001b[0;31mTypeError\u001b[0m: 'numpy.float64' object is not callable"
     ]
    },
    {
     "data": {
      "image/png": "[encoded data removed]",
      "text/plain": [
       "<Figure size 432x288 with 1 Axes>"
      ]
     },
     "metadata": {
      "needs_background": "light"
     },
     "output_type": "display_data"
    }
   ],
   "source": [
    "import numpy as np\n",
    "import matplotlib.pyplot as plt\n",
    "import matplotlib.ticker as ticker\n",
    "# ODEpack tool for differential equation integration\n",
    "from numpy.distutils.fcompiler import none\n",
    "from scipy.integrate import odeint, quad\n",
    "# Optimization tool\n",
    "import scipy.optimize as opt\n",
    "#Interpolation tool\n",
    "from scipy.interpolate import interp1d\n",
    " \n",
    "def Elliots_fit (p, a_exp , e):\n",
    "    Eb, Eg, gamma, npc, k = p\n",
    "    #Descrete transitions to the excitonic states\n",
    "    absex = np.zeros((e.size))\n",
    "    n = np.linspace(1, 500, 500)\n",
    "    for i in range(0, e.size):\n",
    "        expr = 4*np.pi*(Eb**(3/2)) / (n**3)*(1/(np.cosh((e[i] - Eg + Eb/n**2) / gamma)))\n",
    "        S = expr.cumsum(axis=0)\n",
    "        absex[i] = S[-1]\n",
    " \n",
    "    #Band to band absorption with Sommerfeld correction\n",
    "    abseh = np.zeros((e.size))\n",
    " \n",
    "    def fun_eh(x, e, gamma, Eb, Eg, npc):\n",
    "        D = (x-Eg)/Eb\n",
    "        return (1 / (abs(np.cosh((e-x))/ gamma)) * 2 * np.pi * np.sqrt(Eb) / (1 - np.exp(-2 * np.pi / (np.sqrt(D)))) * 1 / (1 - npc * (x - Eg)))\n",
    " \n",
    "    for i in range(0, e.size):\n",
    "        q = quad(fun_eh, Eg, np.inf, args=(e[i], gamma, Eb, Eg, npc))\n",
    "        abseh[i] = q[0]\n",
    "    #Complete Abs simulation (background added)\n",
    "    abs_sim = np.zeros((e.size))\n",
    "    for i in range(0, e.size):\n",
    "        abs_sim[i] = (e[i] / Eb**(3/2))*(absex[i] + abseh[i])\n",
    "    return (abs_sim*k-abs_exp_fit)\n",
    " \n",
    "#Data loading\n",
    "#data = np.loadtxt('transmission_data.txt')\n",
    "data = np.random.rand(100, 2)\n",
    "# plt.plot(e, data[:,2])\n",
    "e_exp = data [:,0] # concerted from nm to eV\n",
    "a_exp = data[:,1] # My data\n",
    "#Intial Values\n",
    "Eb = 0.030 # exciton binding energy (eV)\n",
    "gamma = 0.029 # inhomogeneous line broadening (eV)\n",
    "Eg = 2.402 # semiconductor bandgap (eV)\n",
    "npc = -0.31 # non−parabolic coefficient\n",
    "k = 0.0035\n",
    "#Energy axis generation\n",
    "# ix0 = np.searchsorted(e_exp ,1.58862)\n",
    "# ix1 = np.searchsorted(e_exp ,1.42976)\n",
    "# e = np.linspace(e_exp[ix1], e_exp[ix0-1], 500) # energy axes (eV)\n",
    "e = np.linspace(e_exp[len(e_exp)-1], e_exp[0], 3440) # energy axes (eV)\n",
    "p0 = np.array([Eb, Eg, gamma, npc, k],dtype=np.float64 )#b = np.array([[1,2,3,4,5],[6,7,8,9,10]],dtype=np.float64)\n",
    "#Fit Calling\n",
    "#Interpolating the simulated abs over the exp x−axis\n",
    "f = interp1d(e_exp ,a_exp)\n",
    "abs_exp_fit = f(e)\n",
    "opt_out = opt.leastsq(Elliots_fit ,p0, args =( abs_exp_fit , e), full_output=1)\n",
    "fitted_param = opt_out[0]\n",
    "#Standard error evaluation\n",
    " \n",
    "fitting = Elliots_fit(fitted_param, abs_exp_fit, e)\n",
    " \n",
    "plt.plot(e, abs_exp_fit)\n",
    "plt.plot(e, fitting)\n",
    " \n",
    "if (len( abs_exp_fit ) > len(p0)) and opt_out [1] is not None:\n",
    "    s_sq = (( fitting-abs_exp_fit )**2).sum()((len( abs_exp_fit )-len(p0)))\n",
    "    pcov = opt_out[1] * s_sq\n",
    "else:\n",
    "    pcov = np.inf\n",
    "error = []\n",
    "for i in range(len(opt_out [0])):\n",
    "    try:\n",
    "        error.append( np.absolute(pcov[i][i])**0.5)\n",
    "    except:\n",
    "        error.append( 0.00 )\n",
    "pfit_leastsq = opt_out [0]\n",
    "perr_leastsq = np.array(error)"
   ]
  },
  {
   "cell_type": "code",
   "execution_count": null,
   "metadata": {},
   "outputs": [],
   "source": []
  }
 ],
 "metadata": {
  "kernelspec": {
   "display_name": "Python 3",
   "language": "python",
   "name": "python3"
  },
  "language_info": {
   "codemirror_mode": {
    "name": "ipython",
    "version": 3
   },
   "file_extension": ".py",
   "mimetype": "text/x-python",
   "name": "python",
   "nbconvert_exporter": "python",
   "pygments_lexer": "ipython3",
   "version": "3.7.4"
  }
 },
 "nbformat": 4,
 "nbformat_minor": 2
}
