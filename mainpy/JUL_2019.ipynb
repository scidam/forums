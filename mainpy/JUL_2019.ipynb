{
 "cells": [
  {
   "cell_type": "markdown",
   "metadata": {},
   "source": [
    "1. https://python-forum.io/Thread-Regex-help-for-newbie"
   ]
  },
  {
   "cell_type": "markdown",
   "metadata": {},
   "source": [
    " You need to add from __future__ import print_function and pass file keyword to the print function, e.g. print(x, file=y) or use y.write('{}\\n'.format(x)). This should work, but not tested.\n",
    "Why did you still using Python 2.x? If you have digits after car of truck words, it would be better to use a regexp something like this re.compile(\"car\\d+\")."
   ]
  },
  {
   "cell_type": "code",
   "execution_count": 2,
   "metadata": {},
   "outputs": [],
   "source": [
    "import pandas as pd\n",
    "diSales= { 'Mon':{'qtr1':34500,'qtr2':56000,'qtr3':47000,'qtr4':49000},\n",
    "           'Tues':{'qtr1':44900,'qtr2':46100,'qtr3':57000,'qtr4':59000},\n",
    "           'Wed':{'qtr1':54500,'qtr2':51000,'qtr3':57000,'qtr4':58500},\n",
    "           'Thrus':{'qtr1':61000}\n",
    "         }\n",
    "ks = pd.DataFrame(diSales)"
   ]
  },
  {
   "cell_type": "code",
   "execution_count": 3,
   "metadata": {},
   "outputs": [
    {
     "data": {
      "text/html": [
       "<div>\n",
       "<style scoped>\n",
       "    .dataframe tbody tr th:only-of-type {\n",
       "        vertical-align: middle;\n",
       "    }\n",
       "\n",
       "    .dataframe tbody tr th {\n",
       "        vertical-align: top;\n",
       "    }\n",
       "\n",
       "    .dataframe thead th {\n",
       "        text-align: right;\n",
       "    }\n",
       "</style>\n",
       "<table border=\"1\" class=\"dataframe\">\n",
       "  <thead>\n",
       "    <tr style=\"text-align: right;\">\n",
       "      <th></th>\n",
       "      <th>Mon</th>\n",
       "      <th>Thrus</th>\n",
       "      <th>Tues</th>\n",
       "      <th>Wed</th>\n",
       "    </tr>\n",
       "  </thead>\n",
       "  <tbody>\n",
       "    <tr>\n",
       "      <th>qtr1</th>\n",
       "      <td>34500</td>\n",
       "      <td>61000.0</td>\n",
       "      <td>44900</td>\n",
       "      <td>54500</td>\n",
       "    </tr>\n",
       "    <tr>\n",
       "      <th>qtr2</th>\n",
       "      <td>56000</td>\n",
       "      <td>NaN</td>\n",
       "      <td>46100</td>\n",
       "      <td>51000</td>\n",
       "    </tr>\n",
       "    <tr>\n",
       "      <th>qtr3</th>\n",
       "      <td>47000</td>\n",
       "      <td>NaN</td>\n",
       "      <td>57000</td>\n",
       "      <td>57000</td>\n",
       "    </tr>\n",
       "    <tr>\n",
       "      <th>qtr4</th>\n",
       "      <td>49000</td>\n",
       "      <td>NaN</td>\n",
       "      <td>59000</td>\n",
       "      <td>58500</td>\n",
       "    </tr>\n",
       "  </tbody>\n",
       "</table>\n",
       "</div>"
      ],
      "text/plain": [
       "        Mon    Thrus   Tues    Wed\n",
       "qtr1  34500  61000.0  44900  54500\n",
       "qtr2  56000      NaN  46100  51000\n",
       "qtr3  47000      NaN  57000  57000\n",
       "qtr4  49000      NaN  59000  58500"
      ]
     },
     "execution_count": 3,
     "metadata": {},
     "output_type": "execute_result"
    }
   ],
   "source": [
    "ks"
   ]
  },
  {
   "cell_type": "markdown",
   "metadata": {},
   "source": [
    "2. https://python-forum.io/Thread-For-loop-that-prints-four-subplots"
   ]
  },
  {
   "cell_type": "code",
   "execution_count": null,
   "metadata": {},
   "outputs": [],
   "source": [
    "totalRows=data_1.shape[0] \n",
    "data_1.drop(data_1.index[0],inplace=True) # data_1 contains a single erroeneous measurement. remove it\n",
    "chunkSize=300 # set chunk size so it creates at least for figures\n",
    "selectPeriods=chunkSize//3 # three periods are showed.\n",
    "\n",
    "\n",
    "index = 1\n",
    "fig = plt.figure()\n",
    "\n",
    "for i in range(1,totalRows,chunkSize): \n",
    "    print(i)\n",
    "    # Here I need help\n",
    "    #if ((i// chunkSize) % 4==0):# when this is zero try a new set of subplots. It gets values of 0,1,2,3\n",
    "        #then start a new set of four subplots\n",
    "    ax = fig.add_subplot(2, 2, index)\n",
    "    ax.plot(data_1['All-Latitude'][i:i+selectPeriods].values, data_1['All-Longitude'][i:i+selectPeriods].values,color=\"red\")\n",
    "    ax.set_xlim(min(data_1['All-Latitude']),max(data_1['All-Latitude']))\n",
    "    ax.set_ylim(min(data_1['All-Longitude']), max(data_1['All-Longitude']))\n",
    "    \n",
    "    index += 1\n",
    "    \n",
    "    # if some condition, e.g. index == 4\n",
    "    # something like this:\n",
    "    if index == 4:\n",
    "        index = 1\n",
    "        fig = plt.figure()    "
   ]
  }
 ],
 "metadata": {
  "kernelspec": {
   "display_name": "Python 3",
   "language": "python",
   "name": "python3"
  },
  "language_info": {
   "codemirror_mode": {
    "name": "ipython",
    "version": 3
   },
   "file_extension": ".py",
   "mimetype": "text/x-python",
   "name": "python",
   "nbconvert_exporter": "python",
   "pygments_lexer": "ipython3",
   "version": "3.5.4"
  }
 },
 "nbformat": 4,
 "nbformat_minor": 2
}
