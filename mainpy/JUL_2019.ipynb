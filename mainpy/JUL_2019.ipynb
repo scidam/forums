{
 "cells": [
  {
   "cell_type": "markdown",
   "metadata": {},
   "source": [
    "#1. https://python-forum.io/Thread-Regex-help-for-newbie"
   ]
  },
  {
   "cell_type": "markdown",
   "metadata": {},
   "source": [
    " You need to add from __future__ import print_function and pass file keyword to the print function, e.g. print(x, file=y) or use y.write('{}\\n'.format(x)). This should work, but not tested.\n",
    "Why did you still using Python 2.x? If you have digits after car of truck words, it would be better to use a regexp something like this re.compile(\"car\\d+\")."
   ]
  },
  {
   "cell_type": "code",
   "execution_count": 2,
   "metadata": {},
   "outputs": [],
   "source": [
    "import pandas as pd\n",
    "diSales= { 'Mon':{'qtr1':34500,'qtr2':56000,'qtr3':47000,'qtr4':49000},\n",
    "           'Tues':{'qtr1':44900,'qtr2':46100,'qtr3':57000,'qtr4':59000},\n",
    "           'Wed':{'qtr1':54500,'qtr2':51000,'qtr3':57000,'qtr4':58500},\n",
    "           'Thrus':{'qtr1':61000}\n",
    "         }\n",
    "ks = pd.DataFrame(diSales)"
   ]
  },
  {
   "cell_type": "code",
   "execution_count": 3,
   "metadata": {},
   "outputs": [
    {
     "data": {
      "text/html": [
       "<div>\n",
       "<style scoped>\n",
       "    .dataframe tbody tr th:only-of-type {\n",
       "        vertical-align: middle;\n",
       "    }\n",
       "\n",
       "    .dataframe tbody tr th {\n",
       "        vertical-align: top;\n",
       "    }\n",
       "\n",
       "    .dataframe thead th {\n",
       "        text-align: right;\n",
       "    }\n",
       "</style>\n",
       "<table border=\"1\" class=\"dataframe\">\n",
       "  <thead>\n",
       "    <tr style=\"text-align: right;\">\n",
       "      <th></th>\n",
       "      <th>Mon</th>\n",
       "      <th>Thrus</th>\n",
       "      <th>Tues</th>\n",
       "      <th>Wed</th>\n",
       "    </tr>\n",
       "  </thead>\n",
       "  <tbody>\n",
       "    <tr>\n",
       "      <th>qtr1</th>\n",
       "      <td>34500</td>\n",
       "      <td>61000.0</td>\n",
       "      <td>44900</td>\n",
       "      <td>54500</td>\n",
       "    </tr>\n",
       "    <tr>\n",
       "      <th>qtr2</th>\n",
       "      <td>56000</td>\n",
       "      <td>NaN</td>\n",
       "      <td>46100</td>\n",
       "      <td>51000</td>\n",
       "    </tr>\n",
       "    <tr>\n",
       "      <th>qtr3</th>\n",
       "      <td>47000</td>\n",
       "      <td>NaN</td>\n",
       "      <td>57000</td>\n",
       "      <td>57000</td>\n",
       "    </tr>\n",
       "    <tr>\n",
       "      <th>qtr4</th>\n",
       "      <td>49000</td>\n",
       "      <td>NaN</td>\n",
       "      <td>59000</td>\n",
       "      <td>58500</td>\n",
       "    </tr>\n",
       "  </tbody>\n",
       "</table>\n",
       "</div>"
      ],
      "text/plain": [
       "        Mon    Thrus   Tues    Wed\n",
       "qtr1  34500  61000.0  44900  54500\n",
       "qtr2  56000      NaN  46100  51000\n",
       "qtr3  47000      NaN  57000  57000\n",
       "qtr4  49000      NaN  59000  58500"
      ]
     },
     "execution_count": 3,
     "metadata": {},
     "output_type": "execute_result"
    }
   ],
   "source": [
    "ks"
   ]
  },
  {
   "cell_type": "markdown",
   "metadata": {},
   "source": [
    "#2. https://python-forum.io/Thread-For-loop-that-prints-four-subplots"
   ]
  },
  {
   "cell_type": "code",
   "execution_count": null,
   "metadata": {},
   "outputs": [],
   "source": [
    "totalRows=data_1.shape[0] \n",
    "data_1.drop(data_1.index[0],inplace=True) # data_1 contains a single erroeneous measurement. remove it\n",
    "chunkSize=300 # set chunk size so it creates at least for figures\n",
    "selectPeriods=chunkSize//3 # three periods are showed.\n",
    "\n",
    "\n",
    "index = 1\n",
    "fig = plt.figure()\n",
    "\n",
    "for i in range(1,totalRows,chunkSize): \n",
    "    print(i)\n",
    "    # Here I need help\n",
    "    #if ((i// chunkSize) % 4==0):# when this is zero try a new set of subplots. It gets values of 0,1,2,3\n",
    "        #then start a new set of four subplots\n",
    "    ax = fig.add_subplot(2, 2, index)\n",
    "    ax.plot(data_1['All-Latitude'][i:i+selectPeriods].values, data_1['All-Longitude'][i:i+selectPeriods].values,color=\"red\")\n",
    "    ax.set_xlim(min(data_1['All-Latitude']),max(data_1['All-Latitude']))\n",
    "    ax.set_ylim(min(data_1['All-Longitude']), max(data_1['All-Longitude']))\n",
    "    \n",
    "    index += 1\n",
    "    \n",
    "    # if some condition, e.g. index == 4\n",
    "    # something like this:\n",
    "    if index == 4:\n",
    "        index = 1\n",
    "        fig = plt.figure()    "
   ]
  },
  {
   "cell_type": "markdown",
   "metadata": {},
   "source": [
    "#3. https://python-forum.io/Thread-Delaunay-Tesselation?pid=85067#pid85067"
   ]
  },
  {
   "cell_type": "code",
   "execution_count": 13,
   "metadata": {},
   "outputs": [],
   "source": [
    "import numpy as np\n",
    "from scipy.spatial import Delaunay\n",
    "data = np.random.rand(12000, 2)\n",
    "def test():\n",
    "    tri = Delaunay(data)\n",
    "    tri.equations.shape"
   ]
  },
  {
   "cell_type": "code",
   "execution_count": 14,
   "metadata": {},
   "outputs": [
    {
     "name": "stdout",
     "output_type": "stream",
     "text": [
      "15.9 ns ± 0.243 ns per loop (mean ± std. dev. of 7 runs, 100000000 loops each)\n"
     ]
    }
   ],
   "source": [
    "%timeit test"
   ]
  },
  {
   "cell_type": "markdown",
   "metadata": {},
   "source": [
    "#4. https://python-forum.io/Thread-How-matplotlib-automatically-set-x-axis-and-y-axis-limits-for-bar-graph"
   ]
  },
  {
   "cell_type": "code",
   "execution_count": 1,
   "metadata": {},
   "outputs": [
    {
     "name": "stdout",
     "output_type": "stream",
     "text": [
      "> /home/dmitry/anaconda3/lib/python3.7/site-packages/matplotlib/axes/_axes.py(2188)bar()\n",
      "-> kwargs = cbook.normalize_kwargs(kwargs, mpatches.Patch._alias_map)\n",
      "(Pdb) h\n",
      "\n",
      "Documented commands (type help <topic>):\n",
      "========================================\n",
      "EOF    c          d        h         list      q        rv       undisplay\n",
      "a      cl         debug    help      ll        quit     s        unt      \n",
      "alias  clear      disable  ignore    longlist  r        source   until    \n",
      "args   commands   display  interact  n         restart  step     up       \n",
      "b      condition  down     j         next      return   tbreak   w        \n",
      "break  cont       enable   jump      p         retval   u        whatis   \n",
      "bt     continue   exit     l         pp        run      unalias  where    \n",
      "\n",
      "Miscellaneous help topics:\n",
      "==========================\n",
      "exec  pdb\n",
      "\n",
      "(Pdb) dir()\n",
      "['align', 'bottom', 'height', 'kwargs', 'pdb', 'self', 'width', 'x']\n",
      "(Pdb) x\n",
      "[1, 2, 3, 4, 5]\n",
      "(Pdb) width\n",
      "0.8\n",
      "(Pdb) kwargs\n",
      "{}\n",
      "(Pdb) height\n",
      "[1000, 1002, 1001, 1003, 1005]\n",
      "(Pdb) bottom\n",
      "(Pdb) align\n",
      "'center'\n",
      "(Pdb) ?retwal\n",
      "*** No help for 'retwal'\n",
      "(Pdb) ?retval\n",
      "retval\n",
      "        Print the return value for the last return of a function.\n",
      "(Pdb) retval\n",
      "*** Not yet returned!\n",
      "(Pdb) ?step\n",
      "s(tep)\n",
      "        Execute the current line, stop at the first possible occasion\n",
      "        (either in a function that is called or in the current\n",
      "        function).\n",
      "(Pdb) step\n",
      "--Call--\n",
      "> /home/dmitry/anaconda3/lib/python3.7/site-packages/matplotlib/cbook/__init__.py(1646)normalize_kwargs()\n",
      "-> def normalize_kwargs(kw, alias_mapping=None, required=(), forbidden=(),\n",
      "(Pdb) dir()\n",
      "['alias_mapping', 'allowed', 'forbidden', 'kw', 'required']\n",
      "(Pdb) step\n",
      "> /home/dmitry/anaconda3/lib/python3.7/site-packages/matplotlib/cbook/__init__.py(1690)normalize_kwargs()\n",
      "-> if alias_mapping is None:\n",
      "(Pdb) step\n",
      "> /home/dmitry/anaconda3/lib/python3.7/site-packages/matplotlib/cbook/__init__.py(1694)normalize_kwargs()\n",
      "-> kw = dict(kw)\n",
      "(Pdb) dir()\n",
      "['alias_mapping', 'allowed', 'forbidden', 'kw', 'required']\n",
      "(Pdb) step\n",
      "> /home/dmitry/anaconda3/lib/python3.7/site-packages/matplotlib/cbook/__init__.py(1696)normalize_kwargs()\n",
      "-> ret = dict()\n",
      "(Pdb) step\n",
      "> /home/dmitry/anaconda3/lib/python3.7/site-packages/matplotlib/cbook/__init__.py(1699)normalize_kwargs()\n",
      "-> for canonical, alias_list in alias_mapping.items():\n",
      "(Pdb) step\n",
      "> /home/dmitry/anaconda3/lib/python3.7/site-packages/matplotlib/cbook/__init__.py(1703)normalize_kwargs()\n",
      "-> tmp = []\n",
      "(Pdb) step\n",
      "> /home/dmitry/anaconda3/lib/python3.7/site-packages/matplotlib/cbook/__init__.py(1704)normalize_kwargs()\n",
      "-> seen = []\n",
      "(Pdb) step\n",
      "> /home/dmitry/anaconda3/lib/python3.7/site-packages/matplotlib/cbook/__init__.py(1705)normalize_kwargs()\n",
      "-> for a in alias_list:\n",
      "(Pdb) step\n",
      "> /home/dmitry/anaconda3/lib/python3.7/site-packages/matplotlib/cbook/__init__.py(1706)normalize_kwargs()\n",
      "-> try:\n",
      "(Pdb) step\n",
      "> /home/dmitry/anaconda3/lib/python3.7/site-packages/matplotlib/cbook/__init__.py(1707)normalize_kwargs()\n",
      "-> tmp.append(kw.pop(a))\n",
      "(Pdb) step\n",
      "KeyError: 'aa'\n",
      "> /home/dmitry/anaconda3/lib/python3.7/site-packages/matplotlib/cbook/__init__.py(1707)normalize_kwargs()\n",
      "-> tmp.append(kw.pop(a))\n",
      "(Pdb) step\n",
      "> /home/dmitry/anaconda3/lib/python3.7/site-packages/matplotlib/cbook/__init__.py(1709)normalize_kwargs()\n",
      "-> except KeyError:\n",
      "(Pdb) step\n",
      "> /home/dmitry/anaconda3/lib/python3.7/site-packages/matplotlib/cbook/__init__.py(1710)normalize_kwargs()\n",
      "-> pass\n",
      "(Pdb) step\n",
      "> /home/dmitry/anaconda3/lib/python3.7/site-packages/matplotlib/cbook/__init__.py(1705)normalize_kwargs()\n",
      "-> for a in alias_list:\n",
      "(Pdb) step\n",
      "> /home/dmitry/anaconda3/lib/python3.7/site-packages/matplotlib/cbook/__init__.py(1712)normalize_kwargs()\n",
      "-> if canonical not in alias_list:\n",
      "(Pdb) step\n",
      "> /home/dmitry/anaconda3/lib/python3.7/site-packages/matplotlib/cbook/__init__.py(1713)normalize_kwargs()\n",
      "-> try:\n",
      "(Pdb) step\n",
      "> /home/dmitry/anaconda3/lib/python3.7/site-packages/matplotlib/cbook/__init__.py(1714)normalize_kwargs()\n",
      "-> tmp.append(kw.pop(canonical))\n",
      "(Pdb) step\n",
      "KeyError: 'antialiased'\n",
      "> /home/dmitry/anaconda3/lib/python3.7/site-packages/matplotlib/cbook/__init__.py(1714)normalize_kwargs()\n",
      "-> tmp.append(kw.pop(canonical))\n",
      "(Pdb) step\n",
      "> /home/dmitry/anaconda3/lib/python3.7/site-packages/matplotlib/cbook/__init__.py(1716)normalize_kwargs()\n",
      "-> except KeyError:\n",
      "(Pdb) step\n",
      "> /home/dmitry/anaconda3/lib/python3.7/site-packages/matplotlib/cbook/__init__.py(1717)normalize_kwargs()\n",
      "-> pass\n",
      "(Pdb) step\n",
      "> /home/dmitry/anaconda3/lib/python3.7/site-packages/matplotlib/cbook/__init__.py(1720)normalize_kwargs()\n",
      "-> if tmp:\n",
      "(Pdb) step\n",
      "> /home/dmitry/anaconda3/lib/python3.7/site-packages/matplotlib/cbook/__init__.py(1699)normalize_kwargs()\n",
      "-> for canonical, alias_list in alias_mapping.items():\n",
      "(Pdb) step\n",
      "> /home/dmitry/anaconda3/lib/python3.7/site-packages/matplotlib/cbook/__init__.py(1703)normalize_kwargs()\n",
      "-> tmp = []\n",
      "(Pdb) step\n",
      "> /home/dmitry/anaconda3/lib/python3.7/site-packages/matplotlib/cbook/__init__.py(1704)normalize_kwargs()\n",
      "-> seen = []\n",
      "(Pdb) step\n",
      "> /home/dmitry/anaconda3/lib/python3.7/site-packages/matplotlib/cbook/__init__.py(1705)normalize_kwargs()\n",
      "-> for a in alias_list:\n",
      "(Pdb) step\n",
      "> /home/dmitry/anaconda3/lib/python3.7/site-packages/matplotlib/cbook/__init__.py(1706)normalize_kwargs()\n",
      "-> try:\n",
      "(Pdb) step\n",
      "> /home/dmitry/anaconda3/lib/python3.7/site-packages/matplotlib/cbook/__init__.py(1707)normalize_kwargs()\n",
      "-> tmp.append(kw.pop(a))\n",
      "(Pdb) step\n",
      "KeyError: 'ec'\n",
      "> /home/dmitry/anaconda3/lib/python3.7/site-packages/matplotlib/cbook/__init__.py(1707)normalize_kwargs()\n",
      "-> tmp.append(kw.pop(a))\n",
      "(Pdb) step\n",
      "> /home/dmitry/anaconda3/lib/python3.7/site-packages/matplotlib/cbook/__init__.py(1709)normalize_kwargs()\n",
      "-> except KeyError:\n",
      "(Pdb) step\n",
      "> /home/dmitry/anaconda3/lib/python3.7/site-packages/matplotlib/cbook/__init__.py(1710)normalize_kwargs()\n",
      "-> pass\n",
      "(Pdb) step\n",
      "> /home/dmitry/anaconda3/lib/python3.7/site-packages/matplotlib/cbook/__init__.py(1705)normalize_kwargs()\n",
      "-> for a in alias_list:\n",
      "(Pdb) step\n",
      "> /home/dmitry/anaconda3/lib/python3.7/site-packages/matplotlib/cbook/__init__.py(1712)normalize_kwargs()\n",
      "-> if canonical not in alias_list:\n",
      "(Pdb) step\n",
      "> /home/dmitry/anaconda3/lib/python3.7/site-packages/matplotlib/cbook/__init__.py(1713)normalize_kwargs()\n",
      "-> try:\n",
      "(Pdb) step\n",
      "> /home/dmitry/anaconda3/lib/python3.7/site-packages/matplotlib/cbook/__init__.py(1714)normalize_kwargs()\n",
      "-> tmp.append(kw.pop(canonical))\n",
      "(Pdb) step\n",
      "KeyError: 'edgecolor'\n",
      "> /home/dmitry/anaconda3/lib/python3.7/site-packages/matplotlib/cbook/__init__.py(1714)normalize_kwargs()\n",
      "-> tmp.append(kw.pop(canonical))\n",
      "(Pdb) step\n",
      "> /home/dmitry/anaconda3/lib/python3.7/site-packages/matplotlib/cbook/__init__.py(1716)normalize_kwargs()\n",
      "-> except KeyError:\n",
      "(Pdb) step\n",
      "> /home/dmitry/anaconda3/lib/python3.7/site-packages/matplotlib/cbook/__init__.py(1717)normalize_kwargs()\n",
      "-> pass\n",
      "(Pdb) step\n",
      "> /home/dmitry/anaconda3/lib/python3.7/site-packages/matplotlib/cbook/__init__.py(1720)normalize_kwargs()\n",
      "-> if tmp:\n",
      "(Pdb) step\n",
      "> /home/dmitry/anaconda3/lib/python3.7/site-packages/matplotlib/cbook/__init__.py(1699)normalize_kwargs()\n",
      "-> for canonical, alias_list in alias_mapping.items():\n",
      "(Pdb) step\n",
      "> /home/dmitry/anaconda3/lib/python3.7/site-packages/matplotlib/cbook/__init__.py(1703)normalize_kwargs()\n",
      "-> tmp = []\n",
      "(Pdb) step\n",
      "> /home/dmitry/anaconda3/lib/python3.7/site-packages/matplotlib/cbook/__init__.py(1704)normalize_kwargs()\n",
      "-> seen = []\n",
      "(Pdb) step\n",
      "> /home/dmitry/anaconda3/lib/python3.7/site-packages/matplotlib/cbook/__init__.py(1705)normalize_kwargs()\n",
      "-> for a in alias_list:\n",
      "(Pdb) step\n",
      "> /home/dmitry/anaconda3/lib/python3.7/site-packages/matplotlib/cbook/__init__.py(1706)normalize_kwargs()\n",
      "-> try:\n",
      "(Pdb) step\n",
      "> /home/dmitry/anaconda3/lib/python3.7/site-packages/matplotlib/cbook/__init__.py(1707)normalize_kwargs()\n",
      "-> tmp.append(kw.pop(a))\n",
      "(Pdb) step\n",
      "KeyError: 'fc'\n",
      "> /home/dmitry/anaconda3/lib/python3.7/site-packages/matplotlib/cbook/__init__.py(1707)normalize_kwargs()\n",
      "-> tmp.append(kw.pop(a))\n",
      "(Pdb) step\n",
      "> /home/dmitry/anaconda3/lib/python3.7/site-packages/matplotlib/cbook/__init__.py(1709)normalize_kwargs()\n",
      "-> except KeyError:\n",
      "(Pdb) step\n",
      "> /home/dmitry/anaconda3/lib/python3.7/site-packages/matplotlib/cbook/__init__.py(1710)normalize_kwargs()\n",
      "-> pass\n",
      "(Pdb) step\n"
     ]
    },
    {
     "name": "stdout",
     "output_type": "stream",
     "text": [
      "> /home/dmitry/anaconda3/lib/python3.7/site-packages/matplotlib/cbook/__init__.py(1705)normalize_kwargs()\n",
      "-> for a in alias_list:\n",
      "(Pdb) step\n",
      "> /home/dmitry/anaconda3/lib/python3.7/site-packages/matplotlib/cbook/__init__.py(1712)normalize_kwargs()\n",
      "-> if canonical not in alias_list:\n",
      "(Pdb) step\n",
      "> /home/dmitry/anaconda3/lib/python3.7/site-packages/matplotlib/cbook/__init__.py(1713)normalize_kwargs()\n",
      "-> try:\n",
      "(Pdb) step\n",
      "> /home/dmitry/anaconda3/lib/python3.7/site-packages/matplotlib/cbook/__init__.py(1714)normalize_kwargs()\n",
      "-> tmp.append(kw.pop(canonical))\n",
      "(Pdb) step\n",
      "KeyError: 'facecolor'\n",
      "> /home/dmitry/anaconda3/lib/python3.7/site-packages/matplotlib/cbook/__init__.py(1714)normalize_kwargs()\n",
      "-> tmp.append(kw.pop(canonical))\n",
      "(Pdb) step\n",
      "> /home/dmitry/anaconda3/lib/python3.7/site-packages/matplotlib/cbook/__init__.py(1716)normalize_kwargs()\n",
      "-> except KeyError:\n",
      "(Pdb) step\n",
      "> /home/dmitry/anaconda3/lib/python3.7/site-packages/matplotlib/cbook/__init__.py(1717)normalize_kwargs()\n",
      "-> pass\n",
      "(Pdb) step\n",
      "> /home/dmitry/anaconda3/lib/python3.7/site-packages/matplotlib/cbook/__init__.py(1720)normalize_kwargs()\n",
      "-> if tmp:\n",
      "(Pdb) step\n",
      "> /home/dmitry/anaconda3/lib/python3.7/site-packages/matplotlib/cbook/__init__.py(1699)normalize_kwargs()\n",
      "-> for canonical, alias_list in alias_mapping.items():\n",
      "(Pdb) step\n",
      "> /home/dmitry/anaconda3/lib/python3.7/site-packages/matplotlib/cbook/__init__.py(1703)normalize_kwargs()\n",
      "-> tmp = []\n",
      "(Pdb) step\n",
      "> /home/dmitry/anaconda3/lib/python3.7/site-packages/matplotlib/cbook/__init__.py(1704)normalize_kwargs()\n",
      "-> seen = []\n",
      "(Pdb) step\n",
      "> /home/dmitry/anaconda3/lib/python3.7/site-packages/matplotlib/cbook/__init__.py(1705)normalize_kwargs()\n",
      "-> for a in alias_list:\n",
      "(Pdb) run\n"
     ]
    },
    {
     "ename": "Restart",
     "evalue": "",
     "output_type": "error",
     "traceback": [
      "\u001b[0;31m---------------------------------------------------------------------------\u001b[0m",
      "\u001b[0;31mRestart\u001b[0m                                   Traceback (most recent call last)",
      "\u001b[0;32m<ipython-input-1-8733fff5ae80>\u001b[0m in \u001b[0;36m<module>\u001b[0;34m\u001b[0m\n\u001b[1;32m      2\u001b[0m \u001b[0mx\u001b[0m \u001b[0;34m=\u001b[0m \u001b[0;34m[\u001b[0m\u001b[0;36m1\u001b[0m\u001b[0;34m,\u001b[0m\u001b[0;36m2\u001b[0m\u001b[0;34m,\u001b[0m\u001b[0;36m3\u001b[0m\u001b[0;34m,\u001b[0m\u001b[0;36m4\u001b[0m\u001b[0;34m,\u001b[0m\u001b[0;36m5\u001b[0m\u001b[0;34m]\u001b[0m\u001b[0;34m\u001b[0m\u001b[0;34m\u001b[0m\u001b[0m\n\u001b[1;32m      3\u001b[0m \u001b[0my\u001b[0m \u001b[0;34m=\u001b[0m \u001b[0;34m[\u001b[0m\u001b[0;36m1000\u001b[0m\u001b[0;34m,\u001b[0m \u001b[0;36m1002\u001b[0m\u001b[0;34m,\u001b[0m \u001b[0;36m1001\u001b[0m\u001b[0;34m,\u001b[0m \u001b[0;36m1003\u001b[0m\u001b[0;34m,\u001b[0m \u001b[0;36m1005\u001b[0m\u001b[0;34m]\u001b[0m\u001b[0;34m\u001b[0m\u001b[0;34m\u001b[0m\u001b[0m\n\u001b[0;32m----> 4\u001b[0;31m \u001b[0mplt\u001b[0m\u001b[0;34m.\u001b[0m\u001b[0mbar\u001b[0m\u001b[0;34m(\u001b[0m\u001b[0mx\u001b[0m\u001b[0;34m,\u001b[0m\u001b[0my\u001b[0m\u001b[0;34m)\u001b[0m\u001b[0;34m\u001b[0m\u001b[0;34m\u001b[0m\u001b[0m\n\u001b[0m\u001b[1;32m      5\u001b[0m \u001b[0mplt\u001b[0m\u001b[0;34m.\u001b[0m\u001b[0mshow\u001b[0m\u001b[0;34m(\u001b[0m\u001b[0;34m)\u001b[0m\u001b[0;34m\u001b[0m\u001b[0;34m\u001b[0m\u001b[0m\n",
      "\u001b[0;32m~/anaconda3/lib/python3.7/site-packages/matplotlib/pyplot.py\u001b[0m in \u001b[0;36mbar\u001b[0;34m(x, height, width, bottom, align, data, **kwargs)\u001b[0m\n\u001b[1;32m   2457\u001b[0m     return gca().bar(\n\u001b[1;32m   2458\u001b[0m         \u001b[0mx\u001b[0m\u001b[0;34m,\u001b[0m \u001b[0mheight\u001b[0m\u001b[0;34m,\u001b[0m \u001b[0mwidth\u001b[0m\u001b[0;34m=\u001b[0m\u001b[0mwidth\u001b[0m\u001b[0;34m,\u001b[0m \u001b[0mbottom\u001b[0m\u001b[0;34m=\u001b[0m\u001b[0mbottom\u001b[0m\u001b[0;34m,\u001b[0m \u001b[0malign\u001b[0m\u001b[0;34m=\u001b[0m\u001b[0malign\u001b[0m\u001b[0;34m,\u001b[0m\u001b[0;34m\u001b[0m\u001b[0;34m\u001b[0m\u001b[0m\n\u001b[0;32m-> 2459\u001b[0;31m         **({\"data\": data} if data is not None else {}), **kwargs)\n\u001b[0m\u001b[1;32m   2460\u001b[0m \u001b[0;34m\u001b[0m\u001b[0m\n\u001b[1;32m   2461\u001b[0m \u001b[0;34m\u001b[0m\u001b[0m\n",
      "\u001b[0;32m~/anaconda3/lib/python3.7/site-packages/matplotlib/__init__.py\u001b[0m in \u001b[0;36minner\u001b[0;34m(ax, data, *args, **kwargs)\u001b[0m\n\u001b[1;32m   1808\u001b[0m                         \u001b[0;34m\"the Matplotlib list!)\"\u001b[0m \u001b[0;34m%\u001b[0m \u001b[0;34m(\u001b[0m\u001b[0mlabel_namer\u001b[0m\u001b[0;34m,\u001b[0m \u001b[0mfunc\u001b[0m\u001b[0;34m.\u001b[0m\u001b[0m__name__\u001b[0m\u001b[0;34m)\u001b[0m\u001b[0;34m,\u001b[0m\u001b[0;34m\u001b[0m\u001b[0;34m\u001b[0m\u001b[0m\n\u001b[1;32m   1809\u001b[0m                         RuntimeWarning, stacklevel=2)\n\u001b[0;32m-> 1810\u001b[0;31m             \u001b[0;32mreturn\u001b[0m \u001b[0mfunc\u001b[0m\u001b[0;34m(\u001b[0m\u001b[0max\u001b[0m\u001b[0;34m,\u001b[0m \u001b[0;34m*\u001b[0m\u001b[0margs\u001b[0m\u001b[0;34m,\u001b[0m \u001b[0;34m**\u001b[0m\u001b[0mkwargs\u001b[0m\u001b[0;34m)\u001b[0m\u001b[0;34m\u001b[0m\u001b[0;34m\u001b[0m\u001b[0m\n\u001b[0m\u001b[1;32m   1811\u001b[0m \u001b[0;34m\u001b[0m\u001b[0m\n\u001b[1;32m   1812\u001b[0m         inner.__doc__ = _add_data_doc(inner.__doc__,\n",
      "\u001b[0;32m~/anaconda3/lib/python3.7/site-packages/matplotlib/axes/_axes.py\u001b[0m in \u001b[0;36mbar\u001b[0;34m(self, x, height, width, bottom, align, **kwargs)\u001b[0m\n\u001b[1;32m   2186\u001b[0m         \u001b[0;32mimport\u001b[0m \u001b[0mpdb\u001b[0m\u001b[0;34m\u001b[0m\u001b[0;34m\u001b[0m\u001b[0m\n\u001b[1;32m   2187\u001b[0m         \u001b[0mpdb\u001b[0m\u001b[0;34m.\u001b[0m\u001b[0mset_trace\u001b[0m\u001b[0;34m(\u001b[0m\u001b[0;34m)\u001b[0m\u001b[0;34m\u001b[0m\u001b[0;34m\u001b[0m\u001b[0m\n\u001b[0;32m-> 2188\u001b[0;31m         \u001b[0mkwargs\u001b[0m \u001b[0;34m=\u001b[0m \u001b[0mcbook\u001b[0m\u001b[0;34m.\u001b[0m\u001b[0mnormalize_kwargs\u001b[0m\u001b[0;34m(\u001b[0m\u001b[0mkwargs\u001b[0m\u001b[0;34m,\u001b[0m \u001b[0mmpatches\u001b[0m\u001b[0;34m.\u001b[0m\u001b[0mPatch\u001b[0m\u001b[0;34m.\u001b[0m\u001b[0m_alias_map\u001b[0m\u001b[0;34m)\u001b[0m\u001b[0;34m\u001b[0m\u001b[0;34m\u001b[0m\u001b[0m\n\u001b[0m\u001b[1;32m   2189\u001b[0m         \u001b[0mcolor\u001b[0m \u001b[0;34m=\u001b[0m \u001b[0mkwargs\u001b[0m\u001b[0;34m.\u001b[0m\u001b[0mpop\u001b[0m\u001b[0;34m(\u001b[0m\u001b[0;34m'color'\u001b[0m\u001b[0;34m,\u001b[0m \u001b[0;32mNone\u001b[0m\u001b[0;34m)\u001b[0m\u001b[0;34m\u001b[0m\u001b[0;34m\u001b[0m\u001b[0m\n\u001b[1;32m   2190\u001b[0m         \u001b[0;32mif\u001b[0m \u001b[0mcolor\u001b[0m \u001b[0;32mis\u001b[0m \u001b[0;32mNone\u001b[0m\u001b[0;34m:\u001b[0m\u001b[0;34m\u001b[0m\u001b[0;34m\u001b[0m\u001b[0m\n",
      "\u001b[0;32m~/anaconda3/lib/python3.7/site-packages/matplotlib/cbook/__init__.py\u001b[0m in \u001b[0;36mnormalize_kwargs\u001b[0;34m(kw, alias_mapping, required, forbidden, allowed)\u001b[0m\n\u001b[1;32m   1703\u001b[0m         \u001b[0mtmp\u001b[0m \u001b[0;34m=\u001b[0m \u001b[0;34m[\u001b[0m\u001b[0;34m]\u001b[0m\u001b[0;34m\u001b[0m\u001b[0;34m\u001b[0m\u001b[0m\n\u001b[1;32m   1704\u001b[0m         \u001b[0mseen\u001b[0m \u001b[0;34m=\u001b[0m \u001b[0;34m[\u001b[0m\u001b[0;34m]\u001b[0m\u001b[0;34m\u001b[0m\u001b[0;34m\u001b[0m\u001b[0m\n\u001b[0;32m-> 1705\u001b[0;31m         \u001b[0;32mfor\u001b[0m \u001b[0ma\u001b[0m \u001b[0;32min\u001b[0m \u001b[0malias_list\u001b[0m\u001b[0;34m:\u001b[0m\u001b[0;34m\u001b[0m\u001b[0;34m\u001b[0m\u001b[0m\n\u001b[0m\u001b[1;32m   1706\u001b[0m             \u001b[0;32mtry\u001b[0m\u001b[0;34m:\u001b[0m\u001b[0;34m\u001b[0m\u001b[0;34m\u001b[0m\u001b[0m\n\u001b[1;32m   1707\u001b[0m                 \u001b[0mtmp\u001b[0m\u001b[0;34m.\u001b[0m\u001b[0mappend\u001b[0m\u001b[0;34m(\u001b[0m\u001b[0mkw\u001b[0m\u001b[0;34m.\u001b[0m\u001b[0mpop\u001b[0m\u001b[0;34m(\u001b[0m\u001b[0ma\u001b[0m\u001b[0;34m)\u001b[0m\u001b[0;34m)\u001b[0m\u001b[0;34m\u001b[0m\u001b[0;34m\u001b[0m\u001b[0m\n",
      "\u001b[0;32m~/anaconda3/lib/python3.7/site-packages/matplotlib/cbook/__init__.py\u001b[0m in \u001b[0;36mnormalize_kwargs\u001b[0;34m(kw, alias_mapping, required, forbidden, allowed)\u001b[0m\n\u001b[1;32m   1703\u001b[0m         \u001b[0mtmp\u001b[0m \u001b[0;34m=\u001b[0m \u001b[0;34m[\u001b[0m\u001b[0;34m]\u001b[0m\u001b[0;34m\u001b[0m\u001b[0;34m\u001b[0m\u001b[0m\n\u001b[1;32m   1704\u001b[0m         \u001b[0mseen\u001b[0m \u001b[0;34m=\u001b[0m \u001b[0;34m[\u001b[0m\u001b[0;34m]\u001b[0m\u001b[0;34m\u001b[0m\u001b[0;34m\u001b[0m\u001b[0m\n\u001b[0;32m-> 1705\u001b[0;31m         \u001b[0;32mfor\u001b[0m \u001b[0ma\u001b[0m \u001b[0;32min\u001b[0m \u001b[0malias_list\u001b[0m\u001b[0;34m:\u001b[0m\u001b[0;34m\u001b[0m\u001b[0;34m\u001b[0m\u001b[0m\n\u001b[0m\u001b[1;32m   1706\u001b[0m             \u001b[0;32mtry\u001b[0m\u001b[0;34m:\u001b[0m\u001b[0;34m\u001b[0m\u001b[0;34m\u001b[0m\u001b[0m\n\u001b[1;32m   1707\u001b[0m                 \u001b[0mtmp\u001b[0m\u001b[0;34m.\u001b[0m\u001b[0mappend\u001b[0m\u001b[0;34m(\u001b[0m\u001b[0mkw\u001b[0m\u001b[0;34m.\u001b[0m\u001b[0mpop\u001b[0m\u001b[0;34m(\u001b[0m\u001b[0ma\u001b[0m\u001b[0;34m)\u001b[0m\u001b[0;34m)\u001b[0m\u001b[0;34m\u001b[0m\u001b[0;34m\u001b[0m\u001b[0m\n",
      "\u001b[0;32m~/anaconda3/lib/python3.7/bdb.py\u001b[0m in \u001b[0;36mtrace_dispatch\u001b[0;34m(self, frame, event, arg)\u001b[0m\n\u001b[1;32m     86\u001b[0m             \u001b[0;32mreturn\u001b[0m \u001b[0;31m# None\u001b[0m\u001b[0;34m\u001b[0m\u001b[0;34m\u001b[0m\u001b[0m\n\u001b[1;32m     87\u001b[0m         \u001b[0;32mif\u001b[0m \u001b[0mevent\u001b[0m \u001b[0;34m==\u001b[0m \u001b[0;34m'line'\u001b[0m\u001b[0;34m:\u001b[0m\u001b[0;34m\u001b[0m\u001b[0;34m\u001b[0m\u001b[0m\n\u001b[0;32m---> 88\u001b[0;31m             \u001b[0;32mreturn\u001b[0m \u001b[0mself\u001b[0m\u001b[0;34m.\u001b[0m\u001b[0mdispatch_line\u001b[0m\u001b[0;34m(\u001b[0m\u001b[0mframe\u001b[0m\u001b[0;34m)\u001b[0m\u001b[0;34m\u001b[0m\u001b[0;34m\u001b[0m\u001b[0m\n\u001b[0m\u001b[1;32m     89\u001b[0m         \u001b[0;32mif\u001b[0m \u001b[0mevent\u001b[0m \u001b[0;34m==\u001b[0m \u001b[0;34m'call'\u001b[0m\u001b[0;34m:\u001b[0m\u001b[0;34m\u001b[0m\u001b[0;34m\u001b[0m\u001b[0m\n\u001b[1;32m     90\u001b[0m             \u001b[0;32mreturn\u001b[0m \u001b[0mself\u001b[0m\u001b[0;34m.\u001b[0m\u001b[0mdispatch_call\u001b[0m\u001b[0;34m(\u001b[0m\u001b[0mframe\u001b[0m\u001b[0;34m,\u001b[0m \u001b[0marg\u001b[0m\u001b[0;34m)\u001b[0m\u001b[0;34m\u001b[0m\u001b[0;34m\u001b[0m\u001b[0m\n",
      "\u001b[0;32m~/anaconda3/lib/python3.7/bdb.py\u001b[0m in \u001b[0;36mdispatch_line\u001b[0;34m(self, frame)\u001b[0m\n\u001b[1;32m    110\u001b[0m         \"\"\"\n\u001b[1;32m    111\u001b[0m         \u001b[0;32mif\u001b[0m \u001b[0mself\u001b[0m\u001b[0;34m.\u001b[0m\u001b[0mstop_here\u001b[0m\u001b[0;34m(\u001b[0m\u001b[0mframe\u001b[0m\u001b[0;34m)\u001b[0m \u001b[0;32mor\u001b[0m \u001b[0mself\u001b[0m\u001b[0;34m.\u001b[0m\u001b[0mbreak_here\u001b[0m\u001b[0;34m(\u001b[0m\u001b[0mframe\u001b[0m\u001b[0;34m)\u001b[0m\u001b[0;34m:\u001b[0m\u001b[0;34m\u001b[0m\u001b[0;34m\u001b[0m\u001b[0m\n\u001b[0;32m--> 112\u001b[0;31m             \u001b[0mself\u001b[0m\u001b[0;34m.\u001b[0m\u001b[0muser_line\u001b[0m\u001b[0;34m(\u001b[0m\u001b[0mframe\u001b[0m\u001b[0;34m)\u001b[0m\u001b[0;34m\u001b[0m\u001b[0;34m\u001b[0m\u001b[0m\n\u001b[0m\u001b[1;32m    113\u001b[0m             \u001b[0;32mif\u001b[0m \u001b[0mself\u001b[0m\u001b[0;34m.\u001b[0m\u001b[0mquitting\u001b[0m\u001b[0;34m:\u001b[0m \u001b[0;32mraise\u001b[0m \u001b[0mBdbQuit\u001b[0m\u001b[0;34m\u001b[0m\u001b[0;34m\u001b[0m\u001b[0m\n\u001b[1;32m    114\u001b[0m         \u001b[0;32mreturn\u001b[0m \u001b[0mself\u001b[0m\u001b[0;34m.\u001b[0m\u001b[0mtrace_dispatch\u001b[0m\u001b[0;34m\u001b[0m\u001b[0;34m\u001b[0m\u001b[0m\n",
      "\u001b[0;32m~/anaconda3/lib/python3.7/pdb.py\u001b[0m in \u001b[0;36muser_line\u001b[0;34m(self, frame)\u001b[0m\n\u001b[1;32m    259\u001b[0m             \u001b[0mself\u001b[0m\u001b[0;34m.\u001b[0m\u001b[0m_wait_for_mainpyfile\u001b[0m \u001b[0;34m=\u001b[0m \u001b[0;32mFalse\u001b[0m\u001b[0;34m\u001b[0m\u001b[0;34m\u001b[0m\u001b[0m\n\u001b[1;32m    260\u001b[0m         \u001b[0;32mif\u001b[0m \u001b[0mself\u001b[0m\u001b[0;34m.\u001b[0m\u001b[0mbp_commands\u001b[0m\u001b[0;34m(\u001b[0m\u001b[0mframe\u001b[0m\u001b[0;34m)\u001b[0m\u001b[0;34m:\u001b[0m\u001b[0;34m\u001b[0m\u001b[0;34m\u001b[0m\u001b[0m\n\u001b[0;32m--> 261\u001b[0;31m             \u001b[0mself\u001b[0m\u001b[0;34m.\u001b[0m\u001b[0minteraction\u001b[0m\u001b[0;34m(\u001b[0m\u001b[0mframe\u001b[0m\u001b[0;34m,\u001b[0m \u001b[0;32mNone\u001b[0m\u001b[0;34m)\u001b[0m\u001b[0;34m\u001b[0m\u001b[0;34m\u001b[0m\u001b[0m\n\u001b[0m\u001b[1;32m    262\u001b[0m \u001b[0;34m\u001b[0m\u001b[0m\n\u001b[1;32m    263\u001b[0m     \u001b[0;32mdef\u001b[0m \u001b[0mbp_commands\u001b[0m\u001b[0;34m(\u001b[0m\u001b[0mself\u001b[0m\u001b[0;34m,\u001b[0m \u001b[0mframe\u001b[0m\u001b[0;34m)\u001b[0m\u001b[0;34m:\u001b[0m\u001b[0;34m\u001b[0m\u001b[0;34m\u001b[0m\u001b[0m\n",
      "\u001b[0;32m~/anaconda3/lib/python3.7/pdb.py\u001b[0m in \u001b[0;36minteraction\u001b[0;34m(self, frame, traceback)\u001b[0m\n\u001b[1;32m    350\u001b[0m             \u001b[0;32mreturn\u001b[0m\u001b[0;34m\u001b[0m\u001b[0;34m\u001b[0m\u001b[0m\n\u001b[1;32m    351\u001b[0m         \u001b[0mself\u001b[0m\u001b[0;34m.\u001b[0m\u001b[0mprint_stack_entry\u001b[0m\u001b[0;34m(\u001b[0m\u001b[0mself\u001b[0m\u001b[0;34m.\u001b[0m\u001b[0mstack\u001b[0m\u001b[0;34m[\u001b[0m\u001b[0mself\u001b[0m\u001b[0;34m.\u001b[0m\u001b[0mcurindex\u001b[0m\u001b[0;34m]\u001b[0m\u001b[0;34m)\u001b[0m\u001b[0;34m\u001b[0m\u001b[0;34m\u001b[0m\u001b[0m\n\u001b[0;32m--> 352\u001b[0;31m         \u001b[0mself\u001b[0m\u001b[0;34m.\u001b[0m\u001b[0m_cmdloop\u001b[0m\u001b[0;34m(\u001b[0m\u001b[0;34m)\u001b[0m\u001b[0;34m\u001b[0m\u001b[0;34m\u001b[0m\u001b[0m\n\u001b[0m\u001b[1;32m    353\u001b[0m         \u001b[0mself\u001b[0m\u001b[0;34m.\u001b[0m\u001b[0mforget\u001b[0m\u001b[0;34m(\u001b[0m\u001b[0;34m)\u001b[0m\u001b[0;34m\u001b[0m\u001b[0;34m\u001b[0m\u001b[0m\n\u001b[1;32m    354\u001b[0m \u001b[0;34m\u001b[0m\u001b[0m\n",
      "\u001b[0;32m~/anaconda3/lib/python3.7/pdb.py\u001b[0m in \u001b[0;36m_cmdloop\u001b[0;34m(self)\u001b[0m\n\u001b[1;32m    319\u001b[0m                 \u001b[0;31m# the current command, so allow them during interactive input\u001b[0m\u001b[0;34m\u001b[0m\u001b[0;34m\u001b[0m\u001b[0;34m\u001b[0m\u001b[0m\n\u001b[1;32m    320\u001b[0m                 \u001b[0mself\u001b[0m\u001b[0;34m.\u001b[0m\u001b[0mallow_kbdint\u001b[0m \u001b[0;34m=\u001b[0m \u001b[0;32mTrue\u001b[0m\u001b[0;34m\u001b[0m\u001b[0;34m\u001b[0m\u001b[0m\n\u001b[0;32m--> 321\u001b[0;31m                 \u001b[0mself\u001b[0m\u001b[0;34m.\u001b[0m\u001b[0mcmdloop\u001b[0m\u001b[0;34m(\u001b[0m\u001b[0;34m)\u001b[0m\u001b[0;34m\u001b[0m\u001b[0;34m\u001b[0m\u001b[0m\n\u001b[0m\u001b[1;32m    322\u001b[0m                 \u001b[0mself\u001b[0m\u001b[0;34m.\u001b[0m\u001b[0mallow_kbdint\u001b[0m \u001b[0;34m=\u001b[0m \u001b[0;32mFalse\u001b[0m\u001b[0;34m\u001b[0m\u001b[0;34m\u001b[0m\u001b[0m\n\u001b[1;32m    323\u001b[0m                 \u001b[0;32mbreak\u001b[0m\u001b[0;34m\u001b[0m\u001b[0;34m\u001b[0m\u001b[0m\n",
      "\u001b[0;32m~/anaconda3/lib/python3.7/cmd.py\u001b[0m in \u001b[0;36mcmdloop\u001b[0;34m(self, intro)\u001b[0m\n\u001b[1;32m    136\u001b[0m                             \u001b[0mline\u001b[0m \u001b[0;34m=\u001b[0m \u001b[0mline\u001b[0m\u001b[0;34m.\u001b[0m\u001b[0mrstrip\u001b[0m\u001b[0;34m(\u001b[0m\u001b[0;34m'\\r\\n'\u001b[0m\u001b[0;34m)\u001b[0m\u001b[0;34m\u001b[0m\u001b[0;34m\u001b[0m\u001b[0m\n\u001b[1;32m    137\u001b[0m                 \u001b[0mline\u001b[0m \u001b[0;34m=\u001b[0m \u001b[0mself\u001b[0m\u001b[0;34m.\u001b[0m\u001b[0mprecmd\u001b[0m\u001b[0;34m(\u001b[0m\u001b[0mline\u001b[0m\u001b[0;34m)\u001b[0m\u001b[0;34m\u001b[0m\u001b[0;34m\u001b[0m\u001b[0m\n\u001b[0;32m--> 138\u001b[0;31m                 \u001b[0mstop\u001b[0m \u001b[0;34m=\u001b[0m \u001b[0mself\u001b[0m\u001b[0;34m.\u001b[0m\u001b[0monecmd\u001b[0m\u001b[0;34m(\u001b[0m\u001b[0mline\u001b[0m\u001b[0;34m)\u001b[0m\u001b[0;34m\u001b[0m\u001b[0;34m\u001b[0m\u001b[0m\n\u001b[0m\u001b[1;32m    139\u001b[0m                 \u001b[0mstop\u001b[0m \u001b[0;34m=\u001b[0m \u001b[0mself\u001b[0m\u001b[0;34m.\u001b[0m\u001b[0mpostcmd\u001b[0m\u001b[0;34m(\u001b[0m\u001b[0mstop\u001b[0m\u001b[0;34m,\u001b[0m \u001b[0mline\u001b[0m\u001b[0;34m)\u001b[0m\u001b[0;34m\u001b[0m\u001b[0;34m\u001b[0m\u001b[0m\n\u001b[1;32m    140\u001b[0m             \u001b[0mself\u001b[0m\u001b[0;34m.\u001b[0m\u001b[0mpostloop\u001b[0m\u001b[0;34m(\u001b[0m\u001b[0;34m)\u001b[0m\u001b[0;34m\u001b[0m\u001b[0;34m\u001b[0m\u001b[0m\n",
      "\u001b[0;32m~/anaconda3/lib/python3.7/pdb.py\u001b[0m in \u001b[0;36monecmd\u001b[0;34m(self, line)\u001b[0m\n\u001b[1;32m    416\u001b[0m         \"\"\"\n\u001b[1;32m    417\u001b[0m         \u001b[0;32mif\u001b[0m \u001b[0;32mnot\u001b[0m \u001b[0mself\u001b[0m\u001b[0;34m.\u001b[0m\u001b[0mcommands_defining\u001b[0m\u001b[0;34m:\u001b[0m\u001b[0;34m\u001b[0m\u001b[0;34m\u001b[0m\u001b[0m\n\u001b[0;32m--> 418\u001b[0;31m             \u001b[0;32mreturn\u001b[0m \u001b[0mcmd\u001b[0m\u001b[0;34m.\u001b[0m\u001b[0mCmd\u001b[0m\u001b[0;34m.\u001b[0m\u001b[0monecmd\u001b[0m\u001b[0;34m(\u001b[0m\u001b[0mself\u001b[0m\u001b[0;34m,\u001b[0m \u001b[0mline\u001b[0m\u001b[0;34m)\u001b[0m\u001b[0;34m\u001b[0m\u001b[0;34m\u001b[0m\u001b[0m\n\u001b[0m\u001b[1;32m    419\u001b[0m         \u001b[0;32melse\u001b[0m\u001b[0;34m:\u001b[0m\u001b[0;34m\u001b[0m\u001b[0;34m\u001b[0m\u001b[0m\n\u001b[1;32m    420\u001b[0m             \u001b[0;32mreturn\u001b[0m \u001b[0mself\u001b[0m\u001b[0;34m.\u001b[0m\u001b[0mhandle_command_def\u001b[0m\u001b[0;34m(\u001b[0m\u001b[0mline\u001b[0m\u001b[0;34m)\u001b[0m\u001b[0;34m\u001b[0m\u001b[0;34m\u001b[0m\u001b[0m\n",
      "\u001b[0;32m~/anaconda3/lib/python3.7/cmd.py\u001b[0m in \u001b[0;36monecmd\u001b[0;34m(self, line)\u001b[0m\n\u001b[1;32m    215\u001b[0m             \u001b[0;32mexcept\u001b[0m \u001b[0mAttributeError\u001b[0m\u001b[0;34m:\u001b[0m\u001b[0;34m\u001b[0m\u001b[0;34m\u001b[0m\u001b[0m\n\u001b[1;32m    216\u001b[0m                 \u001b[0;32mreturn\u001b[0m \u001b[0mself\u001b[0m\u001b[0;34m.\u001b[0m\u001b[0mdefault\u001b[0m\u001b[0;34m(\u001b[0m\u001b[0mline\u001b[0m\u001b[0;34m)\u001b[0m\u001b[0;34m\u001b[0m\u001b[0;34m\u001b[0m\u001b[0m\n\u001b[0;32m--> 217\u001b[0;31m             \u001b[0;32mreturn\u001b[0m \u001b[0mfunc\u001b[0m\u001b[0;34m(\u001b[0m\u001b[0marg\u001b[0m\u001b[0;34m)\u001b[0m\u001b[0;34m\u001b[0m\u001b[0;34m\u001b[0m\u001b[0m\n\u001b[0m\u001b[1;32m    218\u001b[0m \u001b[0;34m\u001b[0m\u001b[0m\n\u001b[1;32m    219\u001b[0m     \u001b[0;32mdef\u001b[0m \u001b[0memptyline\u001b[0m\u001b[0;34m(\u001b[0m\u001b[0mself\u001b[0m\u001b[0;34m)\u001b[0m\u001b[0;34m:\u001b[0m\u001b[0;34m\u001b[0m\u001b[0;34m\u001b[0m\u001b[0m\n",
      "\u001b[0;32m~/anaconda3/lib/python3.7/pdb.py\u001b[0m in \u001b[0;36mdo_run\u001b[0;34m(self, arg)\u001b[0m\n\u001b[1;32m   1026\u001b[0m             \u001b[0msys\u001b[0m\u001b[0;34m.\u001b[0m\u001b[0margv\u001b[0m\u001b[0;34m[\u001b[0m\u001b[0;34m:\u001b[0m\u001b[0;36m0\u001b[0m\u001b[0;34m]\u001b[0m \u001b[0;34m=\u001b[0m \u001b[0margv0\u001b[0m\u001b[0;34m\u001b[0m\u001b[0;34m\u001b[0m\u001b[0m\n\u001b[1;32m   1027\u001b[0m         \u001b[0;31m# this is caught in the main debugger loop\u001b[0m\u001b[0;34m\u001b[0m\u001b[0;34m\u001b[0m\u001b[0;34m\u001b[0m\u001b[0m\n\u001b[0;32m-> 1028\u001b[0;31m         \u001b[0;32mraise\u001b[0m \u001b[0mRestart\u001b[0m\u001b[0;34m\u001b[0m\u001b[0;34m\u001b[0m\u001b[0m\n\u001b[0m\u001b[1;32m   1029\u001b[0m \u001b[0;34m\u001b[0m\u001b[0m\n\u001b[1;32m   1030\u001b[0m     \u001b[0mdo_restart\u001b[0m \u001b[0;34m=\u001b[0m \u001b[0mdo_run\u001b[0m\u001b[0;34m\u001b[0m\u001b[0;34m\u001b[0m\u001b[0m\n",
      "\u001b[0;31mRestart\u001b[0m: "
     ]
    }
   ],
   "source": [
    "import matplotlib.pyplot as plt\n",
    "x = [1,2,3,4,5]\n",
    "y = [1000, 1002, 1001, 1003, 1005]\n",
    "plt.bar(x,y) \n",
    "plt.show()"
   ]
  },
  {
   "cell_type": "markdown",
   "metadata": {},
   "source": [
    "If you look at `plt.bar` function docs, you find keyword `bottom`; its default value 0, that means all bars will start at 0 and have\n",
    "height as defined in the second argument passed to `bar` (`y`).\n",
    "\n",
    "By default, matplotlib chooses axes limits to cover provided range of values. Note, bar function plots filled rectangles of specified heights, so, by default matplotlib chooses axes to cover range from 0 (bottom value) to (bottom + y). Ticks and tick labels are placed in regular manner. \n",
    "\n",
    "Check out `axes.set_xticks`, `axes.set_xticklabels`, `axes.set_xlim` (you can get current axes instance using `plt.gca()`) to change this behavior."
   ]
  },
  {
   "cell_type": "markdown",
   "metadata": {},
   "source": [
    "#5. https://python-forum.io/Thread-Unexpected-Output-using-classes-and-inheritance"
   ]
  },
  {
   "cell_type": "code",
   "execution_count": 1,
   "metadata": {},
   "outputs": [
    {
     "name": "stdout",
     "output_type": "stream",
     "text": [
      "Abc Bac aged 48 lives in Vienna\n",
      "The privileges of an admin are:\n",
      "\n",
      "\tcan ban post\n",
      "\n",
      "\tcan revoke access\n",
      "\n",
      "\tcan ban user\n"
     ]
    },
    {
     "data": {
      "text/plain": [
       "['can ban post', 'can revoke access', 'can ban user']"
      ]
     },
     "execution_count": 1,
     "metadata": {},
     "output_type": "execute_result"
    }
   ],
   "source": [
    "class User():\n",
    "    \"\"\"Storing information about any user\"\"\"\n",
    "\n",
    "    def __init__(self, first_name, last_name, age, location, gender):\n",
    "        \"\"\"Holds the information\"\"\"\n",
    "\n",
    "        self.first_name = first_name\n",
    "        self.last_name = last_name\n",
    "        self.age = age\n",
    "        self.location = location \n",
    "    \n",
    "    def __str__(self):\n",
    "        return \" \".join([self.first_name.title(), self.last_name.title(),\n",
    "                         \"aged\", str(self.age), \"lives in\", self.location.title()])\n",
    "        \n",
    "\n",
    "class Admin(User): \n",
    "    def __init__(self,first_name, last_name, age, location, gender):\n",
    "        super().__init__(first_name,last_name,age,location,gender)\n",
    "        self.privileges = []\n",
    "\n",
    "    def set_privileges(self):\n",
    "        self.privileges = []\n",
    "        self.privileges.append(\"can ban post\")\n",
    "        self.privileges.append(\"can revoke access\")\n",
    "        self.privileges.append(\"can ban user\")\n",
    "        print(\"The privileges of an admin are:\")\n",
    "        for privilege in self.privileges:\n",
    "            print(\"\\n\\t\" + privilege)\n",
    "\n",
    "new_user = Admin('abc','bac', 48, 'vienna' , 'male')\n",
    "print(new_user)\n",
    "new_user.set_privileges()\n",
    "new_user.privileges"
   ]
  },
  {
   "cell_type": "markdown",
   "metadata": {},
   "source": [
    "#6. https://python-forum.io/Thread-replace-nan-values-by-mean-group-by-date-year-date-month?pid=85437#pid85437"
   ]
  },
  {
   "cell_type": "code",
   "execution_count": 32,
   "metadata": {},
   "outputs": [],
   "source": [
    "import pandas as pd\n",
    "df = pd.DataFrame({'date': ['2001-09-01', '2001-09-02', '2001-10-01', '2001-10-03', '2001-09-03'],\n",
    "                   'value': [1, 2, 0, None, None]})"
   ]
  },
  {
   "cell_type": "code",
   "execution_count": 33,
   "metadata": {},
   "outputs": [],
   "source": [
    "df.date = pd.to_datetime(df.date)"
   ]
  },
  {
   "cell_type": "code",
   "execution_count": 34,
   "metadata": {},
   "outputs": [],
   "source": [
    "df.fillna(df.groupby([df.date.dt.year, df.date.dt.month]).transform('mean'), inplace=True)"
   ]
  },
  {
   "cell_type": "code",
   "execution_count": 35,
   "metadata": {},
   "outputs": [
    {
     "data": {
      "text/html": [
       "<div>\n",
       "<style scoped>\n",
       "    .dataframe tbody tr th:only-of-type {\n",
       "        vertical-align: middle;\n",
       "    }\n",
       "\n",
       "    .dataframe tbody tr th {\n",
       "        vertical-align: top;\n",
       "    }\n",
       "\n",
       "    .dataframe thead th {\n",
       "        text-align: right;\n",
       "    }\n",
       "</style>\n",
       "<table border=\"1\" class=\"dataframe\">\n",
       "  <thead>\n",
       "    <tr style=\"text-align: right;\">\n",
       "      <th></th>\n",
       "      <th>date</th>\n",
       "      <th>value</th>\n",
       "    </tr>\n",
       "  </thead>\n",
       "  <tbody>\n",
       "    <tr>\n",
       "      <th>0</th>\n",
       "      <td>2001-09-01</td>\n",
       "      <td>1.0</td>\n",
       "    </tr>\n",
       "    <tr>\n",
       "      <th>1</th>\n",
       "      <td>2001-09-02</td>\n",
       "      <td>2.0</td>\n",
       "    </tr>\n",
       "    <tr>\n",
       "      <th>2</th>\n",
       "      <td>2001-10-01</td>\n",
       "      <td>0.0</td>\n",
       "    </tr>\n",
       "    <tr>\n",
       "      <th>3</th>\n",
       "      <td>2001-10-03</td>\n",
       "      <td>0.0</td>\n",
       "    </tr>\n",
       "    <tr>\n",
       "      <th>4</th>\n",
       "      <td>2001-09-03</td>\n",
       "      <td>1.5</td>\n",
       "    </tr>\n",
       "  </tbody>\n",
       "</table>\n",
       "</div>"
      ],
      "text/plain": [
       "        date  value\n",
       "0 2001-09-01    1.0\n",
       "1 2001-09-02    2.0\n",
       "2 2001-10-01    0.0\n",
       "3 2001-10-03    0.0\n",
       "4 2001-09-03    1.5"
      ]
     },
     "execution_count": 35,
     "metadata": {},
     "output_type": "execute_result"
    }
   ],
   "source": [
    "df"
   ]
  },
  {
   "cell_type": "markdown",
   "metadata": {},
   "source": [
    "#7. https://python-forum.io/Thread-Object-attribute"
   ]
  },
  {
   "cell_type": "code",
   "execution_count": 5,
   "metadata": {},
   "outputs": [],
   "source": [
    "def getattr(name):\n",
    "    print(\"I am ok!\", name)\n",
    "\n",
    "import math\n",
    "math.__getattr__ = getattr"
   ]
  },
  {
   "cell_type": "code",
   "execution_count": 6,
   "metadata": {},
   "outputs": [
    {
     "name": "stdout",
     "output_type": "stream",
     "text": [
      "I am ok! test\n"
     ]
    }
   ],
   "source": [
    "math.test"
   ]
  },
  {
   "cell_type": "markdown",
   "metadata": {},
   "source": [
    "#8. https://python-forum.io/Thread-How-can-I-program-this-algorithm-with-Python"
   ]
  },
  {
   "cell_type": "markdown",
   "metadata": {},
   "source": [
    "This is immunology model that is likely about HIV dynamics. Not sure, but may be about \n",
    "\n",
    "It includes a lot of parameters and requires punctuality to be implemented properly."
   ]
  },
  {
   "cell_type": "code",
   "execution_count": 2,
   "metadata": {},
   "outputs": [
    {
     "ename": "SyntaxError",
     "evalue": "invalid syntax (<ipython-input-2-1ddf884c0786>, line 14)",
     "output_type": "error",
     "traceback": [
      "\u001b[0;36m  File \u001b[0;32m\"<ipython-input-2-1ddf884c0786>\"\u001b[0;36m, line \u001b[0;32m14\u001b[0m\n\u001b[0;31m    **defaults)\u001b[0m\n\u001b[0m               ^\u001b[0m\n\u001b[0;31mSyntaxError\u001b[0m\u001b[0;31m:\u001b[0m invalid syntax\n"
     ]
    }
   ],
   "source": [
    "defaults = {'s': 10,\n",
    "            'd': 0.02,\n",
    "            'beta': 2.4e-5,\n",
    "           # define other values here\n",
    "            \n",
    "            'h': 0.01 # h is time-step? you need to define it here. are we planning to use variable-step method? \n",
    "           }\n",
    "\n",
    "initial_conditions = {'x0': 0,\n",
    "                     # other conditions\n",
    "                     }\n",
    "\n",
    "def equation(x, y, vi, vni,\n",
    "             **defaults)\n",
    "    i = 0\n",
    "    X, Y = [], []\n",
    "    xi = initial_conditions['x0']\n",
    "    yi = initial_conditions['y0']\n",
    "    while i < n:\n",
    "        xi_1 =  (xi + h*(s+r*yi))/(1 + h* ...) # complete the formula\n",
    "        # write other formulae here\n",
    "        \n",
    "        \n",
    "        # reassign values\n",
    "        xi = xi_1\n",
    "        yi = yi_1\n",
    "        \n",
    "        # save values\n",
    "        X.append(xi_1)\n",
    "        Y.append(yi_1)\n",
    "        i += 1"
   ]
  },
  {
   "cell_type": "markdown",
   "metadata": {},
   "source": [
    "#9. https://python-forum.io/Thread-how-to-do-a-numeric-sort"
   ]
  },
  {
   "cell_type": "code",
   "execution_count": 8,
   "metadata": {},
   "outputs": [
    {
     "data": {
      "text/plain": [
       "['3.1.1', '3.1.3', '3.1.9', '3.1.10', '3.2.1']"
      ]
     },
     "execution_count": 8,
     "metadata": {},
     "output_type": "execute_result"
    }
   ],
   "source": [
    "def key(x):\n",
    "    vals = map(int, x.split('.'))\n",
    "    vv = [1000, 50, 1]\n",
    "    return sum(x*y for x, y in zip(vv, vals))\n",
    "\n",
    "sorted(['3.1.3', '3.1.1', '3.1.9', '3.2.1', '3.1.10'], key=key)"
   ]
  },
  {
   "cell_type": "markdown",
   "metadata": {},
   "source": [
    "10. https://python-forum.io/Thread-line-partially-hidden?"
   ]
  },
  {
   "cell_type": "code",
   "execution_count": 2,
   "metadata": {},
   "outputs": [],
   "source": [
    "%matplotlib qt"
   ]
  },
  {
   "cell_type": "code",
   "execution_count": 7,
   "metadata": {},
   "outputs": [],
   "source": [
    "import matplotlib.pyplot as plt\n",
    "import matplotlib.tri as tri\n",
    "import numpy as np\n",
    "from mpl_toolkits.mplot3d import Axes3D\n",
    "\n",
    "n = 50.;\n",
    "elevation = 30; # vertical\n",
    "#azimut = 90.; # theta\n",
    "azimut = 45.; # theta\n",
    " \n",
    "x = np.arange(-2, 2, 4./n);\n",
    "y = np.arange(-1, 3, 4./n);\n",
    "x, y = np.meshgrid(x, y);\n",
    "z = x**2 - y**2;\n",
    " \n",
    "fig = plt.figure(figsize=(16, 9));\n",
    "ax = fig.add_subplot(111,projection='3d');\n",
    "#ax.set_aspect('auto');\n",
    " \n",
    " \n",
    "# line: 2 points coordinates\n",
    "xl,yl,zl = [0. , 0.],[4. , -1.],[8. , 8.];\n",
    " \n",
    " \n",
    "ax.set_title(r\"Saddle surface\" + \"\\n\",fontsize=20, fontweight='bold'); \n",
    "ax.set_xlabel(r\"$X_{axis}$\");\n",
    "ax.set_ylabel(r\"$Y_{axis}$\");\n",
    "ax.set_zlabel(r\"$Z_{axis}$\");\n",
    "ax.plot_wireframe(x, y, z, color='black');\n",
    "ax.plot_surface(x, y, z, rstride=1, cstride=1, linewidth=0.3, antialiased=True, edgecolor='black'); # surface plot\n",
    "ax.plot(xl, yl, zl, marker='o', color = 'r', linewidth=1.5, markersize=2, zorder=10); # line plot\n",
    "ax.view_init(elevation, azimut)\n",
    "plt.savefig('saddle.png',dpi=200);"
   ]
  },
  {
   "cell_type": "code",
   "execution_count": null,
   "metadata": {},
   "outputs": [],
   "source": []
  }
 ],
 "metadata": {
  "kernelspec": {
   "display_name": "Python 3",
   "language": "python",
   "name": "python3"
  },
  "language_info": {
   "codemirror_mode": {
    "name": "ipython",
    "version": 3
   },
   "file_extension": ".py",
   "mimetype": "text/x-python",
   "name": "python",
   "nbconvert_exporter": "python",
   "pygments_lexer": "ipython3",
   "version": "3.7.1"
  }
 },
 "nbformat": 4,
 "nbformat_minor": 2
}
