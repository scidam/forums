{
 "cells": [
  {
   "cell_type": "markdown",
   "metadata": {},
   "source": [
    "#1. https://python-forum.io/Thread-lambda-or-operator"
   ]
  },
  {
   "cell_type": "code",
   "execution_count": 12,
   "metadata": {},
   "outputs": [],
   "source": [
    "from operator import methodcaller"
   ]
  },
  {
   "cell_type": "code",
   "execution_count": 13,
   "metadata": {},
   "outputs": [],
   "source": [
    "def ask_valid1(x, conversion=lambda choice: choice.lower()):\n",
    "    return conversion(x)"
   ]
  },
  {
   "cell_type": "code",
   "execution_count": 14,
   "metadata": {},
   "outputs": [],
   "source": [
    "def ask_valid2(x, conversion=methodcaller('lower')):\n",
    "    return conversion(x)"
   ]
  },
  {
   "cell_type": "code",
   "execution_count": 15,
   "metadata": {},
   "outputs": [],
   "source": [
    "def ask_valid3(x, conversion=str.lower):\n",
    "    return conversion(x)"
   ]
  },
  {
   "cell_type": "code",
   "execution_count": 16,
   "metadata": {},
   "outputs": [
    {
     "name": "stdout",
     "output_type": "stream",
     "text": [
      "335 ns ± 2.85 ns per loop (mean ± std. dev. of 7 runs, 1000000 loops each)\n"
     ]
    }
   ],
   "source": [
    "%timeit ask_valid1('Name')"
   ]
  },
  {
   "cell_type": "code",
   "execution_count": 17,
   "metadata": {},
   "outputs": [
    {
     "name": "stdout",
     "output_type": "stream",
     "text": [
      "353 ns ± 6.49 ns per loop (mean ± std. dev. of 7 runs, 1000000 loops each)\n"
     ]
    }
   ],
   "source": [
    "%timeit ask_valid2('Name')"
   ]
  },
  {
   "cell_type": "code",
   "execution_count": 18,
   "metadata": {},
   "outputs": [
    {
     "name": "stdout",
     "output_type": "stream",
     "text": [
      "312 ns ± 18.1 ns per loop (mean ± std. dev. of 7 runs, 1000000 loops each)\n"
     ]
    }
   ],
   "source": [
    "%timeit ask_valid3('Name')"
   ]
  },
  {
   "cell_type": "markdown",
   "metadata": {},
   "source": [
    "I found some thoughts about this [here](https://treyhunner.com/2018/09/stop-writing-lambda-expressions/).\n",
    "\n",
    "In my opinion, the third version (`str.lower`) looks more pythonic. \n",
    "\n",
    "`methodcaller`\n",
    "If you look at the operator module sources, you find that `methodcaller` is a light-weight class. In any case, \n",
    "using it,  you implicitly include additional code to be executed. This, in turn, can slightly increase the time of execution. \n",
    "\n",
    "`str.lower` vs `lambda x: x.lower()`\n",
    "Using `lambda` keyword is redundant in this case, `str.lower` is shorter. \n",
    "\n",
    "Lets look at benchmarks: \n",
    "\n",
    "\n",
    "Finally, if you have several methods, \n",
    "where the `conversion` argument should have default value (a function), \n",
    "I would suggest to define something like `_default_conversion` function, e.g. "
   ]
  },
  {
   "cell_type": "code",
   "execution_count": 19,
   "metadata": {},
   "outputs": [],
   "source": [
    "def _default_conversion(x):\n",
    "    # manage all methods \n",
    "    # that include conversion function in one place.\n",
    "    # Might be also useful when debugging.\n",
    "    return x.lower()\n",
    "\n",
    "#OR \n",
    "\n",
    "_default_conversion = str.lower\n",
    "    \n",
    "class A:\n",
    "\n",
    "    def ask_valid(self, *args, conversion=_default_conversion):\n",
    "        pass\n",
    "\n",
    "    def ask_invalid(self, *args, conversion=_default_conversion):\n",
    "        pass"
   ]
  },
  {
   "cell_type": "markdown",
   "metadata": {},
   "source": [
    "#2. https://python-forum.io/Thread-proper-syntax-for-itertuples"
   ]
  },
  {
   "cell_type": "markdown",
   "metadata": {},
   "source": [
    "You don't need to use loops for this task at all. \n",
    "\n",
    "Something like this: \n",
    "\n",
    "df.loc[df.loc[:, 'Close'] > df.loc[:, 'prev'], 'trade2'] = '+'\n",
    "df.loc[df.loc[:, 'Close'] < df.loc[:, 'prev'], 'trade2'] = '-'\n",
    "df.loc[df.loc[:, 'Close'] == df.loc[:, 'prev'], 'trade2'] = df.loc[((df.loc[:, 'trade2'] =='+')|df.loc[:, 'trade2'] == '-').last_valid_index()]['trade2']\n",
    "\n",
    "should work. \n",
    "\n"
   ]
  },
  {
   "cell_type": "markdown",
   "metadata": {},
   "source": [
    "#3. https://python-forum.io/Thread-Simple-String-to-Time-within-a-pandas-dataframe"
   ]
  },
  {
   "cell_type": "code",
   "execution_count": 1,
   "metadata": {},
   "outputs": [],
   "source": [
    "import pandas as pd"
   ]
  },
  {
   "cell_type": "code",
   "execution_count": 3,
   "metadata": {},
   "outputs": [],
   "source": [
    "df = pd.DataFrame({'atime': ['13-06-2019 10:00', '12-06-2019 09:15'], 'x': [1,2]})"
   ]
  },
  {
   "cell_type": "code",
   "execution_count": 4,
   "metadata": {},
   "outputs": [
    {
     "name": "stdout",
     "output_type": "stream",
     "text": [
      "<class 'pandas.core.frame.DataFrame'>\n",
      "RangeIndex: 2 entries, 0 to 1\n",
      "Data columns (total 2 columns):\n",
      "atime    2 non-null object\n",
      "x        2 non-null int64\n",
      "dtypes: int64(1), object(1)\n",
      "memory usage: 112.0+ bytes\n"
     ]
    }
   ],
   "source": [
    "df.info()"
   ]
  },
  {
   "cell_type": "code",
   "execution_count": 9,
   "metadata": {},
   "outputs": [],
   "source": [
    "df.atime = pd.to_datetime(df.atime)"
   ]
  },
  {
   "cell_type": "code",
   "execution_count": 10,
   "metadata": {},
   "outputs": [
    {
     "data": {
      "text/html": [
       "<div>\n",
       "<style scoped>\n",
       "    .dataframe tbody tr th:only-of-type {\n",
       "        vertical-align: middle;\n",
       "    }\n",
       "\n",
       "    .dataframe tbody tr th {\n",
       "        vertical-align: top;\n",
       "    }\n",
       "\n",
       "    .dataframe thead th {\n",
       "        text-align: right;\n",
       "    }\n",
       "</style>\n",
       "<table border=\"1\" class=\"dataframe\">\n",
       "  <thead>\n",
       "    <tr style=\"text-align: right;\">\n",
       "      <th></th>\n",
       "      <th>atime</th>\n",
       "      <th>x</th>\n",
       "    </tr>\n",
       "  </thead>\n",
       "  <tbody>\n",
       "    <tr>\n",
       "      <th>0</th>\n",
       "      <td>2019-06-13 10:00:00</td>\n",
       "      <td>1</td>\n",
       "    </tr>\n",
       "    <tr>\n",
       "      <th>1</th>\n",
       "      <td>2019-12-06 09:15:00</td>\n",
       "      <td>2</td>\n",
       "    </tr>\n",
       "  </tbody>\n",
       "</table>\n",
       "</div>"
      ],
      "text/plain": [
       "                atime  x\n",
       "0 2019-06-13 10:00:00  1\n",
       "1 2019-12-06 09:15:00  2"
      ]
     },
     "execution_count": 10,
     "metadata": {},
     "output_type": "execute_result"
    }
   ],
   "source": [
    "df"
   ]
  },
  {
   "cell_type": "code",
   "execution_count": 11,
   "metadata": {},
   "outputs": [
    {
     "name": "stdout",
     "output_type": "stream",
     "text": [
      "<class 'pandas.core.frame.DataFrame'>\n",
      "RangeIndex: 2 entries, 0 to 1\n",
      "Data columns (total 2 columns):\n",
      "atime    2 non-null datetime64[ns]\n",
      "x        2 non-null int64\n",
      "dtypes: datetime64[ns](1), int64(1)\n",
      "memory usage: 112.0 bytes\n"
     ]
    }
   ],
   "source": [
    "df.info()"
   ]
  },
  {
   "cell_type": "markdown",
   "metadata": {},
   "source": [
    "#4. https://python-forum.io/Thread-How-to-vstack-matrixs-in-numpy-with-different-numbers-of-columns"
   ]
  },
  {
   "cell_type": "code",
   "execution_count": 22,
   "metadata": {},
   "outputs": [
    {
     "data": {
      "text/plain": [
       "array([['A1', 'B1', 'C1'],\n",
       "       ['A1', 'B1', 'C1'],\n",
       "       ['A2', 'B2', ''],\n",
       "       ['A2', 'B2', '']], dtype=object)"
      ]
     },
     "execution_count": 22,
     "metadata": {},
     "output_type": "execute_result"
    }
   ],
   "source": [
    "import numpy as np\n",
    "a = np.array([[\"A1\", \"B1\", \"C1\"], [\"A1\", \"B1\", \"C1\"]])\n",
    "b = np.array([[\"A2\", \"B2\"], [\"A2\", \"B2\"]])\n",
    "c = np.array([[\"A3\", \"B3\"], [\"A3\", \"B3\"]])\n",
    "a = pd.DataFrame(a, columns=None)\n",
    "b = pd.DataFrame(b, columns=None)\n",
    "pd.concat([a,b]).fillna('').values"
   ]
  },
  {
   "cell_type": "code",
   "execution_count": 23,
   "metadata": {},
   "outputs": [],
   "source": [
    "import pandas as pd"
   ]
  },
  {
   "cell_type": "code",
   "execution_count": 24,
   "metadata": {},
   "outputs": [],
   "source": [
    "a = pd.DataFrame(a, columns=None)\n",
    "b = pd.DataFrame(b, columns=None)"
   ]
  },
  {
   "cell_type": "code",
   "execution_count": 25,
   "metadata": {},
   "outputs": [
    {
     "data": {
      "text/html": [
       "<div>\n",
       "<style scoped>\n",
       "    .dataframe tbody tr th:only-of-type {\n",
       "        vertical-align: middle;\n",
       "    }\n",
       "\n",
       "    .dataframe tbody tr th {\n",
       "        vertical-align: top;\n",
       "    }\n",
       "\n",
       "    .dataframe thead th {\n",
       "        text-align: right;\n",
       "    }\n",
       "</style>\n",
       "<table border=\"1\" class=\"dataframe\">\n",
       "  <thead>\n",
       "    <tr style=\"text-align: right;\">\n",
       "      <th></th>\n",
       "      <th>0</th>\n",
       "      <th>1</th>\n",
       "    </tr>\n",
       "  </thead>\n",
       "  <tbody>\n",
       "    <tr>\n",
       "      <th>0</th>\n",
       "      <td>A2</td>\n",
       "      <td>B2</td>\n",
       "    </tr>\n",
       "    <tr>\n",
       "      <th>1</th>\n",
       "      <td>A2</td>\n",
       "      <td>B2</td>\n",
       "    </tr>\n",
       "  </tbody>\n",
       "</table>\n",
       "</div>"
      ],
      "text/plain": [
       "    0   1\n",
       "0  A2  B2\n",
       "1  A2  B2"
      ]
     },
     "execution_count": 25,
     "metadata": {},
     "output_type": "execute_result"
    }
   ],
   "source": [
    "b"
   ]
  },
  {
   "cell_type": "code",
   "execution_count": 26,
   "metadata": {},
   "outputs": [
    {
     "data": {
      "text/plain": [
       "array([['A1', 'B1', 'C1'],\n",
       "       ['A1', 'B1', 'C1'],\n",
       "       ['A2', 'B2', ''],\n",
       "       ['A2', 'B2', '']], dtype=object)"
      ]
     },
     "execution_count": 26,
     "metadata": {},
     "output_type": "execute_result"
    }
   ],
   "source": [
    "pd.concat([a,b]).fillna('').values"
   ]
  },
  {
   "cell_type": "markdown",
   "metadata": {},
   "source": []
  },
  {
   "cell_type": "markdown",
   "metadata": {},
   "source": [
    "#5. https://python-forum.io/Thread-Converting-str-to-binary"
   ]
  },
  {
   "cell_type": "code",
   "execution_count": 3,
   "metadata": {},
   "outputs": [
    {
     "data": {
      "text/plain": [
       "'0b11000100110010101100001011101011101110011011000110111000011011001001010'"
      ]
     },
     "execution_count": 3,
     "metadata": {},
     "output_type": "execute_result"
    }
   ],
   "source": [
    "mystring = 'My beautiful house'\n",
    "\n",
    "def word2bin(w):\n",
    "    return '0b' + ''.join('{0:08b}'.format(ord(x), 'b') for x in w)\n",
    "\n",
    "bin(sum(map(lambda x: int(x, 2), (word2bin(x) for x in mystring.split()))))"
   ]
  },
  {
   "cell_type": "markdown",
   "metadata": {},
   "source": [
    "#6. https://python-forum.io/Thread-How-to-re-arrange-DataFrame-columns"
   ]
  },
  {
   "cell_type": "code",
   "execution_count": 6,
   "metadata": {},
   "outputs": [],
   "source": [
    "import pandas as pd"
   ]
  },
  {
   "cell_type": "code",
   "execution_count": 7,
   "metadata": {},
   "outputs": [],
   "source": [
    "micolumns = pd.MultiIndex.from_tuples([('X', 'foo', '10'), ('X', 'bar', '10'),\n",
    "                                       ('Y', 'foo', '10'), ('Y', 'bar', '10')],\n",
    "                                      names=['l0', 'l1', 'l2'])"
   ]
  },
  {
   "cell_type": "code",
   "execution_count": 8,
   "metadata": {},
   "outputs": [
    {
     "data": {
      "text/plain": [
       "MultiIndex(levels=[['X', 'Y'], ['bar', 'foo'], ['10']],\n",
       "           labels=[[0, 0, 1, 1], [1, 0, 1, 0], [0, 0, 0, 0]],\n",
       "           names=['l0', 'l1', 'l2'])"
      ]
     },
     "execution_count": 8,
     "metadata": {},
     "output_type": "execute_result"
    }
   ],
   "source": [
    "micolumns"
   ]
  },
  {
   "cell_type": "code",
   "execution_count": 30,
   "metadata": {},
   "outputs": [],
   "source": [
    "arr = pd.DataFrame(pd.np.arange(12).reshape(3,4), columns=micolumns)"
   ]
  },
  {
   "cell_type": "code",
   "execution_count": 16,
   "metadata": {},
   "outputs": [
    {
     "data": {
      "text/html": [
       "<div>\n",
       "<style scoped>\n",
       "    .dataframe tbody tr th:only-of-type {\n",
       "        vertical-align: middle;\n",
       "    }\n",
       "\n",
       "    .dataframe tbody tr th {\n",
       "        vertical-align: top;\n",
       "    }\n",
       "\n",
       "    .dataframe thead tr th {\n",
       "        text-align: left;\n",
       "    }\n",
       "</style>\n",
       "<table border=\"1\" class=\"dataframe\">\n",
       "  <thead>\n",
       "    <tr>\n",
       "      <th>l0</th>\n",
       "      <th colspan=\"2\" halign=\"left\">X</th>\n",
       "      <th colspan=\"2\" halign=\"left\">Y</th>\n",
       "    </tr>\n",
       "    <tr>\n",
       "      <th>l1</th>\n",
       "      <th>foo</th>\n",
       "      <th>bar</th>\n",
       "      <th>foo</th>\n",
       "      <th>bar</th>\n",
       "    </tr>\n",
       "    <tr>\n",
       "      <th>l2</th>\n",
       "      <th>10</th>\n",
       "      <th>10</th>\n",
       "      <th>10</th>\n",
       "      <th>10</th>\n",
       "    </tr>\n",
       "  </thead>\n",
       "  <tbody>\n",
       "    <tr>\n",
       "      <th>0</th>\n",
       "      <td>0</td>\n",
       "      <td>1</td>\n",
       "      <td>2</td>\n",
       "      <td>3</td>\n",
       "    </tr>\n",
       "    <tr>\n",
       "      <th>1</th>\n",
       "      <td>4</td>\n",
       "      <td>5</td>\n",
       "      <td>6</td>\n",
       "      <td>7</td>\n",
       "    </tr>\n",
       "    <tr>\n",
       "      <th>2</th>\n",
       "      <td>8</td>\n",
       "      <td>9</td>\n",
       "      <td>10</td>\n",
       "      <td>11</td>\n",
       "    </tr>\n",
       "  </tbody>\n",
       "</table>\n",
       "</div>"
      ],
      "text/plain": [
       "l0   X       Y    \n",
       "l1 foo bar foo bar\n",
       "l2  10  10  10  10\n",
       "0    0   1   2   3\n",
       "1    4   5   6   7\n",
       "2    8   9  10  11"
      ]
     },
     "execution_count": 16,
     "metadata": {},
     "output_type": "execute_result"
    }
   ],
   "source": [
    "arr"
   ]
  },
  {
   "cell_type": "code",
   "execution_count": 17,
   "metadata": {},
   "outputs": [
    {
     "data": {
      "text/html": [
       "<div>\n",
       "<style scoped>\n",
       "    .dataframe tbody tr th:only-of-type {\n",
       "        vertical-align: middle;\n",
       "    }\n",
       "\n",
       "    .dataframe tbody tr th {\n",
       "        vertical-align: top;\n",
       "    }\n",
       "\n",
       "    .dataframe thead tr th {\n",
       "        text-align: left;\n",
       "    }\n",
       "</style>\n",
       "<table border=\"1\" class=\"dataframe\">\n",
       "  <thead>\n",
       "    <tr>\n",
       "      <th>l0</th>\n",
       "      <th>index</th>\n",
       "      <th colspan=\"2\" halign=\"left\">X</th>\n",
       "      <th colspan=\"2\" halign=\"left\">Y</th>\n",
       "    </tr>\n",
       "    <tr>\n",
       "      <th>l1</th>\n",
       "      <th></th>\n",
       "      <th>foo</th>\n",
       "      <th>bar</th>\n",
       "      <th>foo</th>\n",
       "      <th>bar</th>\n",
       "    </tr>\n",
       "    <tr>\n",
       "      <th>l2</th>\n",
       "      <th></th>\n",
       "      <th>10</th>\n",
       "      <th>10</th>\n",
       "      <th>10</th>\n",
       "      <th>10</th>\n",
       "    </tr>\n",
       "  </thead>\n",
       "  <tbody>\n",
       "    <tr>\n",
       "      <th>0</th>\n",
       "      <td>0</td>\n",
       "      <td>0</td>\n",
       "      <td>1</td>\n",
       "      <td>2</td>\n",
       "      <td>3</td>\n",
       "    </tr>\n",
       "    <tr>\n",
       "      <th>1</th>\n",
       "      <td>1</td>\n",
       "      <td>4</td>\n",
       "      <td>5</td>\n",
       "      <td>6</td>\n",
       "      <td>7</td>\n",
       "    </tr>\n",
       "    <tr>\n",
       "      <th>2</th>\n",
       "      <td>2</td>\n",
       "      <td>8</td>\n",
       "      <td>9</td>\n",
       "      <td>10</td>\n",
       "      <td>11</td>\n",
       "    </tr>\n",
       "  </tbody>\n",
       "</table>\n",
       "</div>"
      ],
      "text/plain": [
       "l0 index   X       Y    \n",
       "l1       foo bar foo bar\n",
       "l2        10  10  10  10\n",
       "0      0   0   1   2   3\n",
       "1      1   4   5   6   7\n",
       "2      2   8   9  10  11"
      ]
     },
     "execution_count": 17,
     "metadata": {},
     "output_type": "execute_result"
    }
   ],
   "source": [
    "arr.reset_index()"
   ]
  },
  {
   "cell_type": "code",
   "execution_count": 29,
   "metadata": {},
   "outputs": [
    {
     "data": {
      "text/html": [
       "<div>\n",
       "<style scoped>\n",
       "    .dataframe tbody tr th:only-of-type {\n",
       "        vertical-align: middle;\n",
       "    }\n",
       "\n",
       "    .dataframe tbody tr th {\n",
       "        vertical-align: top;\n",
       "    }\n",
       "\n",
       "    .dataframe thead th {\n",
       "        text-align: right;\n",
       "    }\n",
       "</style>\n",
       "<table border=\"1\" class=\"dataframe\">\n",
       "  <thead>\n",
       "    <tr style=\"text-align: right;\">\n",
       "      <th></th>\n",
       "      <th>l0</th>\n",
       "      <th>l1</th>\n",
       "      <th>l2</th>\n",
       "      <th>0</th>\n",
       "      <th>1</th>\n",
       "      <th>2</th>\n",
       "    </tr>\n",
       "  </thead>\n",
       "  <tbody>\n",
       "    <tr>\n",
       "      <th>0</th>\n",
       "      <td>X</td>\n",
       "      <td>foo</td>\n",
       "      <td>10</td>\n",
       "      <td>0</td>\n",
       "      <td>4</td>\n",
       "      <td>8</td>\n",
       "    </tr>\n",
       "    <tr>\n",
       "      <th>1</th>\n",
       "      <td>X</td>\n",
       "      <td>bar</td>\n",
       "      <td>10</td>\n",
       "      <td>1</td>\n",
       "      <td>5</td>\n",
       "      <td>9</td>\n",
       "    </tr>\n",
       "    <tr>\n",
       "      <th>2</th>\n",
       "      <td>Y</td>\n",
       "      <td>foo</td>\n",
       "      <td>10</td>\n",
       "      <td>2</td>\n",
       "      <td>6</td>\n",
       "      <td>10</td>\n",
       "    </tr>\n",
       "    <tr>\n",
       "      <th>3</th>\n",
       "      <td>Y</td>\n",
       "      <td>bar</td>\n",
       "      <td>10</td>\n",
       "      <td>3</td>\n",
       "      <td>7</td>\n",
       "      <td>11</td>\n",
       "    </tr>\n",
       "  </tbody>\n",
       "</table>\n",
       "</div>"
      ],
      "text/plain": [
       "  l0   l1  l2  0  1   2\n",
       "0  X  foo  10  0  4   8\n",
       "1  X  bar  10  1  5   9\n",
       "2  Y  foo  10  2  6  10\n",
       "3  Y  bar  10  3  7  11"
      ]
     },
     "execution_count": 29,
     "metadata": {},
     "output_type": "execute_result"
    }
   ],
   "source": [
    "arr.T.reset_index()"
   ]
  },
  {
   "cell_type": "markdown",
   "metadata": {},
   "source": [
    "#7. https://python-forum.io/Thread-Help-understanding-Bioinformatics-question"
   ]
  },
  {
   "cell_type": "markdown",
   "metadata": {},
   "source": [
    "You need to divide your problem into a set of small ones. Underlying math isn't quite hard: Jaccard coefficient (similarity) is a fraction of the measure of an intersection of two sets and the measure of a union of them. Jaccard distance seems to be (1 - Jaccard coefficient).\n",
    "\n",
    "So, you need to implement a function that traverse the specified directory and returns \n",
    "data loaded from two files. This function could be implemented as a generator. \n",
    "This generator will yield a new pair of data until all possible combinations\n",
    "be traversed (s(s-1)/2, where s is the number of files in the folder).  \n",
    "\n",
    "\n",
    "Below is a sketch of the solution; completely not tested but might be helpful...\n"
   ]
  },
  {
   "cell_type": "code",
   "execution_count": null,
   "metadata": {},
   "outputs": [],
   "source": [
    "def traverse_dir(path='.'):\n",
    "    # some code goes here, probably you'll need to use os.path.walk\n",
    "    yield df1, df2, filenames  # df1, df2 assumed to be pandas dataframes; each dataframe has two columns\n",
    "    \n",
    "   \n",
    "    \n",
    "def get_jaccard(df1, df2, n=3):\n",
    "    \"\"\"Return Jaccard distance between two dfs of specified form\n",
    "    \n",
    "    Parameters\n",
    "    ==========\n",
    "        \n",
    "        :param df1: Pandas data frame\n",
    "        :param df2: Pandas data frame\n",
    "        :param n: an integer, the number of most frequent ... to use\n",
    "    \n",
    "    \n",
    "    Notes\n",
    "    =====\n",
    "    \n",
    "    df1, df2 assumed to have the following form:\n",
    "    \n",
    "    df1 = pd.DataFrame({0: ['AACCTTGG', 'CCTTGGA'], 1:[4, 8]})\n",
    "    df2 = pd.DataFrame({0: ['AACCTTGG', 'CCTTGGA', 'ACC'], 1:[3, 4, 8]})\n",
    "    \n",
    "    Pandas assumed to be imported as pd.\n",
    "    \"\"\"\n",
    "    \n",
    "    d1 = df1.sort_values(by=1, ascending=False)[:n]\n",
    "    d2 = df1.sort_values(by=1, ascending=False)[:n]\n",
    "    common = pd.np.intersection1d(d1.iloc[:, 0].values, d2.iloc[:, 0].values)\n",
    "    a = d1[d1.iloc[:, 0].isin(common) & d2.iloc[:, 0].isin(common)].iloc[:, 1].values\n",
    "    b = d2[d1.iloc[:, 0].isin(common) & d2.iloc[:, 0].isin(common)].iloc[:, 1].values\n",
    "    comm_measure = pd.np.vstack([a,b]).min(axis=0).sum()\n",
    "    all_unique = ... # write something here... \n",
    "    \n",
    "    return  (1 - comm_measure / all_unique)\n",
    "\n",
    "\n",
    "requested_path = input('Enter path:')\n",
    "n = input('Enter n:')\n",
    "\n",
    "# and something like this... \n",
    "for a, b, filenames in traverse_dir(requested_path):\n",
    "    print(\"Processing files: {}, result={} \".format(filenames, get_jaccard(a, b, n=n)))\n"
   ]
  },
  {
   "cell_type": "code",
   "execution_count": 215,
   "metadata": {},
   "outputs": [],
   "source": [
    "import pandas as pd\n",
    "df1 = pd.DataFrame({0: ['AACCTTGG', 'CCTTGGA'], 1:[4, 8]})\n",
    "df2 = pd.DataFrame({0: ['AACCTTGG', 'CCTTGGA', 'ACC', 'AGT'], 1:[3, 4, 8, 8]})"
   ]
  },
  {
   "cell_type": "code",
   "execution_count": 265,
   "metadata": {},
   "outputs": [],
   "source": [
    "def get_jaccard(df1, df2, n=3):\n",
    "    \"\"\"Return Jaccard distance between two dfs of specified form\n",
    "    \n",
    "    Parameters\n",
    "    ==========\n",
    "        \n",
    "        :param df1: Pandas data frame\n",
    "        :param df2: Pandas data frame\n",
    "        :param n: an integer, the number of most frequent ... to use\n",
    "    \n",
    "    \n",
    "    Notes\n",
    "    =====\n",
    "    \n",
    "    df1, df2 assumed to have the following form:\n",
    "    \n",
    "    df1 = pd.DataFrame({0: ['AACCTTGG', 'CCTTGGA'], 1:[4, 8]})\n",
    "    df2 = pd.DataFrame({0: ['AACCTTGG', 'CCTTGGA', 'ACC', 'AGT'], 1:[3, 4, 8, 8]})\n",
    "    \n",
    "    Expected value for df1 and df2:\n",
    "        get_jaccard(df1, df2, n=3) should return:\n",
    "        1 - 4 / (8 + 8 + 8 + 4)\n",
    "    \n",
    "    Explanation\n",
    "    -----------\n",
    "       df2 3 most frequent features are ['CCTTGGA', 'ACC', 'AGT']\n",
    "       df1 3 most frequent features are ['AACCTTGG', 'CCTTGGA']\n",
    "       common features: [CCTTGGA]\n",
    "       \n",
    "       Jaccard = measure(intersection)/measure(union)\n",
    "       \n",
    "       Let \"measure = the number of fragments\"\n",
    "       Ok, 'CCTTGGA' count in df2 = 4, \n",
    "       'CCTTGGA' count in df1 = 8,\n",
    "       \n",
    "       Measure of intersection: min(4, 8) = 4\n",
    "       If we had several common fragmens, we would\n",
    "       computed their sum, e.g. min(a1, b1) + min(a2, b2) etc.\n",
    "       Here we have the only one: 'CCTTGGA';\n",
    "       \n",
    "       mes. of union: count of only df1 features + count of only df2 features +\n",
    "                      max(counts of common_features)\n",
    "       \n",
    "       # Note: we consider only 3 most frequent features!\n",
    "       count of only df1 features: 4\n",
    "       count of only df2 features: 8 (ACC) + 8 (AGT)\n",
    "       max(counts of common_features): max(4, 8)\n",
    "       \n",
    "       So, we got:\n",
    "         Jaccard similarity = 4 / (8 + 8 + 8 + 4)\n",
    "         \n",
    "         and, finally:\n",
    "         \n",
    "         Jaccard dist. = 1 - Jaccard similarity\n",
    "\n",
    "    Pandas assumed to be imported as pd.\n",
    "    \"\"\"\n",
    "    \n",
    "    d1 = df1.sort_values(by=1, ascending=False)[:n]\n",
    "    d2 = df2.sort_values(by=1, ascending=False)[:n]\n",
    "    common = pd.np.intersect1d(d1.iloc[:, 0].values, d2.iloc[:, 0].values)\n",
    "    d1_only_features = set(d1.iloc[:, 0].values) - set(common)\n",
    "    d2_only_features = set(d2.iloc[:, 0].values) - set(common)\n",
    "    a = d1.loc[d1.iloc[:, 0].isin(common) & d2.iloc[:, 0].isin(common)].iloc[:, 1].values\n",
    "    b = d2.loc[d1.iloc[:, 0].isin(common) & d2.iloc[:, 0].isin(common)].iloc[:, 1].values\n",
    "    comm_measure = pd.np.vstack([a,b]).min(axis=0).sum()\n",
    "    comm_measure_max = pd.np.vstack([a,b]).max(axis=0).sum()\n",
    "    d2_only_measure = d2.loc[d2.iloc[:, 0].isin(d2_only_features)].iloc[:, 1].sum()\n",
    "    d1_only_measure = d1.loc[d1.iloc[:, 0].isin(d1_only_features)].iloc[:, 1].sum()\n",
    "    total =  d1_only_measure + d1_only_measure +comm_measure_max\n",
    "    return  (1 - comm_measure / total)"
   ]
  },
  {
   "cell_type": "code",
   "execution_count": 266,
   "metadata": {},
   "outputs": [
    {
     "data": {
      "text/plain": [
       "0.8571428571428572"
      ]
     },
     "execution_count": 266,
     "metadata": {},
     "output_type": "execute_result"
    }
   ],
   "source": [
    "get_jaccard(df1, df2)"
   ]
  },
  {
   "cell_type": "markdown",
   "metadata": {},
   "source": [
    "#8. https://python-forum.io/Thread-pandas-convert-Int-to-str"
   ]
  },
  {
   "cell_type": "code",
   "execution_count": 31,
   "metadata": {},
   "outputs": [],
   "source": [
    "import pandas as pd"
   ]
  },
  {
   "cell_type": "code",
   "execution_count": 32,
   "metadata": {},
   "outputs": [],
   "source": [
    "df = pd.DataFrame({'x': [1,2,3,4,5]})"
   ]
  },
  {
   "cell_type": "code",
   "execution_count": 33,
   "metadata": {},
   "outputs": [
    {
     "ename": "AttributeError",
     "evalue": "Can only use .str accessor with string values, which use np.object_ dtype in pandas",
     "output_type": "error",
     "traceback": [
      "\u001b[0;31m---------------------------------------------------------------------------\u001b[0m",
      "\u001b[0;31mAttributeError\u001b[0m                            Traceback (most recent call last)",
      "\u001b[0;32m<ipython-input-33-d9df903c1bf5>\u001b[0m in \u001b[0;36m<module>\u001b[0;34m\u001b[0m\n\u001b[0;32m----> 1\u001b[0;31m \u001b[0mdf\u001b[0m\u001b[0;34m.\u001b[0m\u001b[0mx\u001b[0m\u001b[0;34m.\u001b[0m\u001b[0mstr\u001b[0m\u001b[0;34m\u001b[0m\u001b[0;34m\u001b[0m\u001b[0m\n\u001b[0m",
      "\u001b[0;32m~/anaconda3/lib/python3.7/site-packages/pandas/core/generic.py\u001b[0m in \u001b[0;36m__getattr__\u001b[0;34m(self, name)\u001b[0m\n\u001b[1;32m   4370\u001b[0m         if (name in self._internal_names_set or name in self._metadata or\n\u001b[1;32m   4371\u001b[0m                 name in self._accessors):\n\u001b[0;32m-> 4372\u001b[0;31m             \u001b[0;32mreturn\u001b[0m \u001b[0mobject\u001b[0m\u001b[0;34m.\u001b[0m\u001b[0m__getattribute__\u001b[0m\u001b[0;34m(\u001b[0m\u001b[0mself\u001b[0m\u001b[0;34m,\u001b[0m \u001b[0mname\u001b[0m\u001b[0;34m)\u001b[0m\u001b[0;34m\u001b[0m\u001b[0;34m\u001b[0m\u001b[0m\n\u001b[0m\u001b[1;32m   4373\u001b[0m         \u001b[0;32melse\u001b[0m\u001b[0;34m:\u001b[0m\u001b[0;34m\u001b[0m\u001b[0;34m\u001b[0m\u001b[0m\n\u001b[1;32m   4374\u001b[0m             \u001b[0;32mif\u001b[0m \u001b[0mself\u001b[0m\u001b[0;34m.\u001b[0m\u001b[0m_info_axis\u001b[0m\u001b[0;34m.\u001b[0m\u001b[0m_can_hold_identifiers_and_holds_name\u001b[0m\u001b[0;34m(\u001b[0m\u001b[0mname\u001b[0m\u001b[0;34m)\u001b[0m\u001b[0;34m:\u001b[0m\u001b[0;34m\u001b[0m\u001b[0;34m\u001b[0m\u001b[0m\n",
      "\u001b[0;32m~/anaconda3/lib/python3.7/site-packages/pandas/core/accessor.py\u001b[0m in \u001b[0;36m__get__\u001b[0;34m(self, obj, cls)\u001b[0m\n\u001b[1;32m    131\u001b[0m             \u001b[0;31m# we're accessing the attribute of the class, i.e., Dataset.geo\u001b[0m\u001b[0;34m\u001b[0m\u001b[0;34m\u001b[0m\u001b[0;34m\u001b[0m\u001b[0m\n\u001b[1;32m    132\u001b[0m             \u001b[0;32mreturn\u001b[0m \u001b[0mself\u001b[0m\u001b[0;34m.\u001b[0m\u001b[0m_accessor\u001b[0m\u001b[0;34m\u001b[0m\u001b[0;34m\u001b[0m\u001b[0m\n\u001b[0;32m--> 133\u001b[0;31m         \u001b[0maccessor_obj\u001b[0m \u001b[0;34m=\u001b[0m \u001b[0mself\u001b[0m\u001b[0;34m.\u001b[0m\u001b[0m_accessor\u001b[0m\u001b[0;34m(\u001b[0m\u001b[0mobj\u001b[0m\u001b[0;34m)\u001b[0m\u001b[0;34m\u001b[0m\u001b[0;34m\u001b[0m\u001b[0m\n\u001b[0m\u001b[1;32m    134\u001b[0m         \u001b[0;31m# Replace the property with the accessor object. Inspired by:\u001b[0m\u001b[0;34m\u001b[0m\u001b[0;34m\u001b[0m\u001b[0;34m\u001b[0m\u001b[0m\n\u001b[1;32m    135\u001b[0m         \u001b[0;31m# http://www.pydanny.com/cached-property.html\u001b[0m\u001b[0;34m\u001b[0m\u001b[0;34m\u001b[0m\u001b[0;34m\u001b[0m\u001b[0m\n",
      "\u001b[0;32m~/anaconda3/lib/python3.7/site-packages/pandas/core/strings.py\u001b[0m in \u001b[0;36m__init__\u001b[0;34m(self, data)\u001b[0m\n\u001b[1;32m   1893\u001b[0m \u001b[0;34m\u001b[0m\u001b[0m\n\u001b[1;32m   1894\u001b[0m     \u001b[0;32mdef\u001b[0m \u001b[0m__init__\u001b[0m\u001b[0;34m(\u001b[0m\u001b[0mself\u001b[0m\u001b[0;34m,\u001b[0m \u001b[0mdata\u001b[0m\u001b[0;34m)\u001b[0m\u001b[0;34m:\u001b[0m\u001b[0;34m\u001b[0m\u001b[0;34m\u001b[0m\u001b[0m\n\u001b[0;32m-> 1895\u001b[0;31m         \u001b[0mself\u001b[0m\u001b[0;34m.\u001b[0m\u001b[0m_validate\u001b[0m\u001b[0;34m(\u001b[0m\u001b[0mdata\u001b[0m\u001b[0;34m)\u001b[0m\u001b[0;34m\u001b[0m\u001b[0;34m\u001b[0m\u001b[0m\n\u001b[0m\u001b[1;32m   1896\u001b[0m         \u001b[0mself\u001b[0m\u001b[0;34m.\u001b[0m\u001b[0m_is_categorical\u001b[0m \u001b[0;34m=\u001b[0m \u001b[0mis_categorical_dtype\u001b[0m\u001b[0;34m(\u001b[0m\u001b[0mdata\u001b[0m\u001b[0;34m)\u001b[0m\u001b[0;34m\u001b[0m\u001b[0;34m\u001b[0m\u001b[0m\n\u001b[1;32m   1897\u001b[0m \u001b[0;34m\u001b[0m\u001b[0m\n",
      "\u001b[0;32m~/anaconda3/lib/python3.7/site-packages/pandas/core/strings.py\u001b[0m in \u001b[0;36m_validate\u001b[0;34m(data)\u001b[0m\n\u001b[1;32m   1915\u001b[0m             \u001b[0;31m# (instead of test for object dtype), but that isn't practical for\u001b[0m\u001b[0;34m\u001b[0m\u001b[0;34m\u001b[0m\u001b[0;34m\u001b[0m\u001b[0m\n\u001b[1;32m   1916\u001b[0m             \u001b[0;31m# performance reasons until we have a str dtype (GH 9343)\u001b[0m\u001b[0;34m\u001b[0m\u001b[0;34m\u001b[0m\u001b[0;34m\u001b[0m\u001b[0m\n\u001b[0;32m-> 1917\u001b[0;31m             raise AttributeError(\"Can only use .str accessor with string \"\n\u001b[0m\u001b[1;32m   1918\u001b[0m                                  \u001b[0;34m\"values, which use np.object_ dtype in \"\u001b[0m\u001b[0;34m\u001b[0m\u001b[0;34m\u001b[0m\u001b[0m\n\u001b[1;32m   1919\u001b[0m                                  \"pandas\")\n",
      "\u001b[0;31mAttributeError\u001b[0m: Can only use .str accessor with string values, which use np.object_ dtype in pandas"
     ]
    }
   ],
   "source": [
    "df.x.str"
   ]
  },
  {
   "cell_type": "code",
   "execution_count": 30,
   "metadata": {},
   "outputs": [
    {
     "data": {
      "text/plain": [
       "<pandas.core.strings.StringMethods at 0x7f6f716ee160>"
      ]
     },
     "execution_count": 30,
     "metadata": {},
     "output_type": "execute_result"
    }
   ],
   "source": [
    "df = pd.DataFrame({'x' : [1,2,3,4]})\n",
    "df.x = df.x.astype(str)\n",
    "df.x.str #  No errors!"
   ]
  },
  {
   "cell_type": "code",
   "execution_count": 1,
   "metadata": {},
   "outputs": [],
   "source": [
    "import pandas as pd\n",
    "df = pd.DataFrame({'x': ['02', '34', '02'], 'y':[1,2,3]})\n",
    "df[df.x.str.startswith('02')].y.sum()"
   ]
  },
  {
   "cell_type": "code",
   "execution_count": 5,
   "metadata": {},
   "outputs": [
    {
     "ename": "SyntaxError",
     "evalue": "invalid token (<ipython-input-5-a49b2b277d48>, line 1)",
     "output_type": "error",
     "traceback": [
      "\u001b[0;36m  File \u001b[0;32m\"<ipython-input-5-a49b2b277d48>\"\u001b[0;36m, line \u001b[0;32m1\u001b[0m\n\u001b[0;31m    df = pd.DataFrame({'x': [02, 34, 02], 'y':[1,2,3]})\u001b[0m\n\u001b[0m                              ^\u001b[0m\n\u001b[0;31mSyntaxError\u001b[0m\u001b[0;31m:\u001b[0m invalid token\n"
     ]
    }
   ],
   "source": [
    "df = pd.DataFrame({'x': [02, 34, 02], 'y':[1, 2, 3]})"
   ]
  },
  {
   "cell_type": "markdown",
   "metadata": {},
   "source": [
    "#9.  https://python-forum.io/Thread-How-to-use-the-excel-filename-as-a-value-to-populate-new-column-using-Pandas"
   ]
  },
  {
   "cell_type": "code",
   "execution_count": null,
   "metadata": {},
   "outputs": [],
   "source": [
    "import pandas as pd\n",
    "df = pd.DataFrame({'x': pd.np.arange(1,2,1)})\n",
    "df['y'] = 'filename'"
   ]
  },
  {
   "cell_type": "markdown",
   "metadata": {},
   "source": [
    "f your data frame is defined and prefilled, you can create a new column and fill it as follows df ['Date'] = 'desired value'. This automatically creates Date column in the data frame and fills it with desired value.\n",
    "\n",
    "If you want to incorporate data from all excel files into one data frame, your aglorithm might be the following:\n",
    "\n",
    "    Define an empty list, e.g., named acc (it will be used later).\n",
    "    Use os.path.walk or glob.glob to iterate over all files;\n",
    "    Load data from each file using pandas, e.g. pandas.read_csv, pandas.read_excel;\n",
    "    Once you iterating files, you know their names; Let filename is the current filename of a file being loaded into df; You can just do df['Dates'] = filename;\n",
    "    Append each df to acc list;\n",
    "    Use pd.concat to combine all dfs stored in acc into a new data frame.\n"
   ]
  },
  {
   "cell_type": "markdown",
   "metadata": {},
   "source": [
    "#10.https://python-forum.io/Thread-to-numpy-works-in-jupyter-notebook-but-not-in-python-script"
   ]
  },
  {
   "cell_type": "code",
   "execution_count": 1,
   "metadata": {},
   "outputs": [
    {
     "ename": "AttributeError",
     "evalue": "'DataFrame' object has no attribute 'to_numpy'",
     "output_type": "error",
     "traceback": [
      "\u001b[0;31m---------------------------------------------------------------------------\u001b[0m",
      "\u001b[0;31mAttributeError\u001b[0m                            Traceback (most recent call last)",
      "\u001b[0;32m<ipython-input-1-5f2112ff2701>\u001b[0m in \u001b[0;36m<module>\u001b[0;34m()\u001b[0m\n\u001b[1;32m      9\u001b[0m \u001b[0mdf_copy\u001b[0m\u001b[0;34m=\u001b[0m\u001b[0mdf\u001b[0m\u001b[0;34m.\u001b[0m\u001b[0mcopy\u001b[0m\u001b[0;34m(\u001b[0m\u001b[0;34m)\u001b[0m\u001b[0;34m\u001b[0m\u001b[0m\n\u001b[1;32m     10\u001b[0m \u001b[0;31m# assign, after converting to raw data\u001b[0m\u001b[0;34m\u001b[0m\u001b[0;34m\u001b[0m\u001b[0m\n\u001b[0;32m---> 11\u001b[0;31m \u001b[0mdf_copy\u001b[0m\u001b[0;34m.\u001b[0m\u001b[0mloc\u001b[0m\u001b[0;34m[\u001b[0m\u001b[0;34m:\u001b[0m \u001b[0;34m[\u001b[0m\u001b[0;34m'B'\u001b[0m\u001b[0;34m,\u001b[0m \u001b[0;34m'A'\u001b[0m\u001b[0;34m]\u001b[0m\u001b[0;34m]\u001b[0m\u001b[0;34m=\u001b[0m\u001b[0mdf_copy\u001b[0m\u001b[0;34m[\u001b[0m\u001b[0;34m[\u001b[0m\u001b[0;34m'A'\u001b[0m\u001b[0;34m,\u001b[0m\u001b[0;34m'B'\u001b[0m\u001b[0;34m]\u001b[0m\u001b[0;34m]\u001b[0m\u001b[0;34m.\u001b[0m\u001b[0mto_numpy\u001b[0m\u001b[0;34m(\u001b[0m\u001b[0;34m)\u001b[0m\u001b[0;34m\u001b[0m\u001b[0m\n\u001b[0m\u001b[1;32m     12\u001b[0m \u001b[0mprint\u001b[0m\u001b[0;34m(\u001b[0m\u001b[0mdf_copy\u001b[0m\u001b[0;34m)\u001b[0m\u001b[0;34m\u001b[0m\u001b[0m\n",
      "\u001b[0;32m~/.pyenv/versions/3.5.4/envs/sci/lib/python3.5/site-packages/pandas/core/generic.py\u001b[0m in \u001b[0;36m__getattr__\u001b[0;34m(self, name)\u001b[0m\n\u001b[1;32m   4374\u001b[0m             \u001b[0;32mif\u001b[0m \u001b[0mself\u001b[0m\u001b[0;34m.\u001b[0m\u001b[0m_info_axis\u001b[0m\u001b[0;34m.\u001b[0m\u001b[0m_can_hold_identifiers_and_holds_name\u001b[0m\u001b[0;34m(\u001b[0m\u001b[0mname\u001b[0m\u001b[0;34m)\u001b[0m\u001b[0;34m:\u001b[0m\u001b[0;34m\u001b[0m\u001b[0m\n\u001b[1;32m   4375\u001b[0m                 \u001b[0;32mreturn\u001b[0m \u001b[0mself\u001b[0m\u001b[0;34m[\u001b[0m\u001b[0mname\u001b[0m\u001b[0;34m]\u001b[0m\u001b[0;34m\u001b[0m\u001b[0m\n\u001b[0;32m-> 4376\u001b[0;31m             \u001b[0;32mreturn\u001b[0m \u001b[0mobject\u001b[0m\u001b[0;34m.\u001b[0m\u001b[0m__getattribute__\u001b[0m\u001b[0;34m(\u001b[0m\u001b[0mself\u001b[0m\u001b[0;34m,\u001b[0m \u001b[0mname\u001b[0m\u001b[0;34m)\u001b[0m\u001b[0;34m\u001b[0m\u001b[0m\n\u001b[0m\u001b[1;32m   4377\u001b[0m \u001b[0;34m\u001b[0m\u001b[0m\n\u001b[1;32m   4378\u001b[0m     \u001b[0;32mdef\u001b[0m \u001b[0m__setattr__\u001b[0m\u001b[0;34m(\u001b[0m\u001b[0mself\u001b[0m\u001b[0;34m,\u001b[0m \u001b[0mname\u001b[0m\u001b[0;34m,\u001b[0m \u001b[0mvalue\u001b[0m\u001b[0;34m)\u001b[0m\u001b[0;34m:\u001b[0m\u001b[0;34m\u001b[0m\u001b[0m\n",
      "\u001b[0;31mAttributeError\u001b[0m: 'DataFrame' object has no attribute 'to_numpy'"
     ]
    }
   ],
   "source": [
    "import pandas as pd\n",
    "import numpy as np\n",
    " \n",
    "# SWAPPING COLUMNS\n",
    " \n",
    "dates=pd.date_range('1/1/2019',periods=12)\n",
    "df=pd.DataFrame(np.random.randn(12,4),index=dates,columns=['A','B','C','D'])\n",
    " \n",
    "df_copy=df.copy()\n",
    "# assign, after converting to raw data\n",
    "df_copy.loc[: ['B', 'A']]=df_copy[['A','B']].to_numpy()\n",
    "print(df_copy)"
   ]
  },
  {
   "cell_type": "code",
   "execution_count": 5,
   "metadata": {},
   "outputs": [
    {
     "data": {
      "text/plain": [
       "array([[-0.61417772,  0.06380079,  1.15613779, -0.28688711],\n",
       "       [ 0.01909134, -0.66876421, -1.01488265, -0.21196262],\n",
       "       [ 0.57949582,  1.25926954,  0.40566515, -0.41108333],\n",
       "       [ 1.44020932, -0.56669488,  0.27853978,  1.37395866],\n",
       "       [-0.41777311,  3.33644774, -1.72722513, -1.07309577],\n",
       "       [ 0.03072395, -0.73953554,  1.82514596,  0.33596415],\n",
       "       [-0.96578259, -0.4898714 , -0.14279001, -0.81185085],\n",
       "       [-0.55274676,  0.87616439, -1.44815004, -0.08169525],\n",
       "       [ 1.25463458,  1.12969333,  2.10538213,  1.89016403],\n",
       "       [-0.0045278 ,  0.59043533, -0.44581276, -0.72068009],\n",
       "       [-0.32812966, -0.21815762,  1.1946445 ,  0.56836199],\n",
       "       [ 0.7632214 , -1.59373288,  0.96649909,  0.53527624]])"
      ]
     },
     "execution_count": 5,
     "metadata": {},
     "output_type": "execute_result"
    }
   ],
   "source": [
    "df.values"
   ]
  },
  {
   "cell_type": "code",
   "execution_count": 7,
   "metadata": {},
   "outputs": [
    {
     "data": {
      "text/plain": [
       "'0.23.4'"
      ]
     },
     "execution_count": 7,
     "metadata": {},
     "output_type": "execute_result"
    }
   ],
   "source": [
    "pd.__version__"
   ]
  },
  {
   "cell_type": "markdown",
   "metadata": {},
   "source": [
    "As it could be seen from Pandas official docs `.to_numpy` was added in v.0.24.0."
   ]
  },
  {
   "cell_type": "markdown",
   "metadata": {},
   "source": [
    "#11. https://python-forum.io/Thread-nltk-Relations-Extractor"
   ]
  },
  {
   "cell_type": "code",
   "execution_count": 139,
   "metadata": {},
   "outputs": [],
   "source": [
    "import nltk\n",
    "import re \n",
    "from nltk.chunk import ne_chunk_sents, ne_chunk\n",
    "from nltk.sem import relextract\n",
    "sent = \"China is really in Asia and not presented. Russia is in Asia. What is really happend here? Japan in Asia\"\n",
    "sent = nltk.pos_tag(sent.split())"
   ]
  },
  {
   "cell_type": "code",
   "execution_count": 141,
   "metadata": {},
   "outputs": [],
   "source": [
    "IN = re.compile(r'.*\\bin\\b(?!\\b.+ing)')"
   ]
  },
  {
   "cell_type": "code",
   "execution_count": 150,
   "metadata": {},
   "outputs": [
    {
     "data": {
      "text/plain": [
       "[defaultdict(str,\n",
       "             {'filler': 'is/VBZ really/RB in/IN',\n",
       "              'lcon': '',\n",
       "              'objclass': 'GPE',\n",
       "              'objsym': 'asia',\n",
       "              'objtext': 'Asia/NNP',\n",
       "              'rcon': 'and/CC not/RB presented./JJ',\n",
       "              'subjclass': 'GPE',\n",
       "              'subjsym': 'china',\n",
       "              'subjtext': 'China/NNP',\n",
       "              'untagged_filler': 'is really in'})]"
      ]
     },
     "execution_count": 150,
     "metadata": {},
     "output_type": "execute_result"
    }
   ],
   "source": [
    "nltk.sem.extract_rels('GPE','GPE',ne_chunk(sent),pattern=IN, window=5)"
   ]
  },
  {
   "cell_type": "code",
   "execution_count": 162,
   "metadata": {},
   "outputs": [],
   "source": [
    "for rel in  nltk.sem.relextract.extract_rels('GPE','GPE',list(ne_chunk_sents(sent)),corpus='ace',pattern=IN, window=5):\n",
    "   print(nltk.sem.relextract.rtuple(rel))"
   ]
  },
  {
   "cell_type": "markdown",
   "metadata": {},
   "source": [
    "#12. https://python-forum.io/Thread-floating-point-addition#message"
   ]
  },
  {
   "cell_type": "code",
   "execution_count": 20,
   "metadata": {},
   "outputs": [],
   "source": [
    "import sys"
   ]
  },
  {
   "cell_type": "code",
   "execution_count": null,
   "metadata": {},
   "outputs": [],
   "source": [
    "In general, `sys.float_info[-3]` is `epsilon` value for floating point numbers representation in memory. That means the next floating\n",
    "point number (correctly represented in memory for a given precision,e.g. double) greater 1.0 is 1.0 + epsilon. Roughly, for a given number `x`, \n",
    "the next floating point number would be `x+x*epsilon`.\n",
    "\n",
    "[quote=\"Skaperen\" pid=\"84758\" dateline=\"1561750450\"]i hope that == for comparing float to float always compares for exact equal.[/quote]\n",
    "That is not always true, e.g. `1.1 / 3.3 == 1.0 / 3.0` returns `False`, that is why numpy package has utility function `numpy.isclose` \n",
    "to compare floating point numbers."
   ]
  },
  {
   "cell_type": "markdown",
   "metadata": {},
   "source": [
    "#13. https://python-forum.io/Thread-Django-How-to-automatically-substitute-a-variable-in-the-admin-page-at-Django-1-11"
   ]
  },
  {
   "cell_type": "code",
   "execution_count": null,
   "metadata": {},
   "outputs": [],
   "source": [
    "from django.db import models\n",
    "\n",
    "class City(models.Model):\n",
    "    name = models.CharField(max_length=10, default='', blank=False)\n",
    "    area = models.FloatField(default=0.0, blank=True)\n",
    "    \n",
    "    def __str__(self):\n",
    "        return self.name\n",
    "\n",
    "class Person(models.Model):\n",
    "    first_name = models.CharField(max_length=10, default='', blank=False)\n",
    "    where_from = models.ForeingKey(City, null=True, blank=True, on_delete=models.CASCADE)\n",
    "  \n",
    "    def __str__(self):\n",
    "        return self.first_name \n",
    "\n",
    "# define other models here if needed   \n",
    "    \n",
    "    \n",
    "#admin.py\n",
    "#register all models as usual\n",
    "\n",
    "\n",
    "\n",
    "# views.py\n",
    "# Let you include Person instance (named instance) to current context and pass \n",
    "# this context to template rendering; So, you can get the city name\n",
    "# in your template, as follows: \n",
    "# ---- some template code\n",
    "# My name is {{ instance.name}}. I am from {{instance.where_from}}. I was born\n",
    "# in {{instance.where_from.name}}. (This is alternative way to get city's name,\n",
    "# we don't need to use it, once we've a __str__ method defined in City model)"
   ]
  }
 ],
 "metadata": {
  "kernelspec": {
   "display_name": "Python 3",
   "language": "python",
   "name": "python3"
  },
  "language_info": {
   "codemirror_mode": {
    "name": "ipython",
    "version": 3
   },
   "file_extension": ".py",
   "mimetype": "text/x-python",
   "name": "python",
   "nbconvert_exporter": "python",
   "pygments_lexer": "ipython3",
   "version": "3.7.1"
  }
 },
 "nbformat": 4,
 "nbformat_minor": 2
}
