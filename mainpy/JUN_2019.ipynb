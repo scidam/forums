{
 "cells": [
  {
   "cell_type": "markdown",
   "metadata": {},
   "source": [
    "#1. https://python-forum.io/Thread-lambda-or-operator"
   ]
  },
  {
   "cell_type": "code",
   "execution_count": 12,
   "metadata": {},
   "outputs": [],
   "source": [
    "from operator import methodcaller"
   ]
  },
  {
   "cell_type": "code",
   "execution_count": 13,
   "metadata": {},
   "outputs": [],
   "source": [
    "def ask_valid1(x, conversion=lambda choice: choice.lower()):\n",
    "    return conversion(x)"
   ]
  },
  {
   "cell_type": "code",
   "execution_count": 14,
   "metadata": {},
   "outputs": [],
   "source": [
    "def ask_valid2(x, conversion=methodcaller('lower')):\n",
    "    return conversion(x)"
   ]
  },
  {
   "cell_type": "code",
   "execution_count": 15,
   "metadata": {},
   "outputs": [],
   "source": [
    "def ask_valid3(x, conversion=str.lower):\n",
    "    return conversion(x)"
   ]
  },
  {
   "cell_type": "code",
   "execution_count": 16,
   "metadata": {},
   "outputs": [
    {
     "name": "stdout",
     "output_type": "stream",
     "text": [
      "335 ns ± 2.85 ns per loop (mean ± std. dev. of 7 runs, 1000000 loops each)\n"
     ]
    }
   ],
   "source": [
    "%timeit ask_valid1('Name')"
   ]
  },
  {
   "cell_type": "code",
   "execution_count": 17,
   "metadata": {},
   "outputs": [
    {
     "name": "stdout",
     "output_type": "stream",
     "text": [
      "353 ns ± 6.49 ns per loop (mean ± std. dev. of 7 runs, 1000000 loops each)\n"
     ]
    }
   ],
   "source": [
    "%timeit ask_valid2('Name')"
   ]
  },
  {
   "cell_type": "code",
   "execution_count": 18,
   "metadata": {},
   "outputs": [
    {
     "name": "stdout",
     "output_type": "stream",
     "text": [
      "312 ns ± 18.1 ns per loop (mean ± std. dev. of 7 runs, 1000000 loops each)\n"
     ]
    }
   ],
   "source": [
    "%timeit ask_valid3('Name')"
   ]
  },
  {
   "cell_type": "markdown",
   "metadata": {},
   "source": [
    "I found some thoughts about this [here](https://treyhunner.com/2018/09/stop-writing-lambda-expressions/).\n",
    "\n",
    "In my opinion, the third version (`str.lower`) looks more pythonic. \n",
    "\n",
    "`methodcaller`\n",
    "If you look at the operator module sources, you find that `methodcaller` is a light-weight class. In any case, \n",
    "using it,  you implicitly include additional code to be executed. This, in turn, can slightly increase the time of execution. \n",
    "\n",
    "`str.lower` vs `lambda x: x.lower()`\n",
    "Using `lambda` keyword is redundant in this case, `str.lower` is shorter. \n",
    "\n",
    "Lets look at benchmarks: \n",
    "\n",
    "\n",
    "Finally, if you have several methods, \n",
    "where the `conversion` argument should have default value (a function), \n",
    "I would suggest to define something like `_default_conversion` function, e.g. "
   ]
  },
  {
   "cell_type": "code",
   "execution_count": 19,
   "metadata": {},
   "outputs": [],
   "source": [
    "def _default_conversion(x):\n",
    "    # manage all methods \n",
    "    # that include conversion function in one place.\n",
    "    # Might be also useful when debugging.\n",
    "    return x.lower()\n",
    "\n",
    "#OR \n",
    "\n",
    "_default_conversion = str.lower\n",
    "    \n",
    "class A:\n",
    "\n",
    "    def ask_valid(self, *args, conversion=_default_conversion):\n",
    "        pass\n",
    "\n",
    "    def ask_invalid(self, *args, conversion=_default_conversion):\n",
    "        pass"
   ]
  },
  {
   "cell_type": "markdown",
   "metadata": {},
   "source": [
    "#2. https://python-forum.io/Thread-proper-syntax-for-itertuples"
   ]
  },
  {
   "cell_type": "markdown",
   "metadata": {},
   "source": [
    "You don't need to use loops for this task at all. \n",
    "\n",
    "Something like this: \n",
    "\n",
    "df.loc[df.loc[:, 'Close'] > df.loc[:, 'prev'], 'trade2'] = '+'\n",
    "df.loc[df.loc[:, 'Close'] < df.loc[:, 'prev'], 'trade2'] = '-'\n",
    "df.loc[df.loc[:, 'Close'] == df.loc[:, 'prev'], 'trade2'] = df.loc[((df.loc[:, 'trade2'] =='+')|df.loc[:, 'trade2'] == '-').last_valid_index()]['trade2']\n",
    "\n",
    "should work. \n",
    "\n"
   ]
  }
 ],
 "metadata": {
  "kernelspec": {
   "display_name": "Python 3",
   "language": "python",
   "name": "python3"
  },
  "language_info": {
   "codemirror_mode": {
    "name": "ipython",
    "version": 3
   },
   "file_extension": ".py",
   "mimetype": "text/x-python",
   "name": "python",
   "nbconvert_exporter": "python",
   "pygments_lexer": "ipython3",
   "version": "3.5.4"
  }
 },
 "nbformat": 4,
 "nbformat_minor": 2
}
