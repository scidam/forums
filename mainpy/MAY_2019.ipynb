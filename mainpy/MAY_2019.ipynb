{
 "cells": [
  {
   "cell_type": "markdown",
   "metadata": {},
   "source": [
    "#1. https://python-forum.io/Thread-Extract-of-matrix-subpart-using-a-deep-copy"
   ]
  },
  {
   "cell_type": "code",
   "execution_count": null,
   "metadata": {},
   "outputs": [],
   "source": [
    "import numpy as np\n",
    " \n",
    "A = np.random.randint(10, size = (100,10), dtype = np.int);\n",
    "index = np.where(A[:,0] == 1);\n",
    "print(np.array(index).shape)\n",
    "Extract_trial1 = np.copy(A[index,:]); del index;\n",
    "Extract_trial2 = np.copy(A);\n",
    "index = np.where(A[:,0] != 1);\n",
    "print(index)\n",
    "Extract_trial2 = np.delete(Extract_trial2,index,axis=0);"
   ]
  },
  {
   "cell_type": "markdown",
   "metadata": {},
   "source": [
    "In case of `Extract_trial1`, when you invoke `A[index, :]` it triggers advanced indexing of Numpy.\n",
    "You can read about advanced indexing [here](https://docs.scipy.org/doc/numpy/reference/arrays.indexing.html).\n",
    "Adv. indexing always returns a copy of the data, so using `np.copy` is redundant here. Anvanced indexing\n",
    "is triggered because you pass an array of integers to `A[...]`. \n",
    "\n",
    "From official docs:\n",
    "\n",
    "Advanced indexing is triggered when the selection object, obj, is a non-tuple sequence object, an ndarray (of data type integer or bool), or a tuple with at least one sequence object or ndarray (of data type integer or bool).\n",
    "\n",
    "You can inspect this by printing shape of the index variable (it is randomly chanched between runs):\n",
    "\n",
    "index = np.where(A[:,0] == 1)\n",
    "print(np.array(index).shape)\n",
    "\n",
    "Lets look at the advanced indexing broadcasting formula:\n",
    "\n",
    "result[i_1, ..., i_M] == x[ind_1[i_1, ..., i_M], ind_2[i_1, ..., i_M], ..., ind_N[i_1, ..., i_M]]\n",
    "\n",
    "`ind_1` is your index variable, (`ind_2` = ':' in your case, that is simple indexing); `ind_1` has shape `(1, small random integer)`, so result shape will be `(1, small_random_integer, 10)`. This is what you have regarding `Extract_trial1`.\n",
    "\n",
    "You can try the following examples:\n",
    "\n",
    " A[[1,2,3], :] => shape = (3, 10)\n",
    " A[[[1,2,3],], :] => shape (1, 3, 10)\n",
    " A[[[[1,2,3],]], :] => shape (1, 1, 3, 10)\n",
    "\n",
    "To fix this behavior you need to pass `1d` array of indices to `A[...]`, i.e. `A[index[0], :]`."
   ]
  },
  {
   "cell_type": "markdown",
   "metadata": {},
   "source": [
    "#2. https://python-forum.io/Thread-multi-dimm-array-dynamic"
   ]
  },
  {
   "cell_type": "code",
   "execution_count": null,
   "metadata": {},
   "outputs": [],
   "source": [
    "howmany = 6\n",
    "rulenumber = 0\n",
    "my_2d_list = [[]]\n",
    " \n",
    "for rulenumber in range(1, howmany * howmany + 1):\n",
    "    print(rulenumber)\n",
    "    if (rulenumber % 2 == 0):\n",
    "        my_2d_list[-1].append('even')\n",
    "    else:\n",
    "        my_2d_list[-1].append('odd')\n",
    "    if (rulenumber % 3 == 0):\n",
    "        my_2d_list[-1].append('div by 3')\n",
    "    else:\n",
    "        my_2d_list[-1].append('not by 3')\n",
    "    my_2d_list.append(list())"
   ]
  },
  {
   "cell_type": "markdown",
   "metadata": {},
   "source": [
    "#3. https://python-forum.io/Thread-graphing-euler-method"
   ]
  },
  {
   "cell_type": "code",
   "execution_count": null,
   "metadata": {},
   "outputs": [],
   "source": [
    "%matplotlib qt"
   ]
  },
  {
   "cell_type": "code",
   "execution_count": null,
   "metadata": {},
   "outputs": [],
   "source": [
    "import numpy as np\n",
    "import matplotlib.pylab as plt\n",
    "\n",
    "def volterra(P, K=1, r=1):\n",
    "    return r * P * (1 - P / K)\n",
    "\n",
    "def euler(fun, Po, h, N, **kwargs):\n",
    "    acc = [Po]\n",
    "    times = np.cumsum(np.r_[0, np.ones(N) * h])\n",
    "    for _ in range(N):\n",
    "        acc.append(acc[-1] + h * fun(acc[-1], K=K, r=r))  # for autonomous system's only\n",
    "    return np.array(acc), times\n",
    "\n",
    "K = 12\n",
    "r = 0.43\n",
    "Po = 1\n",
    "N = 30;\n",
    "step_values = [1, 0.5, 0.1]\n",
    "fig = plt.figure()\n",
    "ax = fig.add_subplot(111)\n",
    "for h, c in zip(step_values, 'rgb'):\n",
    "    Ps, Ts = euler(volterra, Po, h, N, K=K, r=r)\n",
    "    ax.plot(Ts, Ps, c)\n",
    "\n",
    "plt.show( )   \n"
   ]
  },
  {
   "cell_type": "markdown",
   "metadata": {},
   "source": [
    "#4. https://python-forum.io/Thread-How-to-graphically-represent-this-function"
   ]
  },
  {
   "cell_type": "code",
   "execution_count": null,
   "metadata": {},
   "outputs": [],
   "source": [
    "from math import exp, log, sqrt\n",
    "from scipy.stats import norm\n",
    "import matplotlib.pyplot as plt\n",
    "plt.style.use('ggplot')\n",
    "plt.rcParams['xtick.labelsize'] = 14\n",
    "plt.rcParams['ytick.labelsize'] = 14\n",
    "plt.rcParams['figure.titlesize'] = 18\n",
    "plt.rcParams['figure.titleweight'] = 'medium'\n",
    "plt.rcParams['lines.linewidth'] = 2.5\n",
    " \n",
    "def CON_call_price(spot,strike,tau,sigma,r,q,phi,x):\n",
    "    d1 = (log(spot/strike)+(r-q+0.5*sigma**2)*tau)/(sigma*sqrt(tau))\n",
    "    d2 = (d1-sigma*sqrt(tau))\n",
    "     \n",
    "    y = x*exp(-r*tau)*norm.cdf(d2)\n",
    "     \n",
    "    return y\n",
    " \n",
    "    P = list(map(lambda x:  x if spot > strike else 0))\n",
    "    return P\n",
    " \n",
    "S = [t/5 for t in range(0,1000)] \n",
    " \n",
    "fig, ax = plt.subplots(nrows=1, ncols=1, sharex=True, sharey=True, figsize = (20,15))\n",
    "fig.suptitle('Payoff Function for CON CALL', fontsize=20, fontweight='bold')\n",
    " \n",
    "bc_P = [CON_call_price(120,100, 1, 0.25, 0.2, 0.03, 1, s) for s in S]\n",
    "plt.subplot(222)\n",
    "plt.plot(S, bc_P, 'b')\n",
    "plt.legend([\"Binary Call\"])\n",
    " \n",
    "plt.show()"
   ]
  },
  {
   "cell_type": "markdown",
   "metadata": {},
   "source": [
    "#5. https://python-forum.io/Thread-Pandas-fillna-based-on-conditions"
   ]
  },
  {
   "cell_type": "code",
   "execution_count": null,
   "metadata": {},
   "outputs": [],
   "source": [
    "import pandas as pd\n",
    "import numpy as np\n",
    " \n",
    "data = [['Rabbit', 2, 2],\n",
    "    ['Dog', 5, 5.5],\n",
    "    ['Dog', 3, 2.8],\n",
    "    ['Cat', np.nan, np.nan],\n",
    "    ['Cat', np.nan, np.nan],]\n",
    " \n",
    "df = pd.DataFrame(columns=[\"Type\", \"Weight_April\", \"Weight_May\"], data=data)"
   ]
  },
  {
   "cell_type": "code",
   "execution_count": null,
   "metadata": {},
   "outputs": [],
   "source": [
    "df.loc[df.Type=='Cat', [\"Weight_April\", \"Weight_May\"]] = df.loc[df.Type == 'Dog', [\"Weight_April\", \"Weight_May\"]].values"
   ]
  },
  {
   "cell_type": "code",
   "execution_count": null,
   "metadata": {},
   "outputs": [],
   "source": [
    "df.fillna(df.mean(), inplace=True)"
   ]
  },
  {
   "cell_type": "code",
   "execution_count": null,
   "metadata": {},
   "outputs": [],
   "source": [
    "def read_names():\n",
    "    for name in [1,2,3]:\n",
    "        yield name"
   ]
  },
  {
   "cell_type": "code",
   "execution_count": null,
   "metadata": {},
   "outputs": [],
   "source": [
    "names = read_names()"
   ]
  },
  {
   "cell_type": "code",
   "execution_count": null,
   "metadata": {},
   "outputs": [],
   "source": [
    "next(names)"
   ]
  },
  {
   "cell_type": "markdown",
   "metadata": {},
   "source": [
    "#6. https://python-forum.io/Thread-Coditional-colormaps-plotting"
   ]
  },
  {
   "cell_type": "code",
   "execution_count": null,
   "metadata": {},
   "outputs": [],
   "source": [
    "from matplotlib import pyplot as plt\n",
    "import numpy as np\n",
    "A, B, C = np.random.rand(72,144), np.random.rand(72,144), np.random.rand(72,144)\n",
    "rgb_image = np.zeros(A.shape + (3,))\n",
    "rgb_image[..., 0] = ((A > 0.5) & (B > 0.5) & (C > 0.5)).astype(int) # red channel\n",
    "rgb_image[..., 2] = ((A > 0.5)).astype(int)   # blue channel"
   ]
  },
  {
   "cell_type": "code",
   "execution_count": null,
   "metadata": {},
   "outputs": [],
   "source": [
    "plt.imshow(rgb_image)"
   ]
  },
  {
   "cell_type": "markdown",
   "metadata": {},
   "source": [
    "#7. https://python-forum.io/Thread-Sort-Matrices-by-Mean-Value-Obtained-OpenCV-Python-and-Numpy"
   ]
  },
  {
   "cell_type": "code",
   "execution_count": 151,
   "metadata": {},
   "outputs": [
    {
     "data": {
      "text/plain": [
       "array([0.60706827, 0.45797937])"
      ]
     },
     "execution_count": 151,
     "metadata": {},
     "output_type": "execute_result"
    }
   ],
   "source": [
    "np.array([np.random.rand(3,3), np.random.rand(3,3)]).reshape(-1, 2).mean(axis=0)"
   ]
  },
  {
   "cell_type": "code",
   "execution_count": 153,
   "metadata": {},
   "outputs": [
    {
     "data": {
      "text/plain": [
       "[[[0.8460485253964698, 0.12973309191025761, 0.38179778641946815],\n",
       "  [0.7591534699981184, 0.5177203017239596, 0.09442190119121041],\n",
       "  [0.18716544093863252, 0.3560585762527657, 0.7828422193248094]],\n",
       " [[0.276665663235768, 0.2493974247807642, 0.8191880788358641],\n",
       "  [0.9287695044476365, 0.6913381411101959, 0.803697500844096],\n",
       "  [0.22022584709986126, 0.9628612289178343, 0.7372697277575267]]]"
      ]
     },
     "execution_count": 153,
     "metadata": {},
     "output_type": "execute_result"
    }
   ],
   "source": [
    "np.array([np.random.rand(3,3), np.random.rand(3,3)])[[1,0]].tolist()"
   ]
  },
  {
   "cell_type": "markdown",
   "metadata": {},
   "source": [
    "#8. https://python-forum.io/Thread-Keras-Target-Problem"
   ]
  },
  {
   "cell_type": "code",
   "execution_count": 15,
   "metadata": {},
   "outputs": [],
   "source": [
    "from keras.layers import *\n",
    "from keras.models import *\n",
    "from keras.optimizers import *\n",
    "from keras.utils import to_categorical"
   ]
  },
  {
   "cell_type": "code",
   "execution_count": null,
   "metadata": {},
   "outputs": [],
   "source": [
    "trainX = np.random.rand(897, 5, 1980)\n",
    "trainX = trainX.reshape(897, -1)\n",
    "trainY = np.random.choice([0,1], size=897)[:, np.newaxis]\n",
    "model = Sequential()\n",
    "model.add(Dense(1024, input_shape=(5*1980,), activation=\"sigmoid\"))\n",
    "model.add(Dense(512, activation=\"sigmoid\"))\n",
    "model.add(Dense(1, activation=\"softmax\"))\n",
    "\n",
    "INIT_LR = 0.01\n",
    "EPOCHS = 75\n",
    "  \n",
    "opt = SGD(lr=INIT_LR)\n",
    "model.compile(loss=\"binary_crossentropy\", optimizer=opt,\n",
    "    metrics=[\"accuracy\"])\n",
    "model.summary() \n",
    "\n",
    "H = model.fit(trainX, trainY, validation_data=None,\n",
    "    epochs=EPOCHS, batch_size=64)"
   ]
  },
  {
   "cell_type": "markdown",
   "metadata": {},
   "source": [
    "#9. https://python-forum.io/Thread-Plot-Line-chart-based-on-the-input"
   ]
  },
  {
   "cell_type": "code",
   "execution_count": null,
   "metadata": {},
   "outputs": [],
   "source": [
    "from pylab import *\n",
    "Salesamount = [[28000.00,308000.00,582000.00,387000.00],[367000.00,3037000.00,4822000.00,2936000.00],[637000.00,3440000.00,4415000.00,3294000.00],[478000.00,1209000.00,478000.00,1209000.00]]\n",
    "CalendarYear = [2010,2011,2012,2013]\n",
    "Employee = [272,281,282,296]\n",
    "fig = plt.figure()\n",
    "ax = fig.add_subplot(111)\n",
    "for y, c in zip(Salesamount, 'rgbk'):\n",
    "    ax.plot(CalendarYear, y, c)\n",
    "plt.show()"
   ]
  },
  {
   "cell_type": "markdown",
   "metadata": {},
   "source": [
    "#10. https://python-forum.io/Thread-scipy-curve-fit-for-multiple-independent-variables?pid=79744#pid79744"
   ]
  },
  {
   "cell_type": "code",
   "execution_count": 6,
   "metadata": {},
   "outputs": [],
   "source": [
    "import matplotlib\n",
    "import os,sys, math\n",
    "import matplotlib.pyplot as plt\n",
    "import numpy as np\n",
    "import scipy as sy\n",
    "from scipy import optimize\n",
    "from scipy.optimize import curve_fit, least_squares\n",
    " \n",
    "xdata = [214.737191559, -5.64912101538e-36, 36.1372453686, 189.459700978, 233.562136902, 201.230228832, -5.59364882619e-36, -36.3232002416, -188.192199081, -212.837139143, -232.342545403, -200.699429716]\n",
    "ydata = [-5.88273617837e-37, -211.536123799, -186.67108047, -35.9497006815, 200.282998159, 232.085860035, 213.44274878, 187.945919272, 35.7227474297, -6.00785257974e-37, -199.746844708, -230.856058666]\n",
    " \n",
    "xdata = np.array(xdata)\n",
    "ydata = np.array(ydata)\n",
    "X = (xdata, ydata)\n",
    "def func1(Z):\n",
    "    x,y = X\n",
    "    a, b, c = Z  \n",
    "#     x = np.array(X[0])\n",
    "#     y = np.array(X[1])\n",
    "     \n",
    "    n  = 8\n",
    "#     % A  = ydata\n",
    "#     % B  = -xdata\n",
    "#     % C  = xdata. - ydata\n",
    "#     % H  = zdata\n",
    "     \n",
    "    g = np.subtract(x,y)\n",
    "    I_0 = np.subtract(x,y)   # x-y = C\n",
    "    I_1 = np.multiply(I_0,c) # c(x-y) = cC\n",
    "    I_2 = np.multiply(b,-x)   #b(-x) = bB\n",
    "    I_3 = np.multiply(a,y)  # aA\n",
    "     \n",
    "     \n",
    "    I3_0 = np.subtract(I_1,I_2) # cC-bB\n",
    "    I3_1 = np.subtract(I_3,I_1) # aA-cC\n",
    "    I3_2 = np.subtract(I_2,I_3) # bB-aA\n",
    "     \n",
    "    I3_00 = np.multiply(I3_0,I3_1) # (cC-bB)(aA-cC)\n",
    "    I3_01 = np.multiply(I3_00,I3_2) # (cC-bB)(aA-cC)(bB-aA)\n",
    "     \n",
    "    I3 = np.divide(I3_01,54) # (cC-bB)(aA-cC)(bB-aA)/54\n",
    "     \n",
    "    I2_0 = np.power((I3_1),2)  # (aA-cC)^2\n",
    "    I2_1 = np.power((I3_0),2)  # (cC-bB)^2\n",
    "    I2_2 = np.power((I3_2),2)  # (bB-aA)^2\n",
    "     \n",
    "    I2_00 = np.add(I2_0,I2_1)  # (aA-cC)^2 + (cC-bB)^2\n",
    "    I2_01 = np.add(I2_00,I2_2) # (aA-cC)^2 + (cC-bB)^2 + (bB-aA)^2\n",
    "     \n",
    "    I2 = np.divide(I2_01,54)  # ((aA-cC)^2 + (cC-bB)^2 + (bB-aA)^2)/54\n",
    "     \n",
    "    th_0 = np.divide(I3,(np.power(I2,(3/2))))  # I3/(I2^(3/2))\n",
    "     \n",
    "#     print(th_0)\n",
    "     \n",
    "    th = np.arccos(np.clip((th_0),-1,1))  # arccos(I3/(I2^(3/2)))\n",
    "     \n",
    "#     print(th)\n",
    "     \n",
    "    ans_0 = np.divide(np.add((2*th),(np.pi)),6)   # (2*th + pi)/6\n",
    "    ans_1 = np.divide(np.add((2*th),(3*np.pi)),6) # (2*th + 3*pi)/6\n",
    "    ans_2 = np.divide(np.add((2*th),(5*np.pi)),6) # (2*th + 5*pi)/6\n",
    "     \n",
    "    ans_00 = np.multiply(np.cos(ans_0),2)  # 2*cos((2*th + pi)/6)\n",
    "    ans_11 = np.multiply(np.cos(ans_1),2)  # 2*cos((2*th + 3*pi)/6)\n",
    "    ans_22 = np.multiply(np.cos(ans_2),2)  # 2*cos((2*th + 5*pi)/6)\n",
    "     \n",
    "    ans_000 = np.power(np.absolute(ans_00),n)  # (abs(2*cos((2*th + pi)/6)))^n\n",
    "    ans_111 = np.power(np.absolute(ans_11),n)  # (abs(2*cos((2*th + 3*pi)/6)))^n\n",
    "    ans_222 = np.power(np.absolute(ans_22),n)  # (abs(2*cos((2*th + 5*pi)/6)))^n\n",
    "     \n",
    "    ans_0000 = np.add((np.power(np.absolute(ans_00),n)),(np.power(np.absolute(ans_11),n))) # (abs(2*cos((2*th + pi)/6)))^n + (abs(2*cos((2*th + 3*pi)/6)))^n \n",
    "    ans_1111 = np.add((ans_0000),(np.power(np.absolute(ans_22),n)))  # (abs(2*cos((2*th + pi)/6)))^n + (abs(2*cos((2*th + 3*pi)/6)))^n + (abs(2*cos((2*th + 5*pi)/6)))^n\n",
    "     \n",
    "    sna_0 = np.power(np.multiply(3,I2),(n/2))  # (3*I2)^(n/2) !!\n",
    "    sna_1 = 2*(np.power(190,n)) # 2*(sigma^n) !!\n",
    "     \n",
    "    sna_00 = np.multiply(sna_0,ans_1111)\n",
    "    sna_11 = np.subtract(sna_00,sna_1)\n",
    "     \n",
    "    return sna_11 - y\n",
    " \n",
    "# initial guesses for a,b,c:\n",
    "a, b, c = 1, 2, 3\n",
    "p0      = np.array([a, b, c])\n",
    "popt = least_squares(func1, p0)\n",
    "print(popt)"
   ]
  }
 ],
 "metadata": {
  "kernelspec": {
   "display_name": "Python 3",
   "language": "python",
   "name": "python3"
  },
  "language_info": {
   "codemirror_mode": {
    "name": "ipython",
    "version": 3
   },
   "file_extension": ".py",
   "mimetype": "text/x-python",
   "name": "python",
   "nbconvert_exporter": "python",
   "pygments_lexer": "ipython3",
   "version": "3.5.4"
  }
 },
 "nbformat": 4,
 "nbformat_minor": 2
}
