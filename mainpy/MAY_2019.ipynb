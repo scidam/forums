{
 "cells": [
  {
   "cell_type": "markdown",
   "metadata": {},
   "source": [
    "#1. https://python-forum.io/Thread-Extract-of-matrix-subpart-using-a-deep-copy"
   ]
  },
  {
   "cell_type": "code",
   "execution_count": 24,
   "metadata": {},
   "outputs": [
    {
     "name": "stdout",
     "output_type": "stream",
     "text": [
      "(1, 15)\n",
      "(array([ 0,  1,  2,  3,  4,  5,  7,  8,  9, 10, 11, 12, 13, 14, 16, 17, 18,\n",
      "       19, 20, 21, 23, 24, 25, 26, 27, 29, 30, 31, 32, 33, 34, 35, 38, 39,\n",
      "       41, 42, 44, 45, 46, 47, 48, 49, 50, 51, 52, 53, 54, 57, 58, 59, 60,\n",
      "       62, 63, 64, 65, 66, 68, 69, 70, 72, 73, 74, 75, 76, 77, 78, 79, 80,\n",
      "       81, 82, 83, 84, 85, 87, 88, 89, 91, 92, 93, 94, 95, 96, 97, 98, 99]),)\n"
     ]
    }
   ],
   "source": [
    "import numpy as np\n",
    " \n",
    "A = np.random.randint(10, size = (100,10), dtype = np.int);\n",
    "index = np.where(A[:,0] == 1);\n",
    "print(np.array(index).shape)\n",
    "Extract_trial1 = np.copy(A[index,:]); del index;\n",
    "Extract_trial2 = np.copy(A);\n",
    "index = np.where(A[:,0] != 1);\n",
    "print(index)\n",
    "Extract_trial2 = np.delete(Extract_trial2,index,axis=0);"
   ]
  },
  {
   "cell_type": "markdown",
   "metadata": {},
   "source": [
    "In case of `Extract_trial1`, when you invoke `A[index, :]` it triggers advanced indexing of Numpy.\n",
    "You can read about advanced indexing [here](https://docs.scipy.org/doc/numpy/reference/arrays.indexing.html).\n",
    "Adv. indexing always returns a copy of the data, so using `np.copy` is redundant here. Anvanced indexing\n",
    "is triggered because you pass an array of integers to `A[...]`. \n",
    "\n",
    "From official docs:\n",
    "\n",
    "Advanced indexing is triggered when the selection object, obj, is a non-tuple sequence object, an ndarray (of data type integer or bool), or a tuple with at least one sequence object or ndarray (of data type integer or bool).\n",
    "\n",
    "You can inspect this by printing shape of the index variable (it is randomly chanched between runs):\n",
    "\n",
    "index = np.where(A[:,0] == 1)\n",
    "print(np.array(index).shape)\n",
    "\n",
    "Lets look at the advanced indexing broadcasting formula:\n",
    "\n",
    "result[i_1, ..., i_M] == x[ind_1[i_1, ..., i_M], ind_2[i_1, ..., i_M], ..., ind_N[i_1, ..., i_M]]\n",
    "\n",
    "`ind_1` is your index variable, (`ind_2` = ':' in your case, that is simple indexing); `ind_1` has shape `(1, small random integer)`, so result shape will be `(1, small_random_integer, 10)`. This is what you have regarding `Extract_trial1`.\n",
    "\n",
    "You can try the following examples:\n",
    "\n",
    " A[[1,2,3], :] => shape = (3, 10)\n",
    " A[[[1,2,3],], :] => shape (1, 3, 10)\n",
    " A[[[[1,2,3],]], :] => shape (1, 1, 3, 10)\n",
    "\n",
    "To fix this behavior you need to pass `1d` array of indices to `A[...]`, i.e. `A[index[0], :]`."
   ]
  }
 ],
 "metadata": {
  "kernelspec": {
   "display_name": "Python 3",
   "language": "python",
   "name": "python3"
  },
  "language_info": {
   "codemirror_mode": {
    "name": "ipython",
    "version": 3
   },
   "file_extension": ".py",
   "mimetype": "text/x-python",
   "name": "python",
   "nbconvert_exporter": "python",
   "pygments_lexer": "ipython3",
   "version": "3.7.1"
  }
 },
 "nbformat": 4,
 "nbformat_minor": 2
}
