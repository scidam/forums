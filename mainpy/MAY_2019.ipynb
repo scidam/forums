{
 "cells": [
  {
   "cell_type": "markdown",
   "metadata": {},
   "source": [
    "#1. https://python-forum.io/Thread-Extract-of-matrix-subpart-using-a-deep-copy"
   ]
  },
  {
   "cell_type": "code",
   "execution_count": null,
   "metadata": {},
   "outputs": [],
   "source": [
    "import numpy as np\n",
    " \n",
    "A = np.random.randint(10, size = (100,10), dtype = np.int);\n",
    "index = np.where(A[:,0] == 1);\n",
    "print(np.array(index).shape)\n",
    "Extract_trial1 = np.copy(A[index,:]); del index;\n",
    "Extract_trial2 = np.copy(A);\n",
    "index = np.where(A[:,0] != 1);\n",
    "print(index)\n",
    "Extract_trial2 = np.delete(Extract_trial2,index,axis=0);"
   ]
  },
  {
   "cell_type": "markdown",
   "metadata": {},
   "source": [
    "In case of `Extract_trial1`, when you invoke `A[index, :]` it triggers advanced indexing of Numpy.\n",
    "You can read about advanced indexing [here](https://docs.scipy.org/doc/numpy/reference/arrays.indexing.html).\n",
    "Adv. indexing always returns a copy of the data, so using `np.copy` is redundant here. Anvanced indexing\n",
    "is triggered because you pass an array of integers to `A[...]`. \n",
    "\n",
    "From official docs:\n",
    "\n",
    "Advanced indexing is triggered when the selection object, obj, is a non-tuple sequence object, an ndarray (of data type integer or bool), or a tuple with at least one sequence object or ndarray (of data type integer or bool).\n",
    "\n",
    "You can inspect this by printing shape of the index variable (it is randomly chanched between runs):\n",
    "\n",
    "index = np.where(A[:,0] == 1)\n",
    "print(np.array(index).shape)\n",
    "\n",
    "Lets look at the advanced indexing broadcasting formula:\n",
    "\n",
    "result[i_1, ..., i_M] == x[ind_1[i_1, ..., i_M], ind_2[i_1, ..., i_M], ..., ind_N[i_1, ..., i_M]]\n",
    "\n",
    "`ind_1` is your index variable, (`ind_2` = ':' in your case, that is simple indexing); `ind_1` has shape `(1, small random integer)`, so result shape will be `(1, small_random_integer, 10)`. This is what you have regarding `Extract_trial1`.\n",
    "\n",
    "You can try the following examples:\n",
    "\n",
    " A[[1,2,3], :] => shape = (3, 10)\n",
    " A[[[1,2,3],], :] => shape (1, 3, 10)\n",
    " A[[[[1,2,3],]], :] => shape (1, 1, 3, 10)\n",
    "\n",
    "To fix this behavior you need to pass `1d` array of indices to `A[...]`, i.e. `A[index[0], :]`."
   ]
  },
  {
   "cell_type": "markdown",
   "metadata": {},
   "source": [
    "#2. https://python-forum.io/Thread-multi-dimm-array-dynamic"
   ]
  },
  {
   "cell_type": "code",
   "execution_count": null,
   "metadata": {},
   "outputs": [],
   "source": [
    "howmany = 6\n",
    "rulenumber = 0\n",
    "my_2d_list = [[]]\n",
    " \n",
    "for rulenumber in range(1, howmany * howmany + 1):\n",
    "    print(rulenumber)\n",
    "    if (rulenumber % 2 == 0):\n",
    "        my_2d_list[-1].append('even')\n",
    "    else:\n",
    "        my_2d_list[-1].append('odd')\n",
    "    if (rulenumber % 3 == 0):\n",
    "        my_2d_list[-1].append('div by 3')\n",
    "    else:\n",
    "        my_2d_list[-1].append('not by 3')\n",
    "    my_2d_list.append(list())"
   ]
  },
  {
   "cell_type": "markdown",
   "metadata": {},
   "source": [
    "#3. https://python-forum.io/Thread-graphing-euler-method"
   ]
  },
  {
   "cell_type": "code",
   "execution_count": null,
   "metadata": {},
   "outputs": [],
   "source": [
    "%matplotlib qt"
   ]
  },
  {
   "cell_type": "code",
   "execution_count": null,
   "metadata": {},
   "outputs": [],
   "source": [
    "import numpy as np\n",
    "import matplotlib.pylab as plt\n",
    "\n",
    "def volterra(P, K=1, r=1):\n",
    "    return r * P * (1 - P / K)\n",
    "\n",
    "def euler(fun, Po, h, N, **kwargs):\n",
    "    acc = [Po]\n",
    "    times = np.cumsum(np.r_[0, np.ones(N) * h])\n",
    "    for _ in range(N):\n",
    "        acc.append(acc[-1] + h * fun(acc[-1], K=K, r=r))  # for autonomous system's only\n",
    "    return np.array(acc), times\n",
    "\n",
    "K = 12\n",
    "r = 0.43\n",
    "Po = 1\n",
    "N = 30;\n",
    "step_values = [1, 0.5, 0.1]\n",
    "fig = plt.figure()\n",
    "ax = fig.add_subplot(111)\n",
    "for h, c in zip(step_values, 'rgb'):\n",
    "    Ps, Ts = euler(volterra, Po, h, N, K=K, r=r)\n",
    "    ax.plot(Ts, Ps, c)\n",
    "\n",
    "plt.show( )   \n"
   ]
  },
  {
   "cell_type": "markdown",
   "metadata": {},
   "source": [
    "#4. https://python-forum.io/Thread-How-to-graphically-represent-this-function"
   ]
  },
  {
   "cell_type": "code",
   "execution_count": null,
   "metadata": {},
   "outputs": [],
   "source": [
    "from math import exp, log, sqrt\n",
    "from scipy.stats import norm\n",
    "import matplotlib.pyplot as plt\n",
    "plt.style.use('ggplot')\n",
    "plt.rcParams['xtick.labelsize'] = 14\n",
    "plt.rcParams['ytick.labelsize'] = 14\n",
    "plt.rcParams['figure.titlesize'] = 18\n",
    "plt.rcParams['figure.titleweight'] = 'medium'\n",
    "plt.rcParams['lines.linewidth'] = 2.5\n",
    " \n",
    "def CON_call_price(spot,strike,tau,sigma,r,q,phi,x):\n",
    "    d1 = (log(spot/strike)+(r-q+0.5*sigma**2)*tau)/(sigma*sqrt(tau))\n",
    "    d2 = (d1-sigma*sqrt(tau))\n",
    "     \n",
    "    y = x*exp(-r*tau)*norm.cdf(d2)\n",
    "     \n",
    "    return y\n",
    " \n",
    "    P = list(map(lambda x:  x if spot > strike else 0))\n",
    "    return P\n",
    " \n",
    "S = [t/5 for t in range(0,1000)] \n",
    " \n",
    "fig, ax = plt.subplots(nrows=1, ncols=1, sharex=True, sharey=True, figsize = (20,15))\n",
    "fig.suptitle('Payoff Function for CON CALL', fontsize=20, fontweight='bold')\n",
    " \n",
    "bc_P = [CON_call_price(120,100, 1, 0.25, 0.2, 0.03, 1, s) for s in S]\n",
    "plt.subplot(222)\n",
    "plt.plot(S, bc_P, 'b')\n",
    "plt.legend([\"Binary Call\"])\n",
    " \n",
    "plt.show()"
   ]
  },
  {
   "cell_type": "markdown",
   "metadata": {},
   "source": [
    "#5. https://python-forum.io/Thread-Pandas-fillna-based-on-conditions"
   ]
  },
  {
   "cell_type": "code",
   "execution_count": null,
   "metadata": {},
   "outputs": [],
   "source": [
    "import pandas as pd\n",
    "import numpy as np\n",
    " \n",
    "data = [['Rabbit', 2, 2],\n",
    "    ['Dog', 5, 5.5],\n",
    "    ['Dog', 3, 2.8],\n",
    "    ['Cat', np.nan, np.nan],\n",
    "    ['Cat', np.nan, np.nan],]\n",
    " \n",
    "df = pd.DataFrame(columns=[\"Type\", \"Weight_April\", \"Weight_May\"], data=data)"
   ]
  },
  {
   "cell_type": "code",
   "execution_count": null,
   "metadata": {},
   "outputs": [],
   "source": [
    "df.loc[df.Type=='Cat', [\"Weight_April\", \"Weight_May\"]] = df.loc[df.Type == 'Dog', [\"Weight_April\", \"Weight_May\"]].values"
   ]
  },
  {
   "cell_type": "code",
   "execution_count": null,
   "metadata": {},
   "outputs": [],
   "source": [
    "df.fillna(df.mean(), inplace=True)"
   ]
  },
  {
   "cell_type": "code",
   "execution_count": null,
   "metadata": {},
   "outputs": [],
   "source": [
    "def read_names():\n",
    "    for name in [1,2,3]:\n",
    "        yield name"
   ]
  },
  {
   "cell_type": "code",
   "execution_count": null,
   "metadata": {},
   "outputs": [],
   "source": [
    "names = read_names()"
   ]
  },
  {
   "cell_type": "code",
   "execution_count": null,
   "metadata": {},
   "outputs": [],
   "source": [
    "next(names)"
   ]
  },
  {
   "cell_type": "markdown",
   "metadata": {},
   "source": [
    "#6. https://python-forum.io/Thread-Coditional-colormaps-plotting"
   ]
  },
  {
   "cell_type": "code",
   "execution_count": null,
   "metadata": {},
   "outputs": [],
   "source": [
    "from matplotlib import pyplot as plt\n",
    "import numpy as np\n",
    "A, B, C = np.random.rand(72,144), np.random.rand(72,144), np.random.rand(72,144)\n",
    "rgb_image = np.zeros(A.shape + (3,))\n",
    "rgb_image[..., 0] = ((A > 0.5) & (B > 0.5) & (C > 0.5)).astype(int) # red channel\n",
    "rgb_image[..., 2] = ((A > 0.5)).astype(int)   # blue channel"
   ]
  },
  {
   "cell_type": "code",
   "execution_count": null,
   "metadata": {},
   "outputs": [],
   "source": [
    "plt.imshow(rgb_image)"
   ]
  },
  {
   "cell_type": "markdown",
   "metadata": {},
   "source": [
    "#7. https://python-forum.io/Thread-Sort-Matrices-by-Mean-Value-Obtained-OpenCV-Python-and-Numpy"
   ]
  },
  {
   "cell_type": "code",
   "execution_count": 151,
   "metadata": {},
   "outputs": [
    {
     "data": {
      "text/plain": [
       "array([0.60706827, 0.45797937])"
      ]
     },
     "execution_count": 151,
     "metadata": {},
     "output_type": "execute_result"
    }
   ],
   "source": [
    "np.array([np.random.rand(3,3), np.random.rand(3,3)]).reshape(-1, 2).mean(axis=0)"
   ]
  },
  {
   "cell_type": "code",
   "execution_count": 153,
   "metadata": {},
   "outputs": [
    {
     "data": {
      "text/plain": [
       "[[[0.8460485253964698, 0.12973309191025761, 0.38179778641946815],\n",
       "  [0.7591534699981184, 0.5177203017239596, 0.09442190119121041],\n",
       "  [0.18716544093863252, 0.3560585762527657, 0.7828422193248094]],\n",
       " [[0.276665663235768, 0.2493974247807642, 0.8191880788358641],\n",
       "  [0.9287695044476365, 0.6913381411101959, 0.803697500844096],\n",
       "  [0.22022584709986126, 0.9628612289178343, 0.7372697277575267]]]"
      ]
     },
     "execution_count": 153,
     "metadata": {},
     "output_type": "execute_result"
    }
   ],
   "source": [
    "np.array([np.random.rand(3,3), np.random.rand(3,3)])[[1,0]].tolist()"
   ]
  },
  {
   "cell_type": "markdown",
   "metadata": {},
   "source": [
    "#8. https://python-forum.io/Thread-Keras-Target-Problem"
   ]
  },
  {
   "cell_type": "code",
   "execution_count": 15,
   "metadata": {},
   "outputs": [],
   "source": [
    "from keras.layers import *\n",
    "from keras.models import *\n",
    "from keras.optimizers import *\n",
    "from keras.utils import to_categorical"
   ]
  },
  {
   "cell_type": "code",
   "execution_count": null,
   "metadata": {},
   "outputs": [],
   "source": [
    "trainX = np.random.rand(897, 5, 1980)\n",
    "trainX = trainX.reshape(897, -1)\n",
    "trainY = np.random.choice([0,1], size=897)[:, np.newaxis]\n",
    "model = Sequential()\n",
    "model.add(Dense(1024, input_shape=(5*1980,), activation=\"sigmoid\"))\n",
    "model.add(Dense(512, activation=\"sigmoid\"))\n",
    "model.add(Dense(1, activation=\"softmax\"))\n",
    "\n",
    "INIT_LR = 0.01\n",
    "EPOCHS = 75\n",
    "  \n",
    "opt = SGD(lr=INIT_LR)\n",
    "model.compile(loss=\"binary_crossentropy\", optimizer=opt,\n",
    "    metrics=[\"accuracy\"])\n",
    "model.summary() \n",
    "\n",
    "H = model.fit(trainX, trainY, validation_data=None,\n",
    "    epochs=EPOCHS, batch_size=64)"
   ]
  },
  {
   "cell_type": "markdown",
   "metadata": {},
   "source": [
    "#9. https://python-forum.io/Thread-Plot-Line-chart-based-on-the-input"
   ]
  },
  {
   "cell_type": "code",
   "execution_count": null,
   "metadata": {},
   "outputs": [],
   "source": [
    "from pylab import *\n",
    "Salesamount = [[28000.00,308000.00,582000.00,387000.00],[367000.00,3037000.00,4822000.00,2936000.00],[637000.00,3440000.00,4415000.00,3294000.00],[478000.00,1209000.00,478000.00,1209000.00]]\n",
    "CalendarYear = [2010,2011,2012,2013]\n",
    "Employee = [272,281,282,296]\n",
    "fig = plt.figure()\n",
    "ax = fig.add_subplot(111)\n",
    "for y, c in zip(Salesamount, 'rgbk'):\n",
    "    ax.plot(CalendarYear, y, c)\n",
    "plt.show()"
   ]
  },
  {
   "cell_type": "markdown",
   "metadata": {},
   "source": [
    "#10. https://python-forum.io/Thread-scipy-curve-fit-for-multiple-independent-variables?pid=79744#pid79744"
   ]
  },
  {
   "cell_type": "code",
   "execution_count": 6,
   "metadata": {},
   "outputs": [],
   "source": [
    "import matplotlib\n",
    "import os,sys, math\n",
    "import matplotlib.pyplot as plt\n",
    "import numpy as np\n",
    "import scipy as sy\n",
    "from scipy import optimize\n",
    "from scipy.optimize import curve_fit, least_squares\n",
    " \n",
    "xdata = [214.737191559, -5.64912101538e-36, 36.1372453686, 189.459700978, 233.562136902, 201.230228832, -5.59364882619e-36, -36.3232002416, -188.192199081, -212.837139143, -232.342545403, -200.699429716]\n",
    "ydata = [-5.88273617837e-37, -211.536123799, -186.67108047, -35.9497006815, 200.282998159, 232.085860035, 213.44274878, 187.945919272, 35.7227474297, -6.00785257974e-37, -199.746844708, -230.856058666]\n",
    " \n",
    "xdata = np.array(xdata)\n",
    "ydata = np.array(ydata)\n",
    "X = (xdata, ydata)\n",
    "def func1(Z):\n",
    "    x,y = X\n",
    "    a, b, c = Z  \n",
    "#     x = np.array(X[0])\n",
    "#     y = np.array(X[1])\n",
    "     \n",
    "    n  = 8\n",
    "#     % A  = ydata\n",
    "#     % B  = -xdata\n",
    "#     % C  = xdata. - ydata\n",
    "#     % H  = zdata\n",
    "     \n",
    "    g = np.subtract(x,y)\n",
    "    I_0 = np.subtract(x,y)   # x-y = C\n",
    "    I_1 = np.multiply(I_0,c) # c(x-y) = cC\n",
    "    I_2 = np.multiply(b,-x)   #b(-x) = bB\n",
    "    I_3 = np.multiply(a,y)  # aA\n",
    "     \n",
    "     \n",
    "    I3_0 = np.subtract(I_1,I_2) # cC-bB\n",
    "    I3_1 = np.subtract(I_3,I_1) # aA-cC\n",
    "    I3_2 = np.subtract(I_2,I_3) # bB-aA\n",
    "     \n",
    "    I3_00 = np.multiply(I3_0,I3_1) # (cC-bB)(aA-cC)\n",
    "    I3_01 = np.multiply(I3_00,I3_2) # (cC-bB)(aA-cC)(bB-aA)\n",
    "     \n",
    "    I3 = np.divide(I3_01,54) # (cC-bB)(aA-cC)(bB-aA)/54\n",
    "     \n",
    "    I2_0 = np.power((I3_1),2)  # (aA-cC)^2\n",
    "    I2_1 = np.power((I3_0),2)  # (cC-bB)^2\n",
    "    I2_2 = np.power((I3_2),2)  # (bB-aA)^2\n",
    "     \n",
    "    I2_00 = np.add(I2_0,I2_1)  # (aA-cC)^2 + (cC-bB)^2\n",
    "    I2_01 = np.add(I2_00,I2_2) # (aA-cC)^2 + (cC-bB)^2 + (bB-aA)^2\n",
    "     \n",
    "    I2 = np.divide(I2_01,54)  # ((aA-cC)^2 + (cC-bB)^2 + (bB-aA)^2)/54\n",
    "     \n",
    "    th_0 = np.divide(I3,(np.power(I2,(3/2))))  # I3/(I2^(3/2))\n",
    "     \n",
    "#     print(th_0)\n",
    "     \n",
    "    th = np.arccos(np.clip((th_0),-1,1))  # arccos(I3/(I2^(3/2)))\n",
    "     \n",
    "#     print(th)\n",
    "     \n",
    "    ans_0 = np.divide(np.add((2*th),(np.pi)),6)   # (2*th + pi)/6\n",
    "    ans_1 = np.divide(np.add((2*th),(3*np.pi)),6) # (2*th + 3*pi)/6\n",
    "    ans_2 = np.divide(np.add((2*th),(5*np.pi)),6) # (2*th + 5*pi)/6\n",
    "     \n",
    "    ans_00 = np.multiply(np.cos(ans_0),2)  # 2*cos((2*th + pi)/6)\n",
    "    ans_11 = np.multiply(np.cos(ans_1),2)  # 2*cos((2*th + 3*pi)/6)\n",
    "    ans_22 = np.multiply(np.cos(ans_2),2)  # 2*cos((2*th + 5*pi)/6)\n",
    "     \n",
    "    ans_000 = np.power(np.absolute(ans_00),n)  # (abs(2*cos((2*th + pi)/6)))^n\n",
    "    ans_111 = np.power(np.absolute(ans_11),n)  # (abs(2*cos((2*th + 3*pi)/6)))^n\n",
    "    ans_222 = np.power(np.absolute(ans_22),n)  # (abs(2*cos((2*th + 5*pi)/6)))^n\n",
    "     \n",
    "    ans_0000 = np.add((np.power(np.absolute(ans_00),n)),(np.power(np.absolute(ans_11),n))) # (abs(2*cos((2*th + pi)/6)))^n + (abs(2*cos((2*th + 3*pi)/6)))^n \n",
    "    ans_1111 = np.add((ans_0000),(np.power(np.absolute(ans_22),n)))  # (abs(2*cos((2*th + pi)/6)))^n + (abs(2*cos((2*th + 3*pi)/6)))^n + (abs(2*cos((2*th + 5*pi)/6)))^n\n",
    "     \n",
    "    sna_0 = np.power(np.multiply(3,I2),(n/2))  # (3*I2)^(n/2) !!\n",
    "    sna_1 = 2*(np.power(190,n)) # 2*(sigma^n) !!\n",
    "     \n",
    "    sna_00 = np.multiply(sna_0,ans_1111)\n",
    "    sna_11 = np.subtract(sna_00,sna_1)\n",
    "     \n",
    "    return sna_11 - y\n",
    " \n",
    "# initial guesses for a,b,c:\n",
    "a, b, c = 1, 2, 3\n",
    "p0      = np.array([a, b, c])\n",
    "popt = least_squares(func1, p0)\n",
    "print(popt)"
   ]
  },
  {
   "cell_type": "markdown",
   "metadata": {},
   "source": [
    "11. https://python-forum.io/Thread-How-to-plot-implicit-functions-with-two-variables-in-scipy-python-using-matplotlib"
   ]
  },
  {
   "cell_type": "code",
   "execution_count": 9,
   "metadata": {},
   "outputs": [
    {
     "data": {
      "text/plain": [
       "array([1.0040317 , 1.00612712, 0.99137764])"
      ]
     },
     "execution_count": 9,
     "metadata": {},
     "output_type": "execute_result"
    }
   ],
   "source": [
    "from pylab import *\n",
    "from scipy.optimize import least_squares\n",
    "xdata = [0.3063191028,-0.0156344344,-0.0155750443,-0.7206687321,-0.7473645659,-0.9174428618,-0.8839320182,-1.0399645639,-0.9997277955,-1.0157928079,-0.9888297188,-0.4533985964,0.0091163748,0.0026577054,0.5926386016,0.5992457462,1.004345373,0.9909529136,1.0392221881,1.0405287695,1.0606471537,1.0283835014,1.0149316519,0.9416591604,0.9685628594,0.9155869223,0.9088016075,0.6344640542,0.6142268898]\n",
    "ydata = [1.1154790304,0.9978867036,1.0111900779,0.5702040049,0.5903372366,-0.0072010453,-0.0007720708,-0.45206232,-0.4390262009,-1.0375889614,-0.9978570085,-1.0612855969,-0.957932038,-0.904673998,-0.7489532501,-0.7689528542,-0.0266364437,-0.0265473586,0.2857701407,0.5784443763,0.5849624358,0.8579043226,0.8446900334,0.9316519346,0.9580805131,1.091470597,1.071560078,1.1199481327,1.0868233245]\n",
    "xdata = np.array(xdata)\n",
    "ydata = np.array(ydata)\n",
    " \n",
    "def func1(coeff,x,y):\n",
    "#     x = X[0]\n",
    "#     y = X[1]\n",
    " \n",
    "    n  = 8\n",
    "#     % A  = ydata\n",
    "#     % B  = -xdata\n",
    "#     % C  = xdata. - ydata\n",
    "#     % H  = zdata\n",
    " \n",
    "    g = np.subtract(x,y)\n",
    "    I_0 = np.subtract(x,y)   # x-y = C\n",
    "    I_1 = np.multiply(I_0,coeff[2]) # c(x-y) = cC\n",
    "    I_2 = np.multiply(coeff[1],-x)   #b(-x) = bB\n",
    "    I_3 = np.multiply(coeff[0],y)  # aA\n",
    " \n",
    " \n",
    "    I3_0 = np.subtract(I_1,I_2) # cC-bB\n",
    "    I3_1 = np.subtract(I_3,I_1) # aA-cC\n",
    "    I3_2 = np.subtract(I_2,I_3) # bB-aA\n",
    " \n",
    "    I3_00 = np.multiply(I3_0,I3_1) # (cC-bB)(aA-cC)\n",
    "    I3_01 = np.multiply(I3_00,I3_2) # (cC-bB)(aA-cC)(bB-aA)\n",
    " \n",
    "    I3 = np.divide(I3_01,54) # (cC-bB)(aA-cC)(bB-aA)/54\n",
    " \n",
    "    I2_0 = np.power((I3_1),2)  # (aA-cC)^2\n",
    "    I2_1 = np.power((I3_0),2)  # (cC-bB)^2\n",
    "    I2_2 = np.power((I3_2),2)  # (bB-aA)^2\n",
    " \n",
    "    I2_00 = np.add(I2_0,I2_1)  # (aA-cC)^2 + (cC-bB)^2\n",
    "    I2_01 = np.add(I2_00,I2_2) # (aA-cC)^2 + (cC-bB)^2 + (bB-aA)^2\n",
    " \n",
    "    I2 = np.divide(I2_01,54)  # ((aA-cC)^2 + (cC-bB)^2 + (bB-aA)^2)/54\n",
    " \n",
    "    th_0 = np.divide(I3,(np.power(I2,(3/2))))  # I3/(I2^(3/2))\n",
    " \n",
    "#     print(th_0)\n",
    " \n",
    "    th = np.arccos(np.clip((th_0),-1,1))  # arccos(I3/(I2^(3/2)))\n",
    " \n",
    "#     print(th)\n",
    " \n",
    "    ans_0 = np.divide(np.add((2*th),(np.pi)),6)   # (2*th + pi)/6\n",
    "    ans_1 = np.divide(np.add((2*th),(3*np.pi)),6) # (2*th + 3*pi)/6\n",
    "    ans_2 = np.divide(np.add((2*th),(5*np.pi)),6) # (2*th + 5*pi)/6\n",
    " \n",
    "    ans_00 = np.multiply(np.cos(ans_0),2)  # 2*cos((2*th + pi)/6)\n",
    "    ans_11 = np.multiply(np.cos(ans_1),2)  # 2*cos((2*th + 3*pi)/6)\n",
    "    ans_22 = np.multiply(np.cos(ans_2),2)  # 2*cos((2*th + 5*pi)/6)\n",
    " \n",
    "    ans_000 = np.power(np.absolute(ans_00),n)  # (abs(2*cos((2*th + pi)/6)))^n\n",
    "    ans_111 = np.power(np.absolute(ans_11),n)  # (abs(2*cos((2*th + 3*pi)/6)))^n\n",
    "    ans_222 = np.power(np.absolute(ans_22),n)  # (abs(2*cos((2*th + 5*pi)/6)))^n\n",
    " \n",
    "    ans_0000 = np.add((np.power(np.absolute(ans_00),n)),(np.power(np.absolute(ans_11),n))) # (abs(2*cos((2*th + pi)/6)))^n + (abs(2*cos((2*th + 3*pi)/6)))^n \n",
    "    ans_1111 = np.add((ans_0000),(np.power(np.absolute(ans_22),n)))  # (abs(2*cos((2*th + pi)/6)))^n + (abs(2*cos((2*th + 3*pi)/6)))^n + (abs(2*cos((2*th + 5*pi)/6)))^n\n",
    " \n",
    "    sna_0 = np.power(np.multiply(3,I2),(n/2))  # (3*I2)^(n/2) !!\n",
    "    sna_1 = 2*(np.power(1.0167,n)) # 2*(sigma^n) !!\n",
    " \n",
    "    sna_00 = np.multiply(sna_0,ans_1111)\n",
    "    sna_11 = np.subtract(sna_00,sna_1)\n",
    " \n",
    "    return sna_11\n",
    "x0 = np.array([1.0, 1.0, 1.0])\n",
    "res_lsq = least_squares(func1, x0,loss='cauchy',f_scale=0.001,args=(xdata, ydata))\n",
    "res_lsq.x"
   ]
  },
  {
   "cell_type": "code",
   "execution_count": 65,
   "metadata": {},
   "outputs": [],
   "source": [
    "xmin, xmax, ymin, ymax = xdata.min(), xdata.max(), ydata.min(), ydata.max()\n",
    "g = lambda x, y: func1(res_lsq.x, x, y)**2\n",
    "X, Y = np.meshgrid(np.linspace(xmin-0.2, xmax+0.2, 1000), np.linspace(ymin-0.2, ymax+0.2, 1000))\n",
    "Z = g(X, Y)\n",
    "plt.contourf(X, Y, np.log(Z), levels=[-10,-8])\n",
    "plt.gca().scatter(xdata, ydata)\n",
    "plt.colorbar()\n",
    "plt.show()"
   ]
  },
  {
   "cell_type": "markdown",
   "metadata": {},
   "source": [
    "#12. https://python-forum.io/Thread-NumPy-and-List"
   ]
  },
  {
   "cell_type": "code",
   "execution_count": 151,
   "metadata": {},
   "outputs": [],
   "source": [
    "import numpy as np\n",
    "x = np.array(['a']*10**5)\n",
    "y = ['a']*10**5"
   ]
  },
  {
   "cell_type": "code",
   "execution_count": 152,
   "metadata": {},
   "outputs": [
    {
     "name": "stdout",
     "output_type": "stream",
     "text": [
      "126 µs ± 6.41 µs per loop (mean ± std. dev. of 7 runs, 10000 loops each)\n"
     ]
    }
   ],
   "source": [
    "%timeit -n 10000 np.append(x, '2') "
   ]
  },
  {
   "cell_type": "code",
   "execution_count": 153,
   "metadata": {},
   "outputs": [
    {
     "name": "stdout",
     "output_type": "stream",
     "text": [
      "121 ns ± 47.5 ns per loop (mean ± std. dev. of 7 runs, 10000 loops each)\n"
     ]
    }
   ],
   "source": [
    "%timeit -n 10000 y.append('2')"
   ]
  },
  {
   "cell_type": "markdown",
   "metadata": {},
   "source": [
    "#13. https://python-forum.io/Thread-Keras-Matplotlib-causing-crash"
   ]
  },
  {
   "cell_type": "code",
   "execution_count": null,
   "metadata": {},
   "outputs": [],
   "source": [
    "# setup\n",
    "from keras.datasets import imdb\n",
    " \n",
    "(train_data, train_labels), (test_data, test_labels) = imdb.load_data(\n",
    "    num_words=1000)\n",
    " \n",
    "import numpy as np\n",
    " \n",
    "import matplotlib.pyplot as plt\n",
    " \n",
    "from keras import models\n",
    "from keras import layers\n",
    "from keras import optimizers\n",
    "from keras import losses\n",
    "from keras import metrics\n",
    " \n",
    "# check training data\n",
    "train_data[0]\n",
    " \n",
    "# check training labels\n",
    "train_labels[0]\n",
    " \n",
    "# test that maximum number of unique words is 10000\n",
    "max([max(sequence) for sequence in train_data])\n",
    " \n",
    "# read original reviews for kicks\n",
    "word_index = imdb.get_word_index()\n",
    "reverse_word_index = dict(\n",
    "    [(value, key) for (key, value) in word_index.items()])\n",
    "decoded_review = ' '.join(\n",
    "    [reverse_word_index.get(i - 3, '?') for i in train_data[950]])\n",
    "decoded_review\n",
    " \n",
    "def vectorise_sequences(sequences, dimension=1000):\n",
    "    results = np.zeros((len(sequences), dimension))\n",
    "    for i, sequence in enumerate(sequences):\n",
    "        results[i, sequence] = 1.\n",
    "    return results\n",
    " \n",
    "x_train = vectorise_sequences(train_data)\n",
    "x_test = vectorise_sequences(test_data)\n",
    " \n",
    "y_train = np.asarray(train_labels).astype('float32')\n",
    "y_test = np.asarray(test_labels).astype('float32')\n",
    " \n",
    "# view the transformed samples\n",
    "x_train[0]\n",
    " \n",
    "# view the labels\n",
    "y_train[0]\n",
    " \n",
    "model = models.Sequential()\n",
    "model.add(layers.Dense(16, activation='relu', input_shape=(1000,)))\n",
    "model.add(layers.Dense(16, activation='relu'))\n",
    "model.add(layers.Dense(1, activation='sigmoid'))\n",
    "model.compile(optimizer=optimizers.RMSprop(lr=0.001),\n",
    "             loss=losses.binary_crossentropy,\n",
    "             metrics=['acc'])\n",
    " \n",
    " \n",
    "# set up a validation set\n",
    "x_val=x_train[:1000]\n",
    "partial_x_train=x_train[1000:]\n",
    "y_val=y_train[:1000]\n",
    "partial_y_train=y_train[1000:]\n",
    " \n",
    "history = model.fit(partial_x_train,\n",
    "                   partial_y_train,\n",
    "                   epochs=20,\n",
    "                   batch_size=512,\n",
    "                   validation_data=(x_val, y_val))\n",
    " \n",
    "history_dict = history.history\n",
    "loss_values = history_dict['loss']\n",
    "val_loss_values = history_dict['val_loss']\n",
    " \n",
    "# epochs = list(range(1, len('acc') + 1))  #  This line contained a mistake\n",
    "epochs = list(range(1, len(history_dict['acc']) + 1))  # s\n",
    " \n",
    "plt.plot(epochs, loss_values, 'bo', label='Training Loss')\n",
    "plt.plot(epochs, val_loss_values, 'b', label='Validation Loss')\n",
    "plt.title('Training & Validation Loss')\n",
    "plt.xlabel('Epochs')\n",
    "plt.ylabel('Loss')\n",
    "plt.legend()\n",
    " \n",
    "plt.show()"
   ]
  },
  {
   "cell_type": "markdown",
   "metadata": {},
   "source": [
    "#14. https://python-forum.io/Thread-Cherrypy-no-response-to-requests"
   ]
  },
  {
   "cell_type": "code",
   "execution_count": 21,
   "metadata": {},
   "outputs": [
    {
     "name": "stderr",
     "output_type": "stream",
     "text": [
      "UsageError: Line magic function `%python` not found (But cell magic `%%python` exists, did you mean that instead?).\n"
     ]
    }
   ],
   "source": [
    "python -m http.server 2020 --bind 127.0.0.1"
   ]
  },
  {
   "cell_type": "markdown",
   "metadata": {},
   "source": [
    "#15. https://python-forum.io/Thread-Coditional-colormaps-plotting"
   ]
  },
  {
   "cell_type": "markdown",
   "metadata": {},
   "source": [
    "I didn't analyze that, but lets suppose that your conditions don't become true simultaneously; In case of using multiple colors the approach should be slightly different."
   ]
  },
  {
   "cell_type": "code",
   "execution_count": 16,
   "metadata": {},
   "outputs": [],
   "source": [
    "COLORS = {'red': [1, 0, 0],  # may be you need to scale values to 255... e.g. red = [255, 0, 0];\n",
    "          'blue': [0, 0, 1],\n",
    "          'green': [0, 1, 0],\n",
    "          'gray' : [0.5, 0.5, 0.5],\n",
    "    #     ...  define your colors here, \n",
    "}\n",
    " \n",
    "rgb_image = np.zeros(A.shape + (3, ))\n",
    "rgb_image[(CFAS505>0.5) & (CFAS5095>0.5) & (CFAS595>0.5), :] = COLORS['red']\n",
    "rgb_image[((CFAS505>0.5) &(CFAS5095<0.5) & (CFAS595<0.5)), :] = COLORS['gray']\n",
    "# do the same with all conditions and choose appropriate color\n",
    "..."
   ]
  },
  {
   "cell_type": "markdown",
   "metadata": {},
   "source": [
    "#16. https://python-forum.io/Thread-How-to-map-360-degree-angle-over-1024-counts"
   ]
  },
  {
   "cell_type": "code",
   "execution_count": null,
   "metadata": {},
   "outputs": [],
   "source": [
    "def deg2count(angle, maxcount=1023):\n",
    "    \"\"\" 0 <= angle <= 360 \"\"\"\n",
    "    return int(angle / 360.0 * maxcount)\n",
    " \n",
    "def count2deg(count, maxcount=1023):\n",
    "    return int(count / maxcount * 360)"
   ]
  },
  {
   "cell_type": "markdown",
   "metadata": {},
   "source": [
    "I didn't work with raspberry pi and embedded\n",
    "python, but I suspect that PIN_DAT = [3,14] should be PIN_DAT = [3.14], if 3,14 stands for pi here...?! \n",
    "Since your code includes series of numbers 3,1,4 (pi approx 3.14), I suspect that\n",
    "angles should be given in radians; in this case my code should be changed, e.g. 360 must be replaced with, e.g. 3.1415."
   ]
  }
 ],
 "metadata": {
  "kernelspec": {
   "display_name": "Python 3",
   "language": "python",
   "name": "python3"
  },
  "language_info": {
   "codemirror_mode": {
    "name": "ipython",
    "version": 3
   },
   "file_extension": ".py",
   "mimetype": "text/x-python",
   "name": "python",
   "nbconvert_exporter": "python",
   "pygments_lexer": "ipython3",
   "version": "3.7.1"
  }
 },
 "nbformat": 4,
 "nbformat_minor": 2
}
