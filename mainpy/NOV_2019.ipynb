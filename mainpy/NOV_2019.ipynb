{
 "cells": [
  {
   "cell_type": "markdown",
   "metadata": {},
   "source": [
    "1. https://python-forum.io/Thread-converting-a-number-from-bytes-to-float-and-back"
   ]
  },
  {
   "cell_type": "code",
   "execution_count": 1,
   "metadata": {},
   "outputs": [],
   "source": [
    "def inc(num):\n",
    "    return type(num)(float(num)+1)"
   ]
  },
  {
   "cell_type": "code",
   "execution_count": 18,
   "metadata": {},
   "outputs": [],
   "source": [
    "from functools import wraps\n",
    "\n",
    "def retain_type(f):\n",
    "    @wraps(f)\n",
    "    def wrapper(inp):\n",
    "        res = f(inp)\n",
    "        if type(res) == type(inp):\n",
    "            return res\n",
    "        elif isinstance(res, str):\n",
    "            return res.encode('utf-8')\n",
    "        elif isinstance(res, bytes):\n",
    "            return res.decode('utf-8')\n",
    "        else:\n",
    "            raise TypeError(\"Output type shoud be either bytes or str.\")\n",
    "    return wrapper"
   ]
  },
  {
   "cell_type": "code",
   "execution_count": 19,
   "metadata": {},
   "outputs": [],
   "source": [
    "@retain_type\n",
    "def inc(num):\n",
    "    if isinstance(num, bytes):\n",
    "        num = num.decode('utf-8')\n",
    "    return type(num)(float(num)+1)"
   ]
  }
 ],
 "metadata": {
  "kernelspec": {
   "display_name": "Python 3",
   "language": "python",
   "name": "python3"
  },
  "language_info": {
   "codemirror_mode": {
    "name": "ipython",
    "version": 3
   },
   "file_extension": ".py",
   "mimetype": "text/x-python",
   "name": "python",
   "nbconvert_exporter": "python",
   "pygments_lexer": "ipython3",
   "version": "3.7.4"
  }
 },
 "nbformat": 4,
 "nbformat_minor": 2
}
