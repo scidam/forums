{
 "cells": [
  {
   "cell_type": "markdown",
   "metadata": {},
   "source": [
    "#1. https://python-forum.io/Thread-Sinus-Approx"
   ]
  },
  {
   "cell_type": "code",
   "execution_count": 5,
   "metadata": {},
   "outputs": [],
   "source": [
    "from math import sin\n",
    "\n",
    "def sine_approx(x, degree=5):\n",
    "    \"\"\"Sine approximation using Tailor series.\n",
    "    \n",
    "    Parameters\n",
    "    ==========\n",
    "    \n",
    "        :param x: some explanation\n",
    "        :param degree: some explanation\n",
    "    \n",
    "    \"\"\"\n",
    "    fact = 1\n",
    "    res = 0\n",
    "    for i in range(1, degree):\n",
    "        fact *= i\n",
    "        if i % 2 !=0:\n",
    "            res += (-1)**((i + 1)/2 + 1)*x**i / fact\n",
    "    return res\n"
   ]
  },
  {
   "cell_type": "markdown",
   "metadata": {},
   "source": [
    "#2. https://python-forum.io/Thread-In-linear-time-find-the-maximum-sum-of-all-possible-contiguous-subarrays"
   ]
  },
  {
   "cell_type": "code",
   "execution_count": 32,
   "metadata": {},
   "outputs": [],
   "source": [
    "def max_cont(l):\n",
    "    # edges:\n",
    "    if all(item > 0 for item in l):\n",
    "        return sum(l)\n",
    "    \n",
    "    if all(item < 0 for item in l):\n",
    "        return max(l)\n",
    "    \n",
    "    mm = right = 0\n",
    "    for i in range(len(l)):\n",
    "        right += l[i]\n",
    "        if right > mm:\n",
    "            mm = right\n",
    "        if right < 0:\n",
    "            right = 0\n",
    "    return mm\n",
    "\n",
    "\n",
    "def max_cont2(l):\n",
    "    mv = 0\n",
    "    sv = 0\n",
    "    best = 0\n",
    "    for b in range(len(l)):\n",
    "        sv += l[b]\n",
    "        mv = min(mv, sv)\n",
    "        best = max(best, sv - mv)\n",
    "        print(\"mv=\", mv, \"sv=\", sv, \"best=\", best)\n",
    "    return best\n"
   ]
  }
 ],
 "metadata": {
  "kernelspec": {
   "display_name": "Python 3",
   "language": "python",
   "name": "python3"
  },
  "language_info": {
   "codemirror_mode": {
    "name": "ipython",
    "version": 3
   },
   "file_extension": ".py",
   "mimetype": "text/x-python",
   "name": "python",
   "nbconvert_exporter": "python",
   "pygments_lexer": "ipython3",
   "version": "3.7.4"
  }
 },
 "nbformat": 4,
 "nbformat_minor": 2
}
