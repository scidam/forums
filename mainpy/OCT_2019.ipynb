{
 "cells": [
  {
   "cell_type": "markdown",
   "metadata": {},
   "source": [
    "#1. https://python-forum.io/Thread-Sinus-Approx"
   ]
  },
  {
   "cell_type": "code",
   "execution_count": 5,
   "metadata": {},
   "outputs": [],
   "source": [
    "from math import sin\n",
    "\n",
    "def sine_approx(x, degree=5):\n",
    "    \"\"\"Sine approximation using Tailor series.\n",
    "    \n",
    "    Parameters\n",
    "    ==========\n",
    "    \n",
    "        :param x: some explanation\n",
    "        :param degree: some explanation\n",
    "    \n",
    "    \"\"\"\n",
    "    fact = 1\n",
    "    res = 0\n",
    "    for i in range(1, degree):\n",
    "        fact *= i\n",
    "        if i % 2 !=0:\n",
    "            res += (-1)**((i + 1)/2 + 1)*x**i / fact\n",
    "    return res\n"
   ]
  }
 ],
 "metadata": {
  "kernelspec": {
   "display_name": "Python 3",
   "language": "python",
   "name": "python3"
  },
  "language_info": {
   "codemirror_mode": {
    "name": "ipython",
    "version": 3
   },
   "file_extension": ".py",
   "mimetype": "text/x-python",
   "name": "python",
   "nbconvert_exporter": "python",
   "pygments_lexer": "ipython3",
   "version": "3.7.3"
  }
 },
 "nbformat": 4,
 "nbformat_minor": 2
}
