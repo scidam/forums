{
 "cells": [
  {
   "cell_type": "markdown",
   "metadata": {},
   "source": [
    "#1. https://python-forum.io/Thread-Sinus-Approx"
   ]
  },
  {
   "cell_type": "code",
   "execution_count": 5,
   "metadata": {},
   "outputs": [],
   "source": [
    "from math import sin\n",
    "\n",
    "def sine_approx(x, degree=5):\n",
    "    \"\"\"Sine approximation using Tailor series.\n",
    "    \n",
    "    Parameters\n",
    "    ==========\n",
    "    \n",
    "        :param x: some explanation\n",
    "        :param degree: some explanation\n",
    "    \n",
    "    \"\"\"\n",
    "    fact = 1\n",
    "    res = 0\n",
    "    for i in range(1, degree):\n",
    "        fact *= i\n",
    "        if i % 2 !=0:\n",
    "            res += (-1)**((i + 1)/2 + 1)*x**i / fact\n",
    "    return res\n"
   ]
  },
  {
   "cell_type": "markdown",
   "metadata": {},
   "source": [
    "#2. https://python-forum.io/Thread-In-linear-time-find-the-maximum-sum-of-all-possible-contiguous-subarrays"
   ]
  },
  {
   "cell_type": "code",
   "execution_count": 32,
   "metadata": {},
   "outputs": [],
   "source": [
    "def max_cont(l):\n",
    "    # edges:\n",
    "    if all(item > 0 for item in l):\n",
    "        return sum(l)\n",
    "    \n",
    "    if all(item < 0 for item in l):\n",
    "        return max(l)\n",
    "    \n",
    "    mm = right = 0\n",
    "    for i in range(len(l)):\n",
    "        right += l[i]\n",
    "        if right > mm:\n",
    "            mm = right\n",
    "        if right < 0:\n",
    "            right = 0\n",
    "    return mm\n",
    "\n",
    "\n",
    "def max_cont2(l):\n",
    "    mv = 0\n",
    "    sv = 0\n",
    "    best = 0\n",
    "    for b in range(len(l)):\n",
    "        sv += l[b]\n",
    "        mv = min(mv, sv)\n",
    "        best = max(best, sv - mv)\n",
    "        print(\"mv=\", mv, \"sv=\", sv, \"best=\", best)\n",
    "    return best\n"
   ]
  },
  {
   "cell_type": "markdown",
   "metadata": {},
   "source": [
    "#3. https://python-forum.io/Thread-Help-to-reduce-time-to-execute-the-code"
   ]
  },
  {
   "cell_type": "code",
   "execution_count": 22,
   "metadata": {},
   "outputs": [
    {
     "name": "stdout",
     "output_type": "stream",
     "text": [
      "(8000, 3)\n"
     ]
    },
    {
     "ename": "NameError",
     "evalue": "name 'sdf' is not defined",
     "output_type": "error",
     "traceback": [
      "\u001b[0;31m---------------------------------------------------------------------------\u001b[0m",
      "\u001b[0;31mNameError\u001b[0m                                 Traceback (most recent call last)",
      "\u001b[0;32m<ipython-input-22-76d9bb5b97f0>\u001b[0m in \u001b[0;36m<module>\u001b[0;34m\u001b[0m\n\u001b[1;32m     48\u001b[0m \u001b[0mB_point\u001b[0m\u001b[0;34m=\u001b[0m\u001b[0mnp\u001b[0m\u001b[0;34m.\u001b[0m\u001b[0mempty\u001b[0m\u001b[0;34m(\u001b[0m\u001b[0;34m(\u001b[0m\u001b[0;36m1\u001b[0m\u001b[0;34m,\u001b[0m\u001b[0;36m3\u001b[0m\u001b[0;34m)\u001b[0m\u001b[0;34m,\u001b[0m\u001b[0mfloat\u001b[0m\u001b[0;34m)\u001b[0m\u001b[0;34m\u001b[0m\u001b[0;34m\u001b[0m\u001b[0m\n\u001b[1;32m     49\u001b[0m \u001b[0mprint\u001b[0m\u001b[0;34m(\u001b[0m\u001b[0mpos_vec\u001b[0m\u001b[0;34m.\u001b[0m\u001b[0mshape\u001b[0m\u001b[0;34m)\u001b[0m\u001b[0;34m\u001b[0m\u001b[0;34m\u001b[0m\u001b[0m\n\u001b[0;32m---> 50\u001b[0;31m \u001b[0msdf\u001b[0m\u001b[0;34m\u001b[0m\u001b[0;34m\u001b[0m\u001b[0m\n\u001b[0m\u001b[1;32m     51\u001b[0m \u001b[0;32mfor\u001b[0m \u001b[0mr_end\u001b[0m \u001b[0;32min\u001b[0m \u001b[0mpos_vec\u001b[0m\u001b[0;34m:\u001b[0m\u001b[0;34m\u001b[0m\u001b[0;34m\u001b[0m\u001b[0m\n\u001b[1;32m     52\u001b[0m     \u001b[0mB_dl\u001b[0m\u001b[0;34m*=\u001b[0m\u001b[0;36m0.0\u001b[0m\u001b[0;34m\u001b[0m\u001b[0;34m\u001b[0m\u001b[0m\n",
      "\u001b[0;31mNameError\u001b[0m: name 'sdf' is not defined"
     ]
    }
   ],
   "source": [
    "import numpy as np\n",
    "from scipy.spatial import distance_matrix\n",
    "  \n",
    "import time\n",
    "  \n",
    "t1=time.time()\n",
    "n=20\n",
    "# -------------- Poisition point of grid------------\n",
    "x = np.array(np.linspace(-1,1,n))\n",
    "y = np.array(np.linspace(-1,1,n))\n",
    "z = np.array(np.linspace(-1,1,n))\n",
    "  \n",
    "X,Y,Z=np.meshgrid(x,y,z)\n",
    "#----Making array of position vector in calculation grid space-----------\n",
    "pos_vec=np.transpose([np.repeat(x,len(z)*len(y)),np.tile(np.repeat(y,len(z)),len(x)),np.tile(z,len(x)*len(y))])\n",
    "#   -------- Position Points of Loop------------\n",
    "t=np.linspace(0,1,n) # n-points of wire loop in XY plane \n",
    "x_loop=np.sin(2*np.pi*t)\n",
    "y_loop=np.cos(2*np.pi*t)\n",
    "z_loop=np.zeros(n)\n",
    "loop_vec=np.transpose([x_loop,y_loop,z_loop])\n",
    "# ----------- length of dl and mid point of dl-----------\n",
    "p_source=np.empty((n,3),float)\n",
    "dl=np.empty((n,3),float)\n",
    "for i in range(0,n-1):\n",
    "    p_source[i]=((loop_vec[i+1,:]+loop_vec[i,:])/2) # position of Delta-1 (mid-point)\n",
    "    dl[i]=(loop_vec[i+1,:]-loop_vec[i,:])          # Delta-1 vector\n",
    "    \n",
    "R_vec=(distance_matrix(loop_vec,pos_vec)) # data set having four array, each is distance (r) from each dl point to all other points in space grid\n",
    "R_4point_loop=np.transpose(R_vec) # Set of four r's from four dl point to a single calculation point \n",
    "\n",
    "#################Functions ############################\n",
    "###### Normalized Vector (Unit Vector function)########\n",
    "def normalize(v):\n",
    "    norm=np.linalg.norm(v, ord=1)\n",
    "    if norm==0:\n",
    "        norm=np.finfo(v.dtype).eps\n",
    "    return v/norm\n",
    "###### Calculating B-field ############################\n",
    "def B(dl,r_pos,r):\n",
    "    i = 1                                          #Amps in the wire\n",
    "    mu = 1.26 * 10**(-6)                            #Magnetic constant\n",
    "    return ((mu/(2*np.pi))*(i/r**3))*np.cross(normalize(dl),normalize(r_pos)) #Magnitude of the vector B\n",
    "  \n",
    "# -------- Making empty vectors---------\n",
    "B_total=np.empty((len(x)*len(y)*len(z),3),dtype=float)\n",
    "B_dl=np.empty((n,3),float)\n",
    "B_point=np.empty((1,3),float)\n",
    "print(pos_vec.shape)\n",
    "sdf\n",
    "for r_end in pos_vec:\n",
    "    B_dl*=0.0\n",
    "    B_point*=0.0\n",
    "    s=0\n",
    "    for i in range(n):\n",
    "        B_dl[i]=np.array(B(dl[i],r_end,R_4point_loop[i][s]))\n",
    "        s+=1\n",
    "        B_point+=B_dl[i]\n",
    "    B_total[s]=B_point\n",
    "             \n",
    "# Three components of data\n",
    "x_bfield=B_total[:,0].reshape(X.shape)\n",
    "y_bfield=B_total[:,1].reshape(X.shape)\n",
    "z_bfield=B_total[:,2].reshape(X.shape)\n",
    "t2=time.time()\n",
    "Elapsed=float(str(t2-t1))\n",
    "print(\"Time of excecution (s):%.4f\"%Elapsed)"
   ]
  },
  {
   "cell_type": "markdown",
   "metadata": {},
   "source": [
    "4. https://python-forum.io/Thread-Iterate-over-data-and-sum"
   ]
  },
  {
   "cell_type": "code",
   "execution_count": 23,
   "metadata": {},
   "outputs": [
    {
     "name": "stderr",
     "output_type": "stream",
     "text": [
      "/home/dmitry/.pyenv/versions/3.7.4/envs/sci/lib/python3.7/site-packages/pandas/compat/__init__.py:84: UserWarning: Could not import the lzma module. Your installed Python is incomplete. Attempting to use lzma compression will result in a RuntimeError.\n",
      "  warnings.warn(msg)\n",
      "/home/dmitry/.pyenv/versions/3.7.4/envs/sci/lib/python3.7/site-packages/pandas/compat/__init__.py:84: UserWarning: Could not import the lzma module. Your installed Python is incomplete. Attempting to use lzma compression will result in a RuntimeError.\n",
      "  warnings.warn(msg)\n"
     ]
    }
   ],
   "source": [
    "import pandas as pd"
   ]
  },
  {
   "cell_type": "code",
   "execution_count": 30,
   "metadata": {},
   "outputs": [],
   "source": [
    "df = pd.DataFrame({'x': ['one', 'one', 'two', 'three', 'three', 'three'], 'y': [1,2,3,4,5,6]})\n",
    "df.groupby('x').sum()"
   ]
  },
  {
   "cell_type": "markdown",
   "metadata": {},
   "source": [
    "5. https://python-forum.io/Thread-How-to-invert-pixel-numbers-of-MNIST-data-set"
   ]
  },
  {
   "cell_type": "code",
   "execution_count": 26,
   "metadata": {},
   "outputs": [
    {
     "data": {
      "image/png": "[encoded data removed]",
      "text/plain": [
       "<Figure size 432x288 with 1 Axes>"
      ]
     },
     "metadata": {
      "needs_background": "light"
     },
     "output_type": "display_data"
    }
   ],
   "source": [
    "import pandas as pd\n",
    "import numpy as np\n",
    "import matplotlib.pyplot as plt\n",
    "data=pd.read_csv(\"https://raw.githubusercontent.com/sjwhitworth/golearn/master/examples/datasets/mnist_train.csv\")\n",
    "data.values[:, 1:] = np.abs(data.values[:, 1:] - 255)  # color inversion\n",
    "x=data.values[-1, 1:]\n",
    "plt.imshow(x.reshape(28, 28), cmap='gray')\n",
    "plt.show()"
   ]
  },
  {
   "cell_type": "markdown",
   "metadata": {},
   "source": [
    "6. https://python-forum.io/Thread-Sum-two-list-in-class"
   ]
  },
  {
   "cell_type": "code",
   "execution_count": 4,
   "metadata": {},
   "outputs": [],
   "source": [
    "class MyList(list):\n",
    "  def __add__(self, other):\n",
    "    if len(self)!= len(other):\n",
    "        raise ValueError(\"Lists have different sizes. \")\n",
    "    else:\n",
    "        return MyList(a + b for a, b in zip(self, other))\n"
   ]
  },
  {
   "cell_type": "code",
   "execution_count": 6,
   "metadata": {},
   "outputs": [
    {
     "data": {
      "text/plain": [
       "[2, 5, 11]"
      ]
     },
     "execution_count": 6,
     "metadata": {},
     "output_type": "execute_result"
    }
   ],
   "source": [
    "MyList([1,2,3]) + MyList([1,3,8])"
   ]
  },
  {
   "cell_type": "markdown",
   "metadata": {},
   "source": [
    "7. https://python-forum.io/Thread-How-do-I-get-the-tangent-of-a-degree#message"
   ]
  },
  {
   "cell_type": "code",
   "execution_count": 1,
   "metadata": {},
   "outputs": [],
   "source": [
    "import math"
   ]
  },
  {
   "cell_type": "code",
   "execution_count": 4,
   "metadata": {},
   "outputs": [
    {
     "data": {
      "text/plain": [
       "True"
      ]
     },
     "execution_count": 4,
     "metadata": {},
     "output_type": "execute_result"
    }
   ],
   "source": [
    "math.radians(10) == 10 / 180 * math.pi"
   ]
  },
  {
   "cell_type": "markdown",
   "metadata": {},
   "source": [
    "8. https://python-forum.io/Thread-CVS-file-to-EXCEL"
   ]
  },
  {
   "cell_type": "code",
   "execution_count": 6,
   "metadata": {},
   "outputs": [],
   "source": [
    "import pandas as pd"
   ]
  },
  {
   "cell_type": "code",
   "execution_count": 7,
   "metadata": {},
   "outputs": [],
   "source": [
    "x = pd.DataFrame(pd.np.random.rand(100, 10))"
   ]
  },
  {
   "cell_type": "code",
   "execution_count": 15,
   "metadata": {},
   "outputs": [
    {
     "name": "stdout",
     "output_type": "stream",
     "text": [
      "(49, 10) False\n",
      "(51, 10) True\n"
     ]
    }
   ],
   "source": [
    "for gr, d in x.groupby(x.iloc[:,9]>0.5):\n",
    "    print(d.shape, gr)"
   ]
  }
 ],
 "metadata": {
  "kernelspec": {
   "display_name": "Python 3",
   "language": "python",
   "name": "python3"
  },
  "language_info": {
   "codemirror_mode": {
    "name": "ipython",
    "version": 3
   },
   "file_extension": ".py",
   "mimetype": "text/x-python",
   "name": "python",
   "nbconvert_exporter": "python",
   "pygments_lexer": "ipython3",
   "version": "3.7.3"
  }
 },
 "nbformat": 4,
 "nbformat_minor": 2
}
